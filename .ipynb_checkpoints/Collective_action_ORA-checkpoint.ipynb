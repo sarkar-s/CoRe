{
 "cells": [
  {
   "cell_type": "markdown",
   "id": "3c21a51a",
   "metadata": {},
   "source": [
    "# Collective action ORA"
   ]
  },
  {
   "cell_type": "code",
   "execution_count": 1,
   "id": "ee0eb629",
   "metadata": {},
   "outputs": [],
   "source": [
    "import os\n",
    "from json import dumps\n",
    "import logging\n",
    "import pandas as pd\n",
    "import numpy as np\n",
    "import math\n",
    "import json\n",
    "from tqdm.notebook import tqdm\n",
    "import copy\n",
    "\n",
    "from scipy.stats import hypergeom as hg\n",
    "\n",
    "import matplotlib.pyplot as plt\n",
    "from matplotlib import cm\n",
    "\n",
    "#from scipy.stats import hypergeom as hg\n",
    "import statsmodels.stats as sts\n",
    "\n",
    "from CoRe import reader, fnGO\n",
    "#from multipy.fdr import qvalue\n",
    "\n",
    "import random as rand"
   ]
  },
  {
   "cell_type": "code",
   "execution_count": 2,
   "id": "56b07245",
   "metadata": {},
   "outputs": [],
   "source": [
    "def sample_set(dropout_dict):\n",
    "    selected_set = []\n",
    "    \n",
    "    for gene in dropout_dict.keys():\n",
    "        xi = rand.uniform(1,0)\n",
    "        \n",
    "        if xi>dropout_dict[gene]:\n",
    "            selected_set.append(gene)\n",
    "            \n",
    "    selected_set = pd.DataFrame(selected_set,columns=None)\n",
    "            \n",
    "    return selected_set"
   ]
  },
  {
   "cell_type": "markdown",
   "id": "d5fa640d",
   "metadata": {},
   "source": [
    "**Read the gene sets and determine the list of unique genes**"
   ]
  },
  {
   "cell_type": "code",
   "execution_count": 3,
   "id": "d986fda2",
   "metadata": {},
   "outputs": [
    {
     "name": "stdout",
     "output_type": "stream",
     "text": [
      "Total gene sets:  7481\n",
      "Total unique genes:  17949\n"
     ]
    }
   ],
   "source": [
    "go_directory = \"./Examples/GO_sets\"\n",
    "os.chdir(go_directory)\n",
    "\n",
    "f = open(('GO_BPs.json'))\n",
    "GO_BPs = json.load(f)\n",
    "f.close()\n",
    "\n",
    "GO_BPs_set = {}\n",
    "GO_BPs_count = {}\n",
    "\n",
    "for bp in GO_BPs.keys():\n",
    "    GO_BPs_set[bp] = set(GO_BPs[bp])\n",
    "    \n",
    "    GO_BPs[bp] = pd.DataFrame(GO_BPs[bp])\n",
    "    GO_BPs_count[bp] = len(GO_BPs[bp])\n",
    "\n",
    "total_gene_set = pd.read_csv('all_unique_genes.csv',header=None)[0].to_list()\n",
    "total_genes = len(total_gene_set)\n",
    "\n",
    "print('Total gene sets: ',len(list(GO_BPs.keys())))\n",
    "print('Total unique genes: ',total_genes)\n",
    "\n",
    "wf = open('BP_embedding.csv')\n",
    "all_lines = wf.readlines()\n",
    "wf.close()\n",
    "\n",
    "embed_idx = {}\n",
    "\n",
    "for l in all_lines:\n",
    "    all_values = l.rstrip('\\r\\n').split(',')\n",
    "\n",
    "    embed_idx[int(all_values[0])] = []\n",
    "\n",
    "    for k in all_values[1:]:\n",
    "        embed_idx[int(all_values[0])].append(int(k))\n",
    "        \n",
    "bp_names = pd.read_csv('GOBP_list.csv',header=None)[0].to_list()"
   ]
  },
  {
   "cell_type": "markdown",
   "id": "33b7a16f",
   "metadata": {},
   "source": [
    "Read the set of genes that have direct protein-protein interactions with SARS-CoV-2 proteins, and read the set of gene that are both directly interacting or indirectly receiving information about the SARS-CoV-2 proteins."
   ]
  },
  {
   "cell_type": "code",
   "execution_count": 2,
   "id": "7c04c0c7",
   "metadata": {},
   "outputs": [],
   "source": [
    "selected_pathway = 'Immune System'\n",
    "pathway_nametag = selected_pathway.replace(' ','_')\n",
    "\n",
    "network_type = 'medium-PPI'\n",
    "network_label = 'medium'\n",
    "state_type = 'maxEnt'\n",
    "\n",
    "data_directory = \"/Users/swarnavo/CodeX/CoRe/Examples/\"+pathway_nametag\n",
    "os.chdir(data_directory)\n",
    "\n",
    "direct_interaction_set = reader.read_interactions_for_GO('SARS_CoV2-'+pathway_nametag+'_interactions.json')\n",
    "\n",
    "data_directory = \"/Users/swarnavo/CodeX/CoRe/Examples/collective_action\"\n",
    "os.chdir(data_directory)\n",
    "communicated_genes = pd.read_csv('collectively_communicated_proteins.csv')"
   ]
  },
  {
   "cell_type": "code",
   "execution_count": 5,
   "id": "3f62f8c8",
   "metadata": {},
   "outputs": [],
   "source": [
    "threshold = 0.01\n",
    "\n",
    "communicated_genes = communicated_genes[communicated_genes['Relative entropy (bits)']>=threshold]"
   ]
  },
  {
   "cell_type": "code",
   "execution_count": 6,
   "id": "86aabe43",
   "metadata": {},
   "outputs": [],
   "source": [
    "directly_affected_genes = []\n",
    "\n",
    "for n in list(direct_interaction_set):\n",
    "    directly_affected_genes += direct_interaction_set[n][0].to_list()\n",
    "    \n",
    "directly_affected_genes = list(set(directly_affected_genes))"
   ]
  },
  {
   "cell_type": "code",
   "execution_count": 7,
   "id": "0742ef99",
   "metadata": {},
   "outputs": [],
   "source": [
    "data = {}\n",
    "\n",
    "data[0] = directly_affected_genes + communicated_genes['Gene'].to_list()\n",
    "\n",
    "total_affected_genes = {}\n",
    "total_affected_genes['collective_action'] = set(data[0])#pd.DataFrame.from_dict(data)"
   ]
  },
  {
   "cell_type": "code",
   "execution_count": 8,
   "id": "910c4ebc",
   "metadata": {},
   "outputs": [],
   "source": [
    "go_tags, go_names, p_values = fnGO.compute_p_values(['collective_action'],GO_BPs_set,total_affected_genes,total_genes)#,size_threshold=gene_set_cutoff)"
   ]
  },
  {
   "cell_type": "code",
   "execution_count": 9,
   "id": "f547ff28",
   "metadata": {},
   "outputs": [],
   "source": [
    "data_dict = {}\n",
    "\n",
    "data_dict['go_tags'] = go_tags['collective_action']\n",
    "data_dict['go_names'] = go_names['collective_action']\n",
    "data_dict['p_values'] = p_values['collective_action']\n",
    "\n",
    "data = pd.DataFrame(data_dict)\n",
    "\n",
    "data.to_csv('all_nontrivial_GOBPs0.01.csv',index=None)"
   ]
  },
  {
   "cell_type": "code",
   "execution_count": 10,
   "id": "796192a4",
   "metadata": {},
   "outputs": [],
   "source": [
    "go_tags, go_names, q_values = fnGO.compute_q_values(p_values['collective_action'],go_names['collective_action'],go_tags['collective_action'],alpha=0.01)"
   ]
  },
  {
   "cell_type": "code",
   "execution_count": null,
   "id": "e40d258b",
   "metadata": {},
   "outputs": [],
   "source": [
    "for a,b in zip(go_names,q_values):\n",
    "    print(a,b)"
   ]
  },
  {
   "cell_type": "code",
   "execution_count": 11,
   "id": "cd3afda7",
   "metadata": {},
   "outputs": [],
   "source": [
    "go_idx = []\n",
    "\n",
    "for go in go_tags:\n",
    "    go_idx.append(bp_names.index(go))"
   ]
  },
  {
   "cell_type": "code",
   "execution_count": 12,
   "id": "6d20a966",
   "metadata": {},
   "outputs": [],
   "source": [
    "idx_to_remove = []\n",
    "    \n",
    "k = 0\n",
    "\n",
    "for ii in go_idx:\n",
    "    idx_copy = copy.deepcopy(go_idx)\n",
    "    idx_copy.remove(ii)\n",
    "\n",
    "    d1 = pd.DataFrame(embed_idx[ii])\n",
    "    d2 = pd.DataFrame(idx_copy)\n",
    "\n",
    "    if len(d1)>0 and len(d2)>0:\n",
    "        intersection = pd.merge(d1, d2, how='inner').drop_duplicates([0])\n",
    "        len_intersection = int(intersection[0].count())\n",
    "\n",
    "        if len_intersection>0:\n",
    "            idx_to_remove.append(k)\n",
    "\n",
    "    k += 1"
   ]
  },
  {
   "cell_type": "code",
   "execution_count": 13,
   "id": "dd976a98",
   "metadata": {},
   "outputs": [],
   "source": [
    "if len(go_names)>0:\n",
    "    idx_to_remove.reverse()\n",
    "\n",
    "    q_list = q_values.tolist()\n",
    "\n",
    "    for k in idx_to_remove:\n",
    "        go_names.pop(k)\n",
    "        go_tags.pop(k)\n",
    "        q_list.pop()\n",
    "\n",
    "q_values = np.array(q_list)"
   ]
  },
  {
   "cell_type": "code",
   "execution_count": 14,
   "id": "257b5d53",
   "metadata": {},
   "outputs": [],
   "source": [
    "data_dict = {}\n",
    "\n",
    "data_dict['go_tags'] = go_tags\n",
    "data_dict['go_names'] = go_names\n",
    "data_dict['q_values'] = q_list\n",
    "\n",
    "data = pd.DataFrame(data_dict)"
   ]
  },
  {
   "cell_type": "code",
   "execution_count": 15,
   "id": "3f6baabd",
   "metadata": {},
   "outputs": [],
   "source": [
    "data.to_csv('collectively_activated_GOBPs0.01.csv',index=None)"
   ]
  },
  {
   "cell_type": "code",
   "execution_count": 16,
   "id": "f4ecb3ea",
   "metadata": {},
   "outputs": [
    {
     "name": "stdout",
     "output_type": "stream",
     "text": [
      "117\n"
     ]
    }
   ],
   "source": [
    "print(len(go_names))"
   ]
  },
  {
   "cell_type": "markdown",
   "id": "64d2adf5",
   "metadata": {},
   "source": [
    "**Only to compare with SARS-CoV-2 BPs**"
   ]
  },
  {
   "cell_type": "code",
   "execution_count": null,
   "id": "5e8f07a1",
   "metadata": {},
   "outputs": [],
   "source": [
    "ref_data = pd.read_csv('collectively_activated_GOBPs0.1.csv')"
   ]
  },
  {
   "cell_type": "code",
   "execution_count": null,
   "id": "c2defe0d",
   "metadata": {},
   "outputs": [],
   "source": [
    "selected_go_tags = []\n",
    "selected_go_names = []\n",
    "selected_q_values = []\n",
    "\n",
    "for gt, gn in zip(ref_data['go_tags'],ref_data['go_names']):\n",
    "    try:\n",
    "        idx = go_tags.index(gt)\n",
    "        \n",
    "        selected_go_tags.append(gt)\n",
    "        selected_go_names.append(gn)\n",
    "        selected_q_values.append(q_values[idx])\n",
    "    except ValueError:\n",
    "        selected_go_tags.append(gt)\n",
    "        selected_go_names.append(gn)\n",
    "        selected_q_values.append(1)"
   ]
  },
  {
   "cell_type": "code",
   "execution_count": null,
   "id": "f85552c5",
   "metadata": {},
   "outputs": [],
   "source": [
    "data_dict = {}\n",
    "\n",
    "data_dict['go_tags'] = selected_go_tags\n",
    "data_dict['go_names'] = selected_go_names\n",
    "data_dict['q_values'] = selected_q_values\n",
    "\n",
    "data = pd.DataFrame(data_dict)\n",
    "\n",
    "data.to_csv('collectively_activated_GOBPs0.1-PSMB8.csv',index=None)"
   ]
  },
  {
   "cell_type": "code",
   "execution_count": 12,
   "id": "69a3003e",
   "metadata": {},
   "outputs": [],
   "source": [
    "df = pd.read_csv('collectively_activated_GOBPs0.01-IFITM3.csv')"
   ]
  },
  {
   "cell_type": "code",
   "execution_count": 13,
   "id": "5cdb8ffa",
   "metadata": {},
   "outputs": [],
   "source": [
    "df = df.loc[df['q_values'] < 0.05]"
   ]
  },
  {
   "cell_type": "code",
   "execution_count": 14,
   "id": "466f5f03",
   "metadata": {},
   "outputs": [
    {
     "name": "stdout",
     "output_type": "stream",
     "text": [
      "                                               go_tags  \\\n",
      "0                            GOBP_RESPONSE_TO_CYTOKINE   \n",
      "1                     GOBP_RESPONSE_TO_BIOTIC_STIMULUS   \n",
      "2                                GOBP_DEFENSE_RESPONSE   \n",
      "3                         GOBP_IMMUNE_EFFECTOR_PROCESS   \n",
      "4    GOBP_PROTEIN_MODIFICATION_BY_SMALL_PROTEIN_CON...   \n",
      "5             GOBP_REGULATION_OF_IMMUNE_SYSTEM_PROCESS   \n",
      "6                                 GOBP_CELL_ACTIVATION   \n",
      "7                             GOBP_CYTOKINE_PRODUCTION   \n",
      "8     GOBP_REGULATION_OF_RESPONSE_TO_EXTERNAL_STIMULUS   \n",
      "9    GOBP_BIOLOGICAL_PROCESS_INVOLVED_IN_SYMBIOTIC_...   \n",
      "10               GOBP_REGULATION_OF_RESPONSE_TO_STRESS   \n",
      "11                       GOBP_ADAPTIVE_IMMUNE_RESPONSE   \n",
      "13            GOBP_I_KAPPAB_KINASE_NF_KAPPAB_SIGNALING   \n",
      "16                                   GOBP_CELL_KILLING   \n",
      "18   GOBP_REGULATION_OF_DNA_BINDING_TRANSCRIPTION_F...   \n",
      "19                        GOBP_HUMORAL_IMMUNE_RESPONSE   \n",
      "20   GOBP_PATTERN_RECOGNITION_RECEPTOR_SIGNALING_PA...   \n",
      "21                      GOBP_IMMUNE_SYSTEM_DEVELOPMENT   \n",
      "22            GOBP_ANTIGEN_PROCESSING_AND_PRESENTATION   \n",
      "23               GOBP_POSITIVE_REGULATION_OF_SIGNALING   \n",
      "24   GOBP_POSITIVE_REGULATION_OF_MULTICELLULAR_ORGA...   \n",
      "25                                      GOBP_SECRETION   \n",
      "26         GOBP_POSITIVE_REGULATION_OF_GENE_EXPRESSION   \n",
      "27                              GOBP_APOPTOTIC_PROCESS   \n",
      "28                       GOBP_REGULATION_OF_CELL_DEATH   \n",
      "31   GOBP_REGULATION_OF_INTRACELLULAR_SIGNAL_TRANSD...   \n",
      "32      GOBP_POSITIVE_REGULATION_OF_MOLECULAR_FUNCTION   \n",
      "34    GOBP_NEGATIVE_REGULATION_OF_RESPONSE_TO_STIMULUS   \n",
      "36                            GOBP_BIOLOGICAL_ADHESION   \n",
      "37                  GOBP_CELL_POPULATION_PROLIFERATION   \n",
      "39   GOBP_PRODUCTION_OF_MOLECULAR_MEDIATOR_OF_IMMUN...   \n",
      "44   GOBP_NEGATIVE_REGULATION_OF_MULTICELLULAR_ORGA...   \n",
      "48         GOBP_PROCESS_UTILIZING_AUTOPHAGIC_MECHANISM   \n",
      "56                                   GOBP_PHAGOCYTOSIS   \n",
      "58   GOBP_REGULATION_OF_MULTICELLULAR_ORGANISMAL_DE...   \n",
      "59             GOBP_REGULATION_OF_PROTEIN_LOCALIZATION   \n",
      "63    GOBP_REACTIVE_NITROGEN_SPECIES_METABOLIC_PROCESS   \n",
      "65   GOBP_REGULATION_OF_DNA_TEMPLATED_TRANSCRIPTION...   \n",
      "68                        GOBP_REGULATION_OF_TRANSPORT   \n",
      "71                 GOBP_PROTEIN_O_LINKED_GLYCOSYLATION   \n",
      "73               GOBP_REGULATION_OF_HYDROLASE_ACTIVITY   \n",
      "74                            GOBP_NECROTIC_CELL_DEATH   \n",
      "83      GOBP_REACTIVE_OXYGEN_SPECIES_METABOLIC_PROCESS   \n",
      "94                                    GOBP_ENDOCYTOSIS   \n",
      "115                             GOBP_PROTEIN_REFOLDING   \n",
      "\n",
      "                                              go_names       q_values  \n",
      "0                                 RESPONSE TO CYTOKINE   9.639893e-86  \n",
      "1                          RESPONSE TO BIOTIC STIMULUS  8.444240e-110  \n",
      "2                                     DEFENSE RESPONSE  6.180915e-108  \n",
      "3                              IMMUNE EFFECTOR PROCESS   2.066582e-77  \n",
      "4    PROTEIN MODIFICATION BY SMALL PROTEIN CONJUGAT...   3.381208e-07  \n",
      "5                  REGULATION OF IMMUNE SYSTEM PROCESS   5.366341e-54  \n",
      "6                                      CELL ACTIVATION   2.149929e-32  \n",
      "7                                  CYTOKINE PRODUCTION   5.719616e-24  \n",
      "8          REGULATION OF RESPONSE TO EXTERNAL STIMULUS   6.488289e-28  \n",
      "9    BIOLOGICAL PROCESS INVOLVED IN SYMBIOTIC INTER...   5.949627e-39  \n",
      "10                    REGULATION OF RESPONSE TO STRESS   9.449465e-22  \n",
      "11                            ADAPTIVE IMMUNE RESPONSE   3.648346e-18  \n",
      "13                 I KAPPAB KINASE NF KAPPAB SIGNALING   1.280564e-18  \n",
      "16                                        CELL KILLING   2.420018e-15  \n",
      "18   REGULATION OF DNA BINDING TRANSCRIPTION FACTOR...   4.862991e-08  \n",
      "19                             HUMORAL IMMUNE RESPONSE   9.292433e-09  \n",
      "20      PATTERN RECOGNITION RECEPTOR SIGNALING PATHWAY   2.727599e-08  \n",
      "21                           IMMUNE SYSTEM DEVELOPMENT   1.431644e-05  \n",
      "22                 ANTIGEN PROCESSING AND PRESENTATION   6.459206e-20  \n",
      "23                    POSITIVE REGULATION OF SIGNALING   1.978390e-09  \n",
      "24   POSITIVE REGULATION OF MULTICELLULAR ORGANISMA...   1.037810e-08  \n",
      "25                                           SECRETION   4.917975e-15  \n",
      "26              POSITIVE REGULATION OF GENE EXPRESSION   4.380490e-09  \n",
      "27                                   APOPTOTIC PROCESS   4.524738e-04  \n",
      "28                            REGULATION OF CELL DEATH   4.429533e-03  \n",
      "31     REGULATION OF INTRACELLULAR SIGNAL TRANSDUCTION   2.098533e-06  \n",
      "32           POSITIVE REGULATION OF MOLECULAR FUNCTION   1.966728e-04  \n",
      "34         NEGATIVE REGULATION OF RESPONSE TO STIMULUS   2.728006e-03  \n",
      "36                                 BIOLOGICAL ADHESION   1.718762e-07  \n",
      "37                       CELL POPULATION PROLIFERATION   7.034730e-03  \n",
      "39   PRODUCTION OF MOLECULAR MEDIATOR OF IMMUNE RES...   4.369257e-07  \n",
      "44   NEGATIVE REGULATION OF MULTICELLULAR ORGANISMA...   1.623267e-03  \n",
      "48              PROCESS UTILIZING AUTOPHAGIC MECHANISM   6.691403e-05  \n",
      "56                                        PHAGOCYTOSIS   2.960354e-03  \n",
      "58   REGULATION OF MULTICELLULAR ORGANISMAL DEVELOP...   1.771690e-03  \n",
      "59                  REGULATION OF PROTEIN LOCALIZATION   2.922396e-05  \n",
      "63         REACTIVE NITROGEN SPECIES METABOLIC PROCESS   4.314581e-03  \n",
      "65   REGULATION OF DNA TEMPLATED TRANSCRIPTION IN R...   5.954548e-03  \n",
      "68                             REGULATION OF TRANSPORT   1.384122e-03  \n",
      "71                      PROTEIN O LINKED GLYCOSYLATION   5.329969e-13  \n",
      "73                    REGULATION OF HYDROLASE ACTIVITY   8.396293e-03  \n",
      "74                                 NECROTIC CELL DEATH   2.266879e-04  \n",
      "83           REACTIVE OXYGEN SPECIES METABOLIC PROCESS   8.140013e-03  \n",
      "94                                         ENDOCYTOSIS   3.575742e-03  \n",
      "115                                  PROTEIN REFOLDING   1.885776e-03  \n"
     ]
    }
   ],
   "source": [
    "print(df)"
   ]
  },
  {
   "cell_type": "code",
   "execution_count": 15,
   "id": "c59643c2",
   "metadata": {},
   "outputs": [
    {
     "name": "stdout",
     "output_type": "stream",
     "text": [
      "45\n"
     ]
    }
   ],
   "source": [
    "print(len(df['q_values'].to_list()))"
   ]
  },
  {
   "cell_type": "code",
   "execution_count": null,
   "id": "75b73372",
   "metadata": {},
   "outputs": [],
   "source": []
  }
 ],
 "metadata": {
  "kernelspec": {
   "display_name": "Python 3 (ipykernel)",
   "language": "python",
   "name": "python3"
  },
  "language_info": {
   "codemirror_mode": {
    "name": "ipython",
    "version": 3
   },
   "file_extension": ".py",
   "mimetype": "text/x-python",
   "name": "python",
   "nbconvert_exporter": "python",
   "pygments_lexer": "ipython3",
   "version": "3.9.6"
  }
 },
 "nbformat": 4,
 "nbformat_minor": 5
}
