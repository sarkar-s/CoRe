{
 "cells": [
  {
   "cell_type": "markdown",
   "metadata": {},
   "source": [
    "# Controlled protein expression efficacy"
   ]
  },
  {
   "cell_type": "markdown",
   "metadata": {},
   "source": [
    "**Computes the change in network relative entropy from viral PPIs after setting immune system proteins, one at a time, to high abundance {1,0}.**"
   ]
  },
  {
   "cell_type": "code",
   "execution_count": 1,
   "metadata": {},
   "outputs": [],
   "source": [
    "import os, sys\n",
    "import numpy as np\n",
    "import scipy as sp\n",
    "import pandas as pd\n",
    "import copy as copy\n",
    "from tqdm.notebook import tqdm\n",
    "import math\n",
    "import scipy.stats as st\n",
    "\n",
    "from CoRe import reader\n",
    "from CoRe.ncip import ncip\n",
    "from CoRe.BA_C import BA\n",
    "\n",
    "import importlib\n",
    "\n",
    "import networkx as nx\n",
    "import matplotlib.pyplot as plt\n",
    "import json\n",
    "\n",
    "from matplotlib import cm\n",
    "from matplotlib import rcParams\n",
    "import matplotlib.patches as patches"
   ]
  },
  {
   "cell_type": "code",
   "execution_count": 2,
   "metadata": {},
   "outputs": [],
   "source": [
    "data_directory = \"./Examples/Immune_System\"\n",
    "os.chdir(data_directory)\n",
    "\n",
    "edge_data = pd.read_pickle('Immune_System_medium-PPI-edges.pkl')\n",
    "node_data = pd.read_pickle('Immune_System_medium-PPI-nodes.pkl')"
   ]
  },
  {
   "cell_type": "code",
   "execution_count": 3,
   "metadata": {},
   "outputs": [],
   "source": [
    "remake_graph = False\n",
    "\n",
    "if remake_graph==False:\n",
    "    netObj = ncip()\n",
    "    netObj.load_graph('Immune_System-medium-PPI.gml')\n",
    "else:\n",
    "    netObj = ncip()\n",
    "    netObj.load_data(edge_data,node_data)\n",
    "    netObj.make_graph()\n",
    "    netObj.save_network(pathway_nametag,network_type)"
   ]
  },
  {
   "cell_type": "markdown",
   "metadata": {},
   "source": [
    "**All immune system communication network proteins that have PPI with SARS-CoV-2 proteins.**"
   ]
  },
  {
   "cell_type": "code",
   "execution_count": 4,
   "metadata": {},
   "outputs": [
    {
     "name": "stdout",
     "output_type": "stream",
     "text": [
      "['RHOA', 'SLC27A2', 'PVR', 'ELOB', 'EIF4E2', 'CYB5R3', 'NLRX1', 'RAB14', 'ECSIT', 'AP2A2', 'CSNK2B', 'HECTD1', 'ERP44', 'IL17RA', 'ITGB1', 'RALA', 'RAB10', 'NEU1', 'IMPDH2', 'TOMM70', 'GGH', 'PTGES2', 'TBK1', 'RIPK1', 'RAB7A', 'ANO6', 'HMOX1', 'SLC44A2', 'NPC2', 'RNF41', 'RAB18', 'GOLGA7', 'ELOC', 'STOM', 'RAB5C', 'GLA']\n"
     ]
    }
   ],
   "source": [
    "f = open('SARS_CoV2-Immune_System_interactions.json')\n",
    "SARS_nodes = json.load(f)\n",
    "f.close()\n",
    "\n",
    "all_sars_nodes = []\n",
    "\n",
    "for s in SARS_nodes.keys():\n",
    "    all_sars_nodes += SARS_nodes[s]\n",
    "    \n",
    "all_sars_nodes = list(set(all_sars_nodes))\n",
    "\n",
    "print(all_sars_nodes)"
   ]
  },
  {
   "cell_type": "markdown",
   "metadata": {},
   "source": [
    "**Specifying the reference state and construction of the global transition matrix.**"
   ]
  },
  {
   "cell_type": "code",
   "execution_count": 5,
   "metadata": {},
   "outputs": [
    {
     "name": "stdout",
     "output_type": "stream",
     "text": [
      "[1. 0.] [0. 1.]\n"
     ]
    }
   ],
   "source": [
    "initial_state_type = 'maxEnt'\n",
    "\n",
    "errorname = '0.0'\n",
    "rho = float(errorname)\n",
    "\n",
    "input_bits = 1\n",
    "code_length = int(2**input_bits)\n",
    "\n",
    "max_entropy_state = (1.0/float(code_length))*np.ones(shape=(code_length,))\n",
    "\n",
    "low_state = np.zeros(shape=(code_length,))\n",
    "low_state[-1] = 1.0\n",
    "\n",
    "high_state = np.zeros(shape=(code_length,))\n",
    "high_state[0] = 1.0\n",
    "\n",
    "if initial_state_type=='high':\n",
    "    initial_state = high_state\n",
    "elif initial_state_type=='low':\n",
    "    initial_state = low_state\n",
    "else:\n",
    "    initial_state = max_entropy_state\n",
    "\n",
    "print(high_state,low_state)\n",
    "\n",
    "netObj.construct_C(rho,h=input_bits,neglect_modules=[])\n",
    "node_list = list(netObj.G_d.nodes)"
   ]
  },
  {
   "cell_type": "markdown",
   "metadata": {},
   "source": [
    "**Disconnect all drugs from the network.**"
   ]
  },
  {
   "cell_type": "code",
   "execution_count": 6,
   "metadata": {},
   "outputs": [],
   "source": [
    "netObj.disconnect_drug_nodes()"
   ]
  },
  {
   "cell_type": "markdown",
   "metadata": {},
   "source": [
    "**Compute the reference stationary state of the network.**"
   ]
  },
  {
   "cell_type": "code",
   "execution_count": 7,
   "metadata": {},
   "outputs": [
    {
     "name": "stdout",
     "output_type": "stream",
     "text": [
      "Reference state relative entropy:  0.0\n"
     ]
    }
   ],
   "source": [
    "initial_network_state = np.zeros(shape=(netObj.C_sparse.shape[0],1))\n",
    "network_sources = {}\n",
    "\n",
    "for n in range(0,len(node_list)):\n",
    "    initial_network_state[code_length*n:code_length*(n+1),0] = initial_state\n",
    "    \n",
    "network_sources = []\n",
    "\n",
    "reference_final_state, steps = netObj.get_final_state(initial_network_state,[])\n",
    "reference_final_entropy = netObj.state_entropy(reference_final_state,[])\n",
    "print('Reference state relative entropy: ',reference_final_entropy)"
   ]
  },
  {
   "cell_type": "markdown",
   "metadata": {},
   "source": [
    "**Set the SARS-CoV-2 nodes in the network to low abundance.**"
   ]
  },
  {
   "cell_type": "code",
   "execution_count": 8,
   "metadata": {},
   "outputs": [
    {
     "data": {
      "application/vnd.jupyter.widget-view+json": {
       "model_id": "7b28a210b35740b683ae5ba4e3e70416",
       "version_major": 2,
       "version_minor": 0
      },
      "text/plain": [
       "  0%|          | 0/17 [00:00<?, ?it/s]"
      ]
     },
     "metadata": {},
     "output_type": "display_data"
    }
   ],
   "source": [
    "network_state = np.zeros(shape=(netObj.C_sparse.shape[0],1))\n",
    "network_sources = []\n",
    "\n",
    "for n in range(0,len(node_list)):\n",
    "    network_state[code_length*n:code_length*(n+1),0] = initial_state\n",
    "\n",
    "for k in tqdm(SARS_nodes.keys()):\n",
    "    for n in SARS_nodes[k]:\n",
    "        try:\n",
    "            i = node_list.index(n)\n",
    "\n",
    "            network_state[netObj.code_length*i:netObj.code_length*(i+1),0] = low_state\n",
    "\n",
    "            if i not in network_sources:\n",
    "                network_sources.append(i)\n",
    "        except ValueError:\n",
    "            pass"
   ]
  },
  {
   "cell_type": "markdown",
   "metadata": {},
   "source": [
    "**Relative entropy of the total network and number of steps to stationary state.**"
   ]
  },
  {
   "cell_type": "code",
   "execution_count": 9,
   "metadata": {},
   "outputs": [],
   "source": [
    "final_state, steps = netObj.get_final_state(network_state,network_sources)\n",
    "SARSCoV2_entropy = netObj.state_entropy(final_state,network_sources)"
   ]
  },
  {
   "cell_type": "markdown",
   "metadata": {},
   "source": [
    "**Compute stationary state of the network due to SARS-CoV-2 PPIs and proteins.**\n",
    "\n",
    "The proteins in the Reactome database were set to the state {1,0} to compute the stationary state, and the subsequent change in the network relative entropy."
   ]
  },
  {
   "cell_type": "code",
   "execution_count": 10,
   "metadata": {},
   "outputs": [],
   "source": [
    "node_class = nx.get_node_attributes(netObj.G_d,\"class\")\n",
    "node_n = list(netObj.G_d.nodes())\n",
    "\n",
    "c = 0\n",
    "\n",
    "for i in range(0,len(node_n)):\n",
    "    nn = node_n[i]\n",
    "    if node_class[nn]=='EntityWithAccessionedSequence':\n",
    "        relH = st.entropy(final_state[netObj.code_length*i:netObj.code_length*(i+1),0],max_entropy_state,base=2)\n",
    "        \n",
    "        if relH>0.01:\n",
    "            c += 1"
   ]
  },
  {
   "cell_type": "code",
   "execution_count": 11,
   "metadata": {},
   "outputs": [],
   "source": [
    "all_sources = []\n",
    "\n",
    "for n in netObj.G_d.nodes(data=True):\n",
    "    if n[1]['class']=='EntityWithAccessionedSequence' and n[0] not in all_sars_nodes:\n",
    "        all_sources.append((n[0],netObj.G_d.in_degree(n[0])))"
   ]
  },
  {
   "cell_type": "code",
   "execution_count": 12,
   "metadata": {},
   "outputs": [],
   "source": [
    "df_H_with_proteins = pd.DataFrame()\n",
    "df_H_drop_and_gain = pd.DataFrame()\n",
    "\n",
    "df_H_with_proteins = pd.DataFrame([],columns=['Protein', 'Relative Entropy'])\n",
    "\n",
    "df_H_drop_and_gain = pd.DataFrame([],columns=['Protein', 'Drop', 'Gain'])"
   ]
  },
  {
   "cell_type": "code",
   "execution_count": 13,
   "metadata": {},
   "outputs": [
    {
     "data": {
      "application/vnd.jupyter.widget-view+json": {
       "model_id": "16baca1a8f964723960283993fbfcaec",
       "version_major": 2,
       "version_minor": 0
      },
      "text/plain": [
       "  0%|          | 0/1122 [00:00<?, ?it/s]"
      ]
     },
     "metadata": {},
     "output_type": "display_data"
    }
   ],
   "source": [
    "for this_protein in tqdm(all_sources):\n",
    "    s = this_protein[0]\n",
    "    additional_source_nodes = [s]\n",
    "    \n",
    "    netObj.construct_C(rho,h=input_bits)\n",
    "    netObj.disconnect_nodes('ChemicalDrug',additional_source_nodes)\n",
    "    netObj.disconnect_nodes('ProteinDrug',additional_source_nodes)\n",
    "    \n",
    "    network_state = np.zeros(shape=(netObj.C_sparse.shape[0],1))\n",
    "    network_sources = []\n",
    "    \n",
    "    for n in range(0,len(node_list)):\n",
    "        network_state[code_length*n:code_length*(n+1),0] = initial_state\n",
    "\n",
    "    for k in SARS_nodes.keys():\n",
    "        for n in SARS_nodes[k]:\n",
    "            try:\n",
    "                i = node_list.index(n)\n",
    "\n",
    "                network_state[netObj.code_length*i:netObj.code_length*(i+1),0] = low_state\n",
    "\n",
    "                network_sources.append(i)\n",
    "            except ValueError:\n",
    "                pass\n",
    "\n",
    "        for n in additional_source_nodes:\n",
    "            try:\n",
    "                i = node_list.index(n)\n",
    "\n",
    "                network_state[netObj.code_length*i:netObj.code_length*(i+1),0] = high_state\n",
    "\n",
    "                network_sources.append(i)\n",
    "            except ValueError:\n",
    "                pass\n",
    "        \n",
    "    this_state, steps = netObj.get_final_state(network_state,network_sources)\n",
    "    H_with_proteins = netObj.state_entropy(this_state,network_sources)\n",
    "    H_drop, H_gain = netObj.entropy_drop_and_rise(this_state,final_state,reference_final_state,network_sources)\n",
    "                \n",
    "    df_temp = pd.DataFrame([[this_protein[0],H_with_proteins]],columns=['Protein','Relative Entropy'])\n",
    "    df_H_with_proteins = pd.concat([df_H_with_proteins,df_temp],sort=False,ignore_index=True)\n",
    "\n",
    "    df_temp = pd.DataFrame([[this_protein[0],H_drop,H_gain]],columns=['Protein', 'Drop', 'Gain'])\n",
    "    df_H_drop_and_gain = pd.concat([df_H_drop_and_gain,df_temp],sort=False,ignore_index=True)"
   ]
  },
  {
   "cell_type": "code",
   "execution_count": 14,
   "metadata": {},
   "outputs": [],
   "source": [
    "try:\n",
    "    os.chdir('./counter_entropic_shift')\n",
    "except OSError:\n",
    "    os.mkdir('./counter_entropic_shift')\n",
    "    os.chdir('./counter_entropic_shift')"
   ]
  },
  {
   "cell_type": "code",
   "execution_count": 15,
   "metadata": {},
   "outputs": [],
   "source": [
    "df_H_with_proteins = df_H_with_proteins.sort_values(by=['Relative Entropy'],ignore_index=True)"
   ]
  },
  {
   "cell_type": "code",
   "execution_count": 25,
   "metadata": {},
   "outputs": [],
   "source": [
    "#df_temp = pd.DataFrame([['Ref',SARSCoV2_entropy]],columns=['Protein','Relative Entropy'])\n",
    "#df_H_with_proteins = pd.concat([df_temp,df_H_with_proteins],sort=False,ignore_index=True)\n",
    "\n",
    "#df_H_with_proteins.to_csv('high_all_protein_shifts-'+initial_state_type+'.csv',index=False)\n",
    "\n",
    "df_H_drop_and_gain = df_H_drop_and_gain.sort_values(by=['Drop'],ascending=True,ignore_index=True)\n",
    "df_H_drop_and_gain.to_csv('split_all_high_protein_shifts-'+initial_state_type+'.csv',index=False)"
   ]
  },
  {
   "cell_type": "code",
   "execution_count": 26,
   "metadata": {},
   "outputs": [],
   "source": [
    "c_high = df_H_with_proteins['Relative Entropy'][1:] - SARSCoV2_entropy\n",
    "r_min, r_max = np.min(c_high), np.max(c_high)\n",
    "max_r = max(abs(r_min),abs(r_max))\n",
    "v_min, v_max = -abs(r_min), abs(r_min)"
   ]
  },
  {
   "cell_type": "markdown",
   "metadata": {},
   "source": [
    "**Immune system proteins ranked by $\\Delta H_{\\mathrm{ref}}(X)$.**"
   ]
  },
  {
   "cell_type": "code",
   "execution_count": 27,
   "metadata": {},
   "outputs": [
    {
     "data": {
      "image/png": "[encoded data removed]",
      "text/plain": [
       "<Figure size 576x432 with 2 Axes>"
      ]
     },
     "metadata": {
      "needs_background": "light"
     },
     "output_type": "display_data"
    }
   ],
   "source": [
    "all_tick_names = df_H_with_proteins['Protein'].to_list()[1:]\n",
    "data_size = len(all_tick_names)\n",
    "x = np.linspace(1,data_size,data_size)\n",
    "\n",
    "tick_names = [n.split(' [')[0] for n in all_tick_names]\n",
    "\n",
    "fig, ax = plt.subplots(figsize=(8,6))\n",
    "\n",
    "plt.scatter(x,df_H_with_proteins['Relative Entropy'][1:],c=c_high,cmap=cm.seismic,vmin=v_min,vmax=v_max,marker='o',alpha=0.8,s=30)\n",
    "plt.plot(x,SARSCoV2_entropy*np.ones(shape=x.shape),color='black',markersize=0,linewidth=4,alpha=1.0)\n",
    "plt.plot(-10,df_H_with_proteins['Relative Entropy'][0],lw=0,ms=8,marker='o',label=r'Protein state: $\\{1,0\\}$',c='black')\n",
    "\n",
    "plt.xlim(-3,data_size+5)\n",
    "\n",
    "plt.ylabel(r'$H_{\\mathrm{ref}}(X)$ (bits)',size=20)\n",
    "plt.tick_params(axis='y',labelsize=20)\n",
    "plt.tick_params(axis='x',labelsize=22)\n",
    "\n",
    "plt.xlabel('Immune system proteins sorted by $\\Delta H_{\\mathrm{ref}}(X)$',size=22,labelpad=10)\n",
    "\n",
    "plt.legend(frameon=True,fontsize=20,handlelength=1.0,handletextpad=0.25,loc='upper left')\n",
    "\n",
    "cbar = plt.colorbar(fraction=0.05,pad=0.01)\n",
    "\n",
    "cbar.set_label(r'$\\Delta H_{\\mathrm{ref}}(X)$',fontsize=18,rotation=-90,labelpad=5)\n",
    "cbar.ax.tick_params(labelsize=18)\n",
    "\n",
    "plt.tight_layout()\n",
    "plt.show()"
   ]
  },
  {
   "cell_type": "markdown",
   "metadata": {},
   "source": [
    "**Immune system proteins ranked by the drop component of $\\Delta H_{\\mathrm{ref}}(X)$.**"
   ]
  },
  {
   "cell_type": "code",
   "execution_count": 29,
   "metadata": {},
   "outputs": [
    {
     "data": {
      "image/png": "[encoded data removed]",
      "text/plain": [
       "<Figure size 576x432 with 1 Axes>"
      ]
     },
     "metadata": {
      "needs_background": "light"
     },
     "output_type": "display_data"
    }
   ],
   "source": [
    "fig, ax = plt.subplots(figsize=(8,6))\n",
    "\n",
    "plt.bar(x,df_H_drop_and_gain['Drop'],color='Blue',label='Drop')\n",
    "plt.bar(x,df_H_drop_and_gain['Gain'],color='Red',label='Gain')\n",
    "plt.xlim(-0.5,len(df_H_drop_and_gain['Protein'])+0.5)\n",
    "\n",
    "plt.ylabel(r'drop/gain in $\\Delta H_{\\mathrm{ref}}(X)$ (bits)',size=20)\n",
    "plt.tick_params(axis='x',labelsize=20)\n",
    "plt.tick_params(axis='y',labelsize=20)\n",
    "plt.xlabel(r'Immune system proteins sorted by $\\Delta H_{\\mathrm{ref}}(X)$ drop',size=22,labelpad=10)\n",
    "plt.text(350,-25,r'$\\Delta H_{\\mathrm{ref}}(X)=$ drop + gain',fontsize=20)\n",
    "plt.legend(frameon=True,fontsize=20,handlelength=1.0,handletextpad=0.25,loc='upper left')\n",
    "\n",
    "plt.tight_layout()\n",
    "plt.show()"
   ]
  },
  {
   "cell_type": "code",
   "execution_count": null,
   "metadata": {},
   "outputs": [],
   "source": []
  }
 ],
 "metadata": {
  "kernelspec": {
   "display_name": "Python 3 (ipykernel)",
   "language": "python",
   "name": "python3"
  },
  "language_info": {
   "codemirror_mode": {
    "name": "ipython",
    "version": 3
   },
   "file_extension": ".py",
   "mimetype": "text/x-python",
   "name": "python",
   "nbconvert_exporter": "python",
   "pygments_lexer": "ipython3",
   "version": "3.8.9"
  }
 },
 "nbformat": 4,
 "nbformat_minor": 2
}
