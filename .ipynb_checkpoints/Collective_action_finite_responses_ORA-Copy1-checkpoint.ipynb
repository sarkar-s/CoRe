{
 "cells": [
  {
   "cell_type": "markdown",
   "id": "3c21a51a",
   "metadata": {},
   "source": [
    "# Collective action finite responses ORA"
   ]
  },
  {
   "cell_type": "code",
   "execution_count": 1,
   "id": "ee0eb629",
   "metadata": {},
   "outputs": [],
   "source": [
    "import os\n",
    "from json import dumps\n",
    "import logging\n",
    "import pandas as pd\n",
    "import numpy as np\n",
    "import math\n",
    "import json\n",
    "from tqdm.notebook import tqdm\n",
    "import copy\n",
    "\n",
    "from scipy.stats import hypergeom as hg\n",
    "\n",
    "import matplotlib.pyplot as plt\n",
    "from matplotlib import cm\n",
    "\n",
    "#from scipy.stats import hypergeom as hg\n",
    "import statsmodels.stats as sts\n",
    "\n",
    "from CoRe import reader, fnGO\n",
    "#from multipy.fdr import qvalue\n",
    "\n",
    "import random as rand"
   ]
  },
  {
   "cell_type": "code",
   "execution_count": 2,
   "id": "46544b0b",
   "metadata": {},
   "outputs": [],
   "source": [
    "global all_gene_names\n",
    "global dropout_probs\n",
    "global total_gene_set"
   ]
  },
  {
   "cell_type": "code",
   "execution_count": 3,
   "id": "976f9d4c",
   "metadata": {},
   "outputs": [],
   "source": [
    "def sample_set2():\n",
    "    selected_probs = np.random.random_sample(size=total_gene_set)\n",
    "    difference_prob = selected_probs - dropout_probs\n",
    "    \n",
    "    difference_check = difference_prob>0.0\n",
    "    \n",
    "    selected_set = pd.DataFrame([gene for is_true,gene in zip(difference_check,all_gene_names) if is_true],columns=None)\n",
    "            \n",
    "    return selected_set"
   ]
  },
  {
   "cell_type": "code",
   "execution_count": 4,
   "id": "56b07245",
   "metadata": {},
   "outputs": [],
   "source": [
    "def sample_set():\n",
    "    selected_set = []\n",
    "    \n",
    "    for gene in dropout_probs.keys():\n",
    "        xi = rand.random()\n",
    "        \n",
    "        if xi>dropout_probs[gene]:\n",
    "            selected_set.append(gene)\n",
    "            \n",
    "    #selected_set = pd.DataFrame(selected_set,columns=None)\n",
    "            \n",
    "    return set(selected_set)"
   ]
  },
  {
   "cell_type": "markdown",
   "id": "d5fa640d",
   "metadata": {},
   "source": [
    "**Read the gene sets and determine the list of unique genes**"
   ]
  },
  {
   "cell_type": "code",
   "execution_count": 5,
   "id": "d986fda2",
   "metadata": {},
   "outputs": [
    {
     "name": "stdout",
     "output_type": "stream",
     "text": [
      "Total gene sets:  7481\n",
      "Total unique genes:  17949\n"
     ]
    }
   ],
   "source": [
    "go_directory = \"./Examples/GO_sets\"\n",
    "os.chdir(go_directory)\n",
    "\n",
    "f = open(('GO_BPs.json'))\n",
    "GO_BPs = json.load(f)\n",
    "f.close()\n",
    "\n",
    "GO_BPs_set = {}\n",
    "GO_BPs_count = {}\n",
    "\n",
    "for bp in GO_BPs.keys():\n",
    "    GO_BPs_set[bp] = set(GO_BPs[bp])\n",
    "    \n",
    "    GO_BPs[bp] = pd.DataFrame(GO_BPs[bp])\n",
    "    GO_BPs_count[bp] = len(GO_BPs[bp])\n",
    "\n",
    "total_gene_set = pd.read_csv('all_unique_genes.csv',header=None)[0].to_list()\n",
    "total_genes = len(total_gene_set)\n",
    "\n",
    "print('Total gene sets: ',len(list(GO_BPs.keys())))\n",
    "print('Total unique genes: ',total_genes)\n",
    "\n",
    "wf = open('BP_embedding.csv')\n",
    "all_lines = wf.readlines()\n",
    "wf.close()\n",
    "\n",
    "embed_idx = {}\n",
    "\n",
    "for l in all_lines:\n",
    "    all_values = l.rstrip('\\r\\n').split(',')\n",
    "\n",
    "    embed_idx[int(all_values[0])] = []\n",
    "\n",
    "    for k in all_values[1:]:\n",
    "        embed_idx[int(all_values[0])].append(int(k))\n",
    "        \n",
    "bp_names = pd.read_csv('GOBP_list.csv',header=None)[0].to_list()"
   ]
  },
  {
   "cell_type": "markdown",
   "id": "33b7a16f",
   "metadata": {},
   "source": [
    "Read the set of genes that have direct protein-protein interactions with SARS-CoV-2 proteins, and read the set of gene that are both directly interacting or indirectly receiving information about the SARS-CoV-2 proteins."
   ]
  },
  {
   "cell_type": "code",
   "execution_count": 6,
   "id": "7c04c0c7",
   "metadata": {},
   "outputs": [],
   "source": [
    "selected_pathway = 'Immune System'\n",
    "pathway_nametag = selected_pathway.replace(' ','_')\n",
    "\n",
    "network_type = 'medium-PPI'\n",
    "network_label = 'medium'\n",
    "state_type = 'maxEnt'\n",
    "\n",
    "data_directory = \"/Users/swarnavo/CodeX/CoRe/Examples/\"+pathway_nametag\n",
    "os.chdir(data_directory)\n",
    "\n",
    "direct_interaction_set = reader.read_interactions_for_GO('SARS_CoV2-'+pathway_nametag+'_interactions.json')\n",
    "\n",
    "data_directory = \"/Users/swarnavo/CodeX/CoRe/Examples/collective_action\"\n",
    "os.chdir(data_directory)\n",
    "communicated_genes = pd.read_csv('collectively_communicated_proteins.csv')"
   ]
  },
  {
   "cell_type": "code",
   "execution_count": 7,
   "id": "d08ea960",
   "metadata": {},
   "outputs": [],
   "source": [
    "all_nontrivial_data = pd.read_csv('all_nontrivial_GOBPs.csv')\n",
    "\n",
    "all_nontrivial_go_tags = all_nontrivial_data['go_tags'].to_list()\n",
    "\n",
    "all_nontrivial_go_names = all_nontrivial_data['go_names'].to_list()"
   ]
  },
  {
   "cell_type": "code",
   "execution_count": 8,
   "id": "86aabe43",
   "metadata": {},
   "outputs": [],
   "source": [
    "directly_affected_genes = []\n",
    "\n",
    "for n in list(direct_interaction_set):\n",
    "    directly_affected_genes += direct_interaction_set[n][0].to_list()\n",
    "    \n",
    "directly_affected_genes = list(set(directly_affected_genes))\n",
    "direct_relH = np.ones(shape=(len(directly_affected_genes),))\n",
    "\n",
    "direct_data = {}\n",
    "direct_data['Gene'] = directly_affected_genes\n",
    "direct_data['Relative entropy (bits)'] = direct_relH"
   ]
  },
  {
   "cell_type": "code",
   "execution_count": 9,
   "id": "05d697bd",
   "metadata": {},
   "outputs": [],
   "source": [
    "total_activated_genes = pd.concat([pd.DataFrame(direct_data),communicated_genes], ignore_index=False)"
   ]
  },
  {
   "cell_type": "markdown",
   "id": "1c6e3886",
   "metadata": {},
   "source": [
    "N = 100 # Number of responses\n",
    "\n",
    "all_gene_names = total_activated_genes['Gene'].to_list()\n",
    "dropout_probs = np.zeros(shape=(len(all_gene_names,)))\n",
    "total_gene_set = len(all_gene_names)\n",
    "all_relative_entropies = total_activated_genes['Relative entropy (bits)'].to_list()\n",
    "\n",
    "for ih in range(0,total_gene_set):\n",
    "    prob = 2**(-N*all_relative_entropies[ih])\n",
    "    \n",
    "    if prob>=1e-5:\n",
    "        dropout_probs[ih] = prob\n",
    "    elif all_relative_entropies[ih]==1.0:\n",
    "        dropout_probs[ih] = 0.0\n",
    "    else:\n",
    "        dropout_probs[ih] = 0.0"
   ]
  },
  {
   "cell_type": "code",
   "execution_count": 10,
   "id": "5ec179b0",
   "metadata": {},
   "outputs": [],
   "source": [
    "N = int(500) # Number of responses\n",
    "\n",
    "dropout_probs = {}\n",
    "\n",
    "for g,h in zip(total_activated_genes['Gene'],total_activated_genes['Relative entropy (bits)']):\n",
    "    prob = 2**(-N*h)\n",
    "\n",
    "    if prob>=1e-5:\n",
    "        dropout_probs[g] = prob\n",
    "    elif h==1.0:\n",
    "        dropout_probs[g] = 0.0\n",
    "    else:\n",
    "        dropout_probs[g] = 0.0"
   ]
  },
  {
   "cell_type": "markdown",
   "id": "5075aeba",
   "metadata": {},
   "source": [
    "gobp_count = len(all_nontrivial_go_tags)\n",
    "sp_set = pd.DataFrame(list(dropout_prob.keys()),columns=None)\n",
    "\n",
    "len_interaction = int(sp_set[0].count())\n",
    "\n",
    "print(len_interaction)\n",
    "\n",
    "for go_idx in range(0,gobp_count):\n",
    "    go = all_nontrivial_go_tags[go_idx]\n",
    "    #go = all_p_gos[sp][go_idx]\n",
    "\n",
    "    intersection = pd.merge(GO_BPs[go], sp_set, how='inner').drop_duplicates([0])\n",
    "    len_intersection = int(intersection[0].count())\n",
    "    len_gene_BP = int(GO_BPs[go].count())\n",
    "\n",
    "    if len_intersection>0:\n",
    "        print(all_nontrivial_go_names[go_idx],len_intersection)"
   ]
  },
  {
   "cell_type": "code",
   "execution_count": 11,
   "id": "d3e82148",
   "metadata": {},
   "outputs": [
    {
     "data": {
      "application/vnd.jupyter.widget-view+json": {
       "model_id": "8b4ec9a98ac14570980175352fbead63",
       "version_major": 2,
       "version_minor": 0
      },
      "text/plain": [
       "  0%|          | 0/100000 [00:00<?, ?it/s]"
      ]
     },
     "metadata": {},
     "output_type": "display_data"
    }
   ],
   "source": [
    "n_samples = 100000\n",
    "\n",
    "#go_names = all_nontrivial_gos\n",
    "#go_names[sp] = all_p_gos[sp]\n",
    "gobp_count = len(all_nontrivial_go_tags)\n",
    "p_values = np.zeros(shape=(gobp_count,))\n",
    "\n",
    "for n in tqdm(range(0,n_samples)):\n",
    "    sp_set = sample_set()\n",
    "    #sp_set = sample_set(dropout_probs)\n",
    "    \n",
    "    #sp_set = pd.DataFrame(list(dropout_prob[sp].keys()),columns=None)\n",
    "    #len_interaction = int(sp_set[0].count())\n",
    "    \n",
    "    len_interaction = len(sp_set)\n",
    "\n",
    "    for go_idx in range(0,gobp_count):\n",
    "        go = all_nontrivial_go_tags[go_idx]\n",
    "        #go = all_p_gos[sp][go_idx]\n",
    "\n",
    "        #intersection = pd.merge(GO_BPs[go], sp_set, how='inner').drop_duplicates([0])\n",
    "        #len_intersection = int(intersection[0].count())\n",
    "        #len_gene_BP = int(GO_BPs[go].count())\n",
    "        \n",
    "        z = GO_BPs_set[go].intersection(sp_set)\n",
    "        len_intersection = len(z)\n",
    "        len_gene_BP = GO_BPs_count[go]\n",
    "        \n",
    "        if len_intersection>0:\n",
    "            pvalue = hg.sf(len_intersection-1, total_genes, len_gene_BP, len_interaction)\n",
    "            p_values[go_idx] += pvalue \n",
    "            #actual_samples += 1\n",
    "        else:\n",
    "            p_values[go_idx] += 1\n",
    "\n",
    "for go_idx in range(0,len(all_nontrivial_go_names)):\n",
    "    p_values[go_idx] *= 1.0/float(n_samples)"
   ]
  },
  {
   "cell_type": "code",
   "execution_count": 12,
   "id": "796192a4",
   "metadata": {},
   "outputs": [],
   "source": [
    "go_tags, go_names, q_values = fnGO.compute_q_values(p_values,all_nontrivial_go_names,all_nontrivial_go_tags,alpha=0.01)"
   ]
  },
  {
   "cell_type": "code",
   "execution_count": 13,
   "id": "cc6e8e94",
   "metadata": {},
   "outputs": [],
   "source": [
    "cutoff = 0.01\n",
    "\n",
    "total_q = (-math.log10(1))*np.ones(shape=(len(all_nontrivial_go_names),))\n",
    "q_matrix = np.ones(shape=(len(all_nontrivial_go_names),))\n",
    "\n",
    "for i in range(0,len(all_nontrivial_go_names)):\n",
    "    try:\n",
    "        k = go_names.index(all_nontrivial_go_names[i])\n",
    "\n",
    "        if q_values[k]<cutoff:         \n",
    "            total_q[i] = -math.log10(max(q_values[k],1e-10))\n",
    "        #else:\n",
    "        #    total_q[i,j] = 1.0\n",
    "\n",
    "        q_matrix[i] = q_values[k]\n",
    "    except ValueError:\n",
    "        pass"
   ]
  },
  {
   "cell_type": "code",
   "execution_count": 14,
   "id": "78396bff",
   "metadata": {},
   "outputs": [],
   "source": [
    "q_data = pd.DataFrame(q_matrix,columns=['Collective_action'],index=None)\n",
    "\n",
    "q_data.insert(0,\"GOBP\",all_nontrivial_go_names)\n",
    "\n",
    "q_data.to_csv(state_type+'-q_data'+str(N)+'.csv',index=None)"
   ]
  },
  {
   "cell_type": "code",
   "execution_count": null,
   "id": "9d9829a8",
   "metadata": {},
   "outputs": [],
   "source": []
  }
 ],
 "metadata": {
  "kernelspec": {
   "display_name": "Python 3 (ipykernel)",
   "language": "python",
   "name": "python3"
  },
  "language_info": {
   "codemirror_mode": {
    "name": "ipython",
    "version": 3
   },
   "file_extension": ".py",
   "mimetype": "text/x-python",
   "name": "python",
   "nbconvert_exporter": "python",
   "pygments_lexer": "ipython3",
   "version": "3.9.6"
  }
 },
 "nbformat": 4,
 "nbformat_minor": 5
}
