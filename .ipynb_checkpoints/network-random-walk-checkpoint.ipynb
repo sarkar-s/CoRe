{
 "cells": [
  {
   "cell_type": "code",
   "execution_count": 1,
   "id": "3cf9d07d",
   "metadata": {},
   "outputs": [],
   "source": [
    "import os, sys\n",
    "import numpy as np\n",
    "import scipy as sp\n",
    "import pandas as pd\n",
    "import copy as copy\n",
    "from tqdm.notebook import tqdm\n",
    "import math\n",
    "import scipy.stats as st\n",
    "\n",
    "from CoRe import reader\n",
    "from CoRe.ncip import ncip\n",
    "from CoRe.BA_C import BA\n",
    "\n",
    "import importlib\n",
    "\n",
    "import networkx as nx\n",
    "import matplotlib.pyplot as plt\n",
    "import json"
   ]
  },
  {
   "cell_type": "code",
   "execution_count": 2,
   "id": "2a4edcc7",
   "metadata": {},
   "outputs": [],
   "source": [
    "current_directory = os.getcwd()\n",
    "\n",
    "data_directory = current_directory + \"/Examples\"\n",
    "os.chdir(data_directory)\n",
    "\n",
    "f = open('SARS_CoV2-interactions.json')\n",
    "all_SARS_nodes = json.load(f)\n",
    "f.close()\n",
    "\n",
    "sars_pnames = list(all_SARS_nodes)"
   ]
  },
  {
   "cell_type": "code",
   "execution_count": 3,
   "id": "38689fc3",
   "metadata": {},
   "outputs": [],
   "source": [
    "selected_pathway = 'Immune_System'\n",
    "pathway_nametag = selected_pathway.replace(' ','_')\n",
    "\n",
    "network_type = 'medium-PPI'\n",
    "\n",
    "data_directory = current_directory + \"/Examples/\" + pathway_nametag\n",
    "os.chdir(data_directory)\n",
    "\n",
    "edge_data = pd.read_pickle(pathway_nametag+'_'+network_type+'-edges.pkl')\n",
    "node_data = pd.read_pickle(pathway_nametag+'_'+network_type+'-nodes.pkl')"
   ]
  },
  {
   "cell_type": "code",
   "execution_count": 4,
   "id": "ba0c0958",
   "metadata": {},
   "outputs": [],
   "source": [
    "remake_graph = False\n",
    "\n",
    "if remake_graph==False:\n",
    "    netObj = ncip()\n",
    "    netObj.load_graph(pathway_nametag+\"-\"+network_type+\".gml\")\n",
    "else:\n",
    "    netObj = ncip()\n",
    "    netObj.load_data(edge_data,node_data)\n",
    "    netObj.make_graph()\n",
    "    netObj.save_network(pathway_nametag,network_type)"
   ]
  },
  {
   "cell_type": "code",
   "execution_count": 7,
   "id": "fc50858b",
   "metadata": {},
   "outputs": [
    {
     "ename": "TypeError",
     "evalue": "local_reaching_centrality() missing 1 required positional argument: 'v'",
     "output_type": "error",
     "traceback": [
      "\u001b[0;31m---------------------------------------------------------------------------\u001b[0m",
      "\u001b[0;31mTypeError\u001b[0m                                 Traceback (most recent call last)",
      "Cell \u001b[0;32mIn[7], line 1\u001b[0m\n\u001b[0;32m----> 1\u001b[0m outs \u001b[38;5;241m=\u001b[39m \u001b[43mnx\u001b[49m\u001b[38;5;241;43m.\u001b[39;49m\u001b[43mlocal_reaching_centrality\u001b[49m\u001b[43m(\u001b[49m\u001b[43mnetObj\u001b[49m\u001b[38;5;241;43m.\u001b[39;49m\u001b[43mG_d\u001b[49m\u001b[43m)\u001b[49m\n",
      "\u001b[0;31mTypeError\u001b[0m: local_reaching_centrality() missing 1 required positional argument: 'v'"
     ]
    }
   ],
   "source": [
    "outs = nx.local_reaching_centrality(netObj.G_d)"
   ]
  },
  {
   "cell_type": "code",
   "execution_count": 6,
   "id": "83b13159",
   "metadata": {},
   "outputs": [],
   "source": [
    "cumulative_score = {}\n",
    "x_labels = []\n",
    "\n",
    "for s in sars_pnames:\n",
    "    cumulative_score[s] = 0\n",
    "    x_labels.append(s.split(' ')[1])\n",
    "\n",
    "for s in list(all_SARS_nodes):\n",
    "    for p in all_SARS_nodes[s]:\n",
    "        try:\n",
    "            cumulative_score[s] += outs[p]\n",
    "        except:\n",
    "            pass"
   ]
  },
  {
   "cell_type": "code",
   "execution_count": null,
   "id": "4a09cdd6",
   "metadata": {},
   "outputs": [],
   "source": [
    "fig, axs = plt.subplots(figsize=(10,4))\n",
    "\n",
    "plt.bar(cumulative_score.keys(),cumulative_score.values())\n",
    "axs.set_xticklabels(x_labels,rotation=90,fontsize=14)\n",
    "plt.ylabel('Harmonic centrality',size=16)\n",
    "plt.xlim(-0.5,len(x_labels)-0.5)\n",
    "plt.yticks(fontsize=12)\n",
    "\n",
    "plt.tight_layout()\n",
    "#plt.savefig('harmonic_centrality.png',dpi=300)"
   ]
  },
  {
   "cell_type": "code",
   "execution_count": null,
   "id": "8d331339",
   "metadata": {},
   "outputs": [],
   "source": [
    "out1 = nx.closeness_centrality(netObj.G_d)\n",
    "out2 = nx.betweenness_centrality(netObj.G_d)"
   ]
  },
  {
   "cell_type": "code",
   "execution_count": 8,
   "id": "5dd99a23",
   "metadata": {},
   "outputs": [
    {
     "name": "stdout",
     "output_type": "stream",
     "text": [
      "SARS-CoV2 Nsp2 EIF4E2 0.9032684054143282\n",
      "SARS-CoV2 Nsp7 CYB5R3 0.9032684054143282\n",
      "SARS-CoV2 Nsp7 RALA 0.0\n",
      "SARS-CoV2 Nsp8 HECTD1 0.9032684054143282\n",
      "SARS-CoV2 Nsp12 RIPK1 0.9032684054143282\n",
      "SARS-CoV2 Nsp13 TBK1 0.9032684054143282\n",
      "SARS-CoV2 Nsp14 IMPDH2 0.9032684054143282\n",
      "SARS-CoV2 Nsp15 RNF41 0.9032684054143282\n",
      "SARS-CoV2 ORF3a HMOX1 0.9032684054143282\n",
      "SARS-CoV2 M STOM 0.9032684054143282\n",
      "SARS-CoV2 ORF8 ITGB1 0.9032684054143282\n",
      "SARS-CoV2 ORF8 PVR 0.9032684054143282\n",
      "SARS-CoV2 ORF8 IL17RA 0.0009904258831297458\n",
      "SARS-CoV2 ORF8 NEU1 0.9032684054143282\n",
      "SARS-CoV2 ORF9b TOMM70 0.9032684054143282\n",
      "SARS-CoV2 ORF9c NLRX1 0.9032684054143282\n",
      "SARS-CoV2 ORF9c ECSIT 0.9035985473753714\n",
      "SARS-CoV2 ORF10 ELOC 0.9032684054143282\n",
      "SARS-CoV2 ORF10 ELOB 0.9032684054143282\n"
     ]
    }
   ],
   "source": [
    "cumulative_score = {}\n",
    "x_labels = []\n",
    "\n",
    "for s in sars_pnames:\n",
    "    cumulative_score[s] = 0\n",
    "    x_labels.append(s.split(' ')[1])\n",
    "\n",
    "for s in list(all_SARS_nodes):\n",
    "    for p in all_SARS_nodes[s]:\n",
    "        try:\n",
    "            a = nx.local_reaching_centrality(netObj.G_d,p)\n",
    "            print(s,p,a)\n",
    "            cumulative_score[s] += nx.local_reaching_centrality(netObj.G_d,p)\n",
    "        except:\n",
    "            pass"
   ]
  },
  {
   "cell_type": "code",
   "execution_count": null,
   "id": "6c940bcf",
   "metadata": {},
   "outputs": [],
   "source": [
    "print(cumulative_score)"
   ]
  },
  {
   "cell_type": "code",
   "execution_count": null,
   "id": "8383e5fa",
   "metadata": {},
   "outputs": [],
   "source": [
    "fig, axs = plt.subplots(figsize=(10,3))\n",
    "\n",
    "plt.bar(cumulative_score.keys(),cumulative_score.values())\n",
    "axs.set_xticklabels(x_labels,rotation=90,fontsize=14)\n",
    "plt.ylabel('Closeness centrality',size=16)\n",
    "plt.xlim(-0.5,len(x_labels)-0.5)\n",
    "plt.yticks(fontsize=12)"
   ]
  },
  {
   "cell_type": "code",
   "execution_count": null,
   "id": "b366b305",
   "metadata": {},
   "outputs": [],
   "source": [
    "outs = nx.voterank(netObj.G_d)"
   ]
  },
  {
   "cell_type": "code",
   "execution_count": null,
   "id": "3edb4ee4",
   "metadata": {},
   "outputs": [],
   "source": [
    "for s in list(all_SARS_nodes):\n",
    "    for p in all_SARS_nodes[s]:\n",
    "        try:\n",
    "            print(s,p,outs.index(p))\n",
    "        except:\n",
    "            pass"
   ]
  },
  {
   "cell_type": "code",
   "execution_count": null,
   "id": "d1f079db",
   "metadata": {},
   "outputs": [],
   "source": [
    "fig, axs = plt.subplots(figsize=(10,3))\n",
    "\n",
    "plt.bar(cumulative_score.keys(),cumulative_score.values())\n",
    "axs.set_xticklabels(x_labels,rotation=90,fontsize=14)\n",
    "plt.ylabel('Closeness centrality',size=16)\n",
    "plt.xlim(-0.5,len(x_labels)-0.5)\n",
    "plt.yticks(fontsize=12)"
   ]
  },
  {
   "cell_type": "code",
   "execution_count": null,
   "id": "44892a9e",
   "metadata": {},
   "outputs": [],
   "source": [
    "outs = nx.communicability_betweenness_centrality(netObj.G_d.to_undirected())"
   ]
  },
  {
   "cell_type": "code",
   "execution_count": null,
   "id": "52a7963d",
   "metadata": {},
   "outputs": [],
   "source": [
    "cumulative_score = {}\n",
    "x_labels = []\n",
    "\n",
    "for s in sars_pnames:\n",
    "    cumulative_score[s] = 0\n",
    "    x_labels.append(s.split(' ')[1])\n",
    "\n",
    "for s in list(all_SARS_nodes):\n",
    "    for p in all_SARS_nodes[s]:\n",
    "        try:\n",
    "            print(s,p,outs[p])\n",
    "            cumulative_score[s] += outs[p]\n",
    "        except:\n",
    "            pass"
   ]
  },
  {
   "cell_type": "code",
   "execution_count": null,
   "id": "36dd4c9b",
   "metadata": {},
   "outputs": [],
   "source": [
    "fig, axs = plt.subplots(figsize=(10,3))\n",
    "\n",
    "plt.bar(cumulative_score.keys(),cumulative_score.values())\n",
    "axs.set_xticklabels(x_labels,rotation=90,fontsize=14)\n",
    "plt.ylabel('Closeness centrality',size=16)\n",
    "plt.xlim(-0.5,len(x_labels)-0.5)\n",
    "plt.yticks(fontsize=12)"
   ]
  },
  {
   "cell_type": "code",
   "execution_count": null,
   "id": "6df34214",
   "metadata": {},
   "outputs": [],
   "source": []
  }
 ],
 "metadata": {
  "kernelspec": {
   "display_name": "Python 3 (ipykernel)",
   "language": "python",
   "name": "python3"
  },
  "language_info": {
   "codemirror_mode": {
    "name": "ipython",
    "version": 3
   },
   "file_extension": ".py",
   "mimetype": "text/x-python",
   "name": "python",
   "nbconvert_exporter": "python",
   "pygments_lexer": "ipython3",
   "version": "3.9.6"
  }
 },
 "nbformat": 4,
 "nbformat_minor": 5
}
