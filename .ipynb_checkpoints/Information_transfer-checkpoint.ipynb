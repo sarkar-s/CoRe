{
 "cells": [
  {
   "cell_type": "markdown",
   "metadata": {},
   "source": [
    "# Information transfer"
   ]
  },
  {
   "cell_type": "markdown",
   "metadata": {},
   "source": [
    "The SARS-CoV-2 and human protein interactions are treated as information sources. Each edge in the pathway network \n",
    "is treated as a binary symmetric information channel. Information propagates through the network edges (information channels) to the other nodes (receiver nodes) of the network. We use relative entropy of the receiver nodes as a measure of the impact of the SARS-CoV-2 proteins."
   ]
  },
  {
   "cell_type": "code",
   "execution_count": 1,
   "metadata": {},
   "outputs": [],
   "source": [
    "import os, sys\n",
    "import numpy as np\n",
    "import scipy as sp\n",
    "import pandas as pd\n",
    "import copy as copy\n",
    "from tqdm.notebook import tqdm\n",
    "import math\n",
    "import scipy.stats as st\n",
    "\n",
    "from CoRe import reader\n",
    "from CoRe.ncip import ncip\n",
    "from CoRe.BA_C import BA\n",
    "\n",
    "import importlib\n",
    "\n",
    "import networkx as nx\n",
    "import matplotlib.pyplot as plt\n",
    "import json"
   ]
  },
  {
   "cell_type": "code",
   "execution_count": 2,
   "metadata": {},
   "outputs": [],
   "source": [
    "current_directory = os.getcwd()\n",
    "\n",
    "data_directory = current_directory + \"/Examples\"\n",
    "os.chdir(data_directory)\n",
    "\n",
    "f = open('SARS_CoV2-interactions.json')\n",
    "all_SARS_nodes = json.load(f)\n",
    "f.close()\n",
    "\n",
    "sars_pnames = list(all_SARS_nodes)"
   ]
  },
  {
   "cell_type": "code",
   "execution_count": 3,
   "metadata": {},
   "outputs": [],
   "source": [
    "selected_pathway = 'Immune_System'\n",
    "pathway_nametag = selected_pathway.replace(' ','_')\n",
    "\n",
    "network_type = 'medium-PPI'\n",
    "\n",
    "data_directory = current_directory + \"/Examples/\" + pathway_nametag\n",
    "os.chdir(data_directory)\n",
    "\n",
    "edge_data = pd.read_pickle(pathway_nametag+'_'+network_type+'-edges.pkl')\n",
    "node_data = pd.read_pickle(pathway_nametag+'_'+network_type+'-nodes.pkl')"
   ]
  },
  {
   "cell_type": "code",
   "execution_count": 4,
   "metadata": {},
   "outputs": [],
   "source": [
    "remake_graph = False\n",
    "\n",
    "if remake_graph==False:\n",
    "    netObj = ncip()\n",
    "    netObj.load_graph(pathway_nametag+\"-\"+network_type+\".gml\")\n",
    "else:\n",
    "    netObj = ncip()\n",
    "    netObj.load_data(edge_data,node_data)\n",
    "    netObj.make_graph()\n",
    "    netObj.save_network(pathway_nametag,network_type)"
   ]
  },
  {
   "cell_type": "code",
   "execution_count": 5,
   "metadata": {},
   "outputs": [],
   "source": [
    "f = open('SARS_CoV2-'+pathway_nametag+'_interactions.json')\n",
    "SARS_nodes = json.load(f)\n",
    "f.close()"
   ]
  },
  {
   "cell_type": "markdown",
   "metadata": {},
   "source": [
    "**Construction of the information channel model for the network.**\n",
    "\n",
    "$\\rho$ is the communication error for each edge. If a node receives input from multiple edges, the receiver state is the mean of the individual output states. The default channel type is a binary symmetric channel as defined in [Elements of information theory](https://books.google.com/books?hl=en&lr=&id=VWq5GG6ycxMC&oi=fnd&pg=PR15&ots=bZ6fK1WaYP&sig=g2JGYtx-EFJKhoFBG-THaWLfKY0#v=onepage&q&f=false)."
   ]
  },
  {
   "cell_type": "code",
   "execution_count": 6,
   "metadata": {},
   "outputs": [],
   "source": [
    "initial_state_type = 'low'\n",
    "\n",
    "errorname = '0.0'\n",
    "rho = float(errorname)\n",
    "\n",
    "input_bits = 1\n",
    "code_length = int(2**input_bits)\n",
    "\n",
    "max_entropy_state = (1.0/float(code_length))*np.ones(shape=(code_length,))\n",
    "\n",
    "low_state = np.zeros(shape=(code_length,))\n",
    "low_state[-1] = 1.0\n",
    "\n",
    "high_state = np.zeros(shape=(code_length,))\n",
    "high_state[0] = 1.0\n",
    "\n",
    "if initial_state_type=='high':\n",
    "    initial_state = high_state\n",
    "elif initial_state_type=='low':\n",
    "    initial_state = low_state\n",
    "else:\n",
    "    initial_state = max_entropy_state\n",
    "\n",
    "netObj.construct_C(rho,h=input_bits,neglect_modules=[])\n",
    "node_list = list(netObj.G_d.nodes)"
   ]
  },
  {
   "cell_type": "markdown",
   "metadata": {},
   "source": [
    "**Initial and boundary conditions for information propagation**\n",
    "\n",
    "The state of each node is define by the binary probability state $\\{P(n=1),P(n=0)\\}$, where the abundance (or copy number) the physical entity (n) is coarse-grained into a binary variable high (1) or low (0). The maximum entropy state for each node is $\\{0.5,0.5\\}$. We set every node in the network initially at the maximum entropy state. \n",
    "\n",
    "We assume that direct interaction with SARS-CoV-2 proteins reduces the effective abundance of the associated network nodes, so we set the state of these nodes at $\\{0,1\\}$. Additionally, we set the state of ATP, ADP, and Pi at the maximum entropy state $\\{0.5,0.5\\}$."
   ]
  },
  {
   "cell_type": "markdown",
   "metadata": {},
   "source": [
    "**Additional sources nodes to specify for information transfer**"
   ]
  },
  {
   "cell_type": "code",
   "execution_count": 7,
   "metadata": {},
   "outputs": [],
   "source": [
    "additional_source_nodes = []"
   ]
  },
  {
   "cell_type": "markdown",
   "metadata": {},
   "source": [
    "**Disconnect all drug nodes from the network, we only use them while screening therapies**"
   ]
  },
  {
   "cell_type": "code",
   "execution_count": 8,
   "metadata": {},
   "outputs": [],
   "source": [
    "netObj.disconnect_drug_nodes()"
   ]
  },
  {
   "cell_type": "code",
   "execution_count": 9,
   "metadata": {},
   "outputs": [],
   "source": [
    "topological_source_count = 0\n",
    "\n",
    "for nG in netObj.G_d.nodes():\n",
    "    if netObj.G_d.in_degree(nG)==0:\n",
    "        topological_source_count += 1"
   ]
  },
  {
   "cell_type": "code",
   "execution_count": 10,
   "metadata": {},
   "outputs": [
    {
     "name": "stdout",
     "output_type": "stream",
     "text": [
      "Reference state relative entropy:  443.5195097046098\n"
     ]
    }
   ],
   "source": [
    "initial_network_state = np.zeros(shape=(netObj.C_sparse.shape[0],1))\n",
    "network_sources = {}\n",
    "\n",
    "for n in range(0,len(node_list)):\n",
    "    initial_network_state[code_length*n:code_length*(n+1),0] = initial_state\n",
    "    \n",
    "network_sources = []\n",
    "\n",
    "reference_final_state, steps = netObj.get_final_state(initial_network_state,[])\n",
    "reference_final_entropy = netObj.state_entropy(reference_final_state,[])\n",
    "print('Reference state relative entropy: ',reference_final_entropy)"
   ]
  },
  {
   "cell_type": "code",
   "execution_count": 11,
   "metadata": {},
   "outputs": [
    {
     "data": {
      "application/vnd.jupyter.widget-view+json": {
       "model_id": "6ea4163276724e40b5f2b4d328a6dd7a",
       "version_major": 2,
       "version_minor": 0
      },
      "text/plain": [
       "  0%|          | 0/17 [00:00<?, ?it/s]"
      ]
     },
     "metadata": {},
     "output_type": "display_data"
    }
   ],
   "source": [
    "network_state = {}\n",
    "network_sources = {}\n",
    "\n",
    "for k in tqdm(SARS_nodes.keys()):\n",
    "    network_state[k] = np.zeros(shape=(netObj.C_sparse.shape[0],1))\n",
    "    \n",
    "    for n in range(0,len(node_list)):\n",
    "        network_state[k][code_length*n:code_length*(n+1),0] = initial_state\n",
    "    \n",
    "    network_sources[k] = []\n",
    "    \n",
    "    for n in SARS_nodes[k]:\n",
    "        try:\n",
    "            i = node_list.index(n)\n",
    "\n",
    "            network_state[k][netObj.code_length*i:netObj.code_length*(i+1),0] = low_state\n",
    "\n",
    "            network_sources[k].append(i)\n",
    "        except ValueError:\n",
    "            pass\n",
    "        \n",
    "    for n in additional_source_nodes:\n",
    "        try:\n",
    "            i = node_list.index(n)\n",
    "\n",
    "            network_state[k][netObj.code_length*i:netObj.code_length*(i+1),0] = high_state\n",
    "\n",
    "            network_sources[k].append(i)\n",
    "        except ValueError:\n",
    "            pass\n",
    "        \n",
    "    #print(k,len(network_sources[k]),len(node_list)-len(network_sources[k])-topological_source_count)"
   ]
  },
  {
   "cell_type": "markdown",
   "metadata": {},
   "source": [
    "**Relative entropy of the total network and number of steps to stationary state.**"
   ]
  },
  {
   "cell_type": "code",
   "execution_count": 12,
   "metadata": {},
   "outputs": [
    {
     "data": {
      "application/vnd.jupyter.widget-view+json": {
       "model_id": "088a46b39992463ea2aafae4890d7fb5",
       "version_major": 2,
       "version_minor": 0
      },
      "text/plain": [
       "  0%|          | 0/28 [00:00<?, ?it/s]"
      ]
     },
     "metadata": {},
     "output_type": "display_data"
    },
    {
     "name": "stdout",
     "output_type": "stream",
     "text": [
      "SARS-CoV2 Nsp2 0.6234693959647541 13543\n",
      "SARS-CoV2 Nsp7 0.8019587591897215 13542\n",
      "SARS-CoV2 Nsp8 0.15067751430045054 13538\n",
      "SARS-CoV2 Nsp10 0.0 13549\n",
      "SARS-CoV2 Nsp12 1.6171661362966492 13532\n",
      "SARS-CoV2 Nsp13 2.984120293816868 13527\n",
      "SARS-CoV2 Nsp14 1.2806081336488488 13537\n",
      "SARS-CoV2 Nsp15 0.15067751430045073 13538\n",
      "SARS-CoV2 Spike 0.0 13549\n",
      "SARS-CoV2 ORF3a 0.11742784481204421 13533\n",
      "SARS-CoV2 E 0.0 13549\n",
      "SARS-CoV2 M 8.777553899348662 13529\n",
      "SARS-CoV2 ORF8 4.0869879957854325 13511\n",
      "SARS-CoV2 ORF9b 0.25629247093918994 13547\n",
      "SARS-CoV2 ORF9c 0.31465939483027117 13546\n",
      "SARS-CoV2 N 0.0 13549\n",
      "SARS-CoV2 ORF10 0.015180268380956628 13549\n"
     ]
    }
   ],
   "source": [
    "entropy_data = pd.DataFrame(columns=['SARS-CoV-2 protein','Entropy (bits)','Steps'])\n",
    "final_state = {}\n",
    "final_entropy = {}\n",
    "\n",
    "try:\n",
    "    os.chdir(data_directory+'/final_network_state')\n",
    "except OSError:\n",
    "    os.mkdir(data_directory+'/final_network_state')\n",
    "    os.chdir(data_directory+'/final_network_state')\n",
    "\n",
    "#for k in tqdm(SARS_nodes.keys()):\n",
    "for k in tqdm(sars_pnames):\n",
    "    try:\n",
    "        netObj.apply_BC(network_sources[k])\n",
    "        final_state[k], steps = netObj.get_final_state(network_state[k],network_sources[k])\n",
    "        #final_entropy[k] = reference_final_entropy - netObj.state_entropy(final_state[k],network_sources[k])\n",
    "        final_entropy[k] = netObj.state_entropy(final_state[k],network_sources[k],reference_final_state)\n",
    "        \n",
    "        df_temp = pd.DataFrame([[k,final_entropy[k],steps]],columns=['SARS-CoV-2 protein','Entropy (bits)','Steps'])\n",
    "        \n",
    "        entropy_data = pd.concat([entropy_data,df_temp],sort=False)\n",
    "        \n",
    "        print(k,final_entropy[k],steps)\n",
    "        \n",
    "        \"\"\"    \n",
    "        np.savetxt(k+'-steady_state-'+initial_state_type+'.csv',final_state[k],delimiter=\",\")\n",
    "  \n",
    "        print(k,final_entropy[k],steps,len(network_sources[k]))\n",
    "        \n",
    "        C_dense = netObj.temp_C_sparse.todense()\n",
    "        C_diff = C_dense - np.eye(C_dense.shape[0])\n",
    "        C_diff_sparse = sp.sparse.csr_matrix(C_diff)\n",
    "\n",
    "        try:\n",
    "            ns = sp.linalg.null_space(C_diff)\n",
    "            np.savetxt(k+'-nullspace.csv',ns,delimiter=\",\")\n",
    "        except sp.linalg.LinAlgError:\n",
    "            print(k)\n",
    "            pass\n",
    "        \"\"\"\n",
    "        \n",
    "    except KeyError:\n",
    "        final_state[k] = reference_final_state\n",
    "        final_entropy[k] = 0.0\n",
    "        \n",
    "        df_temp = pd.DataFrame([[k,0.0,0.0]],columns=['SARS-CoV-2 protein','Entropy (bits)','Steps'])\n",
    "        \n",
    "        entropy_data = pd.concat([entropy_data,df_temp],sort=False)\n",
    "        \n",
    "output_filename = initial_state_type+'-'+pathway_nametag+'_'+network_type+'_'+'relative_entropy-'+errorname+'.csv'\n",
    "\n",
    "entropy_data.to_csv(output_filename,index=None)\n",
    "os.chdir(data_directory)"
   ]
  },
  {
   "cell_type": "code",
   "execution_count": null,
   "metadata": {},
   "outputs": [],
   "source": [
    "print('\\033[1m'+'Relative entropy of the network induced by the interaction with the SARS-CoV-2 protiens')\n",
    "\n",
    "fig = plt.figure(figsize=(11,5))\n",
    "plt.bar(entropy_data['SARS-CoV-2 protein'].to_numpy(),entropy_data['Entropy (bits)'].to_numpy(),color='black')\n",
    "#plt.yscale('log')\n",
    "#plt.ylim(0,20)\n",
    "plt.ylabel('Network relative entropy (bits)',size=16)\n",
    "plt.tick_params(axis='y',labelsize=16)\n",
    "plt.tick_params(axis='x',labelsize=12,rotation=90)\n",
    "\n",
    "plt.tight_layout()"
   ]
  },
  {
   "cell_type": "code",
   "execution_count": null,
   "metadata": {},
   "outputs": [],
   "source": [
    "node_list = netObj.G_d.nodes.data()\n",
    "\n",
    "total_genomic_entities = np.sum([x[1]['sequenced'] for x in node_list])\n",
    "\n",
    "genome_indices = [i for x,i in zip(node_list,range(0,len(node_list))) if x[1]['sequenced']!=0]\n",
    "\n",
    "print(total_genomic_entities,len(genome_indices))"
   ]
  },
  {
   "cell_type": "markdown",
   "metadata": {},
   "source": [
    "**Identify reference gene products that receive information about the SARS-CoV-2 proteins.** \n",
    "\n",
    "We use relative entropy with respect to the maximum entropy state as a measure of the amount of information received by a network node, $H_M(n)=\\sum_{k\\in\\{0,1\\}} P(n=k)\\log_2 P(n=k)/0.5$. The nodes that have relative entropy above a threshold, $H_M(n)\\geq \\alpha$, are identified as receiving considerable amount of information. We chose $\\alpha=0.1$ bits because we found in experimental measurements of gene expression data, it is challenging to measure the mutual information with a precision higher than 0.1 bits."
   ]
  },
  {
   "cell_type": "code",
   "execution_count": null,
   "metadata": {},
   "outputs": [],
   "source": [
    "relH_threshold = 0.01\n",
    "\n",
    "local_entropies = {}\n",
    "local_entropies_mat = np.zeros(shape=(total_genomic_entities,len(list(SARS_nodes.keys()))))\n",
    "max_entropy_state = np.array([0.5,0.5])\n",
    "    \n",
    "j = 0\n",
    "\n",
    "for k in SARS_nodes.keys():\n",
    "    local_entropies[k] = np.zeros(shape=(total_genomic_entities,))\n",
    "    \n",
    "    for i in range(0,len(genome_indices)):\n",
    "        gen_i = genome_indices[i]\n",
    "        \n",
    "        if len(network_sources[k])>0 and gen_i not in network_sources[k]:\n",
    "            this_state = final_state[k][netObj.code_length*gen_i:netObj.code_length*(gen_i+1),0]\n",
    "            ref_state = reference_final_state[netObj.code_length*gen_i:netObj.code_length*(gen_i+1),0]\n",
    "            \n",
    "            local_entropies[k][i] = st.entropy(this_state,ref_state,base=2)\n",
    "            \n",
    "            if local_entropies[k][i]<relH_threshold:\n",
    "                local_entropies[k][i] = 0.0\n",
    "        \n",
    "    local_entropies_mat[:,j] = local_entropies[k]\n",
    "    \n",
    "    j += 1"
   ]
  },
  {
   "cell_type": "markdown",
   "metadata": {},
   "source": [
    "**Identify reference gene products that have relative entropy higher than the threshold.**"
   ]
  },
  {
   "cell_type": "code",
   "execution_count": null,
   "metadata": {},
   "outputs": [],
   "source": [
    "n_names = [x[0] for x in node_list]\n",
    "gen_names = []\n",
    "\n",
    "for i in genome_indices:\n",
    "    gen_names.append(n_names[i])"
   ]
  },
  {
   "cell_type": "markdown",
   "metadata": {},
   "source": [
    "Drop SARS-CoV-2 proteins that cause lower than threshold relative entropy to reference gene products."
   ]
  },
  {
   "cell_type": "code",
   "execution_count": null,
   "metadata": {},
   "outputs": [],
   "source": [
    "df = pd.DataFrame(local_entropies_mat,columns=list(SARS_nodes.keys()))\n",
    "df.insert(0,\"node_index\",genome_indices)\n",
    "df.insert(0,\"node_ids\",gen_names)\n",
    "\n",
    "arr = df.to_numpy()\n",
    "\n",
    "zero_r_idx, zero_c_names = [], []\n",
    "\n",
    "for i in range(0,arr.shape[0]):\n",
    "    if np.sum(arr[i,2:])==0:\n",
    "        zero_r_idx.append(i)\n",
    "        \n",
    "c_names = list(df)\n",
    "\n",
    "for j in range(0,arr.shape[1]):\n",
    "    if np.sum(arr[:,j])==0:\n",
    "        zero_c_names.append(c_names[j])\n",
    "\n",
    "df_reduced1 = df.drop(zero_r_idx)\n",
    "df_reduced = df_reduced1.drop(zero_c_names,axis=1)\n",
    "\n",
    "os.chdir(data_directory)\n",
    "\n",
    "df_reduced.to_csv(initial_state_type+'-'+'SARS_CoV2_Immune_System_medium-PPI_affected_genes'+errorname+'.csv',index=None)"
   ]
  },
  {
   "cell_type": "code",
   "execution_count": null,
   "metadata": {},
   "outputs": [],
   "source": []
  }
 ],
 "metadata": {
  "kernelspec": {
   "display_name": "Python 3 (ipykernel)",
   "language": "python",
   "name": "python3"
  },
  "language_info": {
   "codemirror_mode": {
    "name": "ipython",
    "version": 3
   },
   "file_extension": ".py",
   "mimetype": "text/x-python",
   "name": "python",
   "nbconvert_exporter": "python",
   "pygments_lexer": "ipython3",
   "version": "3.9.6"
  }
 },
 "nbformat": 4,
 "nbformat_minor": 2
}
