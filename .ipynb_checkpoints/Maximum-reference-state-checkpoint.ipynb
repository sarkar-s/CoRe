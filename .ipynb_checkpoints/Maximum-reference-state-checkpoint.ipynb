{
 "cells": [
  {
   "cell_type": "markdown",
   "metadata": {},
   "source": [
    "# Optimum reference state"
   ]
  },
  {
   "cell_type": "markdown",
   "metadata": {},
   "source": [
    "**Computes the reference state of the network that produces the maximum relative network entropy**"
   ]
  },
  {
   "cell_type": "code",
   "execution_count": 1,
   "metadata": {},
   "outputs": [],
   "source": [
    "import os, sys\n",
    "import numpy as np\n",
    "import scipy as sp\n",
    "import pandas as pd\n",
    "import copy as copy\n",
    "from tqdm.notebook import tqdm\n",
    "import math\n",
    "import scipy.stats as st\n",
    "\n",
    "from CoRe import reader\n",
    "from CoRe.ncip import ncip\n",
    "from CoRe.BA_C import BA\n",
    "\n",
    "import importlib\n",
    "\n",
    "import networkx as nx\n",
    "import matplotlib.pyplot as plt\n",
    "import json\n",
    "\n",
    "from matplotlib import cm\n",
    "from matplotlib import rcParams\n",
    "import matplotlib.patches as patches"
   ]
  },
  {
   "cell_type": "code",
   "execution_count": 2,
   "metadata": {},
   "outputs": [],
   "source": [
    "data_directory = \"./Examples/Universal\"\n",
    "os.chdir(data_directory)\n",
    "\n",
    "edge_data = pd.read_pickle('Universal_medium-PPI-edges.pkl')\n",
    "node_data = pd.read_pickle('Universal_medium-PPI-nodes.pkl')"
   ]
  },
  {
   "cell_type": "code",
   "execution_count": 3,
   "metadata": {},
   "outputs": [],
   "source": [
    "remake_graph = False\n",
    "\n",
    "if remake_graph==False:\n",
    "    netObj = ncip()\n",
    "    netObj.load_graph('Universal-medium-PPI.gml')\n",
    "else:\n",
    "    netObj = ncip()\n",
    "    netObj.load_data(edge_data,node_data)\n",
    "    netObj.make_graph()\n",
    "    netObj.save_network(pathway_nametag,network_type)"
   ]
  },
  {
   "cell_type": "markdown",
   "metadata": {},
   "source": [
    "**Read differentially expressed genes**"
   ]
  },
  {
   "cell_type": "code",
   "execution_count": 4,
   "metadata": {},
   "outputs": [],
   "source": [
    "up_genes = pd.read_csv('breast_cancer_up_genes.csv',header=None)[0].to_list()\n",
    "down_genes = pd.read_csv('breast_cancer_down_genes.csv',header=None)[0].to_list()"
   ]
  },
  {
   "cell_type": "code",
   "execution_count": 5,
   "metadata": {},
   "outputs": [],
   "source": [
    "cancer_entropy_samples = []"
   ]
  },
  {
   "cell_type": "markdown",
   "metadata": {},
   "source": [
    "**Specifying the reference state and construction of the global transition matrix**"
   ]
  },
  {
   "cell_type": "code",
   "execution_count": 6,
   "metadata": {},
   "outputs": [
    {
     "name": "stdout",
     "output_type": "stream",
     "text": [
      "[1. 0.] [0. 1.]\n"
     ]
    }
   ],
   "source": [
    "initial_state_type = 'maxEnt'\n",
    "\n",
    "errorname = '0.0'\n",
    "rho = float(errorname)\n",
    "\n",
    "input_bits = 1\n",
    "code_length = int(2**input_bits)\n",
    "\n",
    "max_entropy_state = (1.0/float(code_length))*np.ones(shape=(code_length,))\n",
    "\n",
    "low_state = np.zeros(shape=(code_length,))\n",
    "low_state[-1] = 1.0\n",
    "\n",
    "high_state = np.zeros(shape=(code_length,))\n",
    "high_state[0] = 1.0\n",
    "\n",
    "if initial_state_type=='high':\n",
    "    initial_state = high_state\n",
    "elif initial_state_type=='low':\n",
    "    initial_state = low_state\n",
    "else:\n",
    "    initial_state = max_entropy_state\n",
    "\n",
    "print(high_state,low_state)"
   ]
  },
  {
   "cell_type": "code",
   "execution_count": 7,
   "metadata": {},
   "outputs": [
    {
     "data": {
      "application/vnd.jupyter.widget-view+json": {
       "model_id": "72ce875528db4a33b1cd14abbb7c16f1",
       "version_major": 2,
       "version_minor": 0
      },
      "text/plain": [
       "  0%|          | 0/10 [00:00<?, ?it/s]"
      ]
     },
     "metadata": {},
     "output_type": "display_data"
    }
   ],
   "source": [
    "for n in tqdm(range(0,10)):\n",
    "    netObj.construct_C(rho,h=input_bits,neglect_modules=[])\n",
    "    node_list = list(netObj.G_d.nodes)\n",
    "\n",
    "    netObj.disconnect_drug_nodes()\n",
    "\n",
    "    initial_network_state = np.zeros(shape=(netObj.C_sparse.shape[0],1))\n",
    "    network_sources = {}\n",
    "\n",
    "    for n in range(0,len(node_list)):\n",
    "        initial_network_state[code_length*n:code_length*(n+1),0] = initial_state\n",
    "\n",
    "    network_sources = []\n",
    "\n",
    "    reference_final_state, steps = netObj.get_final_state(initial_network_state,[])\n",
    "    reference_final_entropy = netObj.state_entropy(reference_final_state,[])\n",
    "    \n",
    "    network_state = np.zeros(shape=(netObj.C_sparse.shape[0],1))\n",
    "    network_sources = []\n",
    "\n",
    "    for n in range(0,len(node_list)):\n",
    "        network_state[code_length*n:code_length*(n+1),0] = initial_state\n",
    "\n",
    "    for up_gene in up_genes:\n",
    "        try:\n",
    "            i = node_list.index(up_gene)\n",
    "\n",
    "            network_state[netObj.code_length*i:netObj.code_length*(i+1),0] = high_state\n",
    "\n",
    "            if i not in network_sources:\n",
    "                network_sources.append(i)\n",
    "        except ValueError:\n",
    "            pass\n",
    "\n",
    "    for down_gene in down_genes:\n",
    "        try:\n",
    "            i = node_list.index(down_gene)\n",
    "\n",
    "            network_state[netObj.code_length*i:netObj.code_length*(i+1),0] = low_state\n",
    "\n",
    "            if i not in network_sources:\n",
    "                network_sources.append(i)\n",
    "        except ValueError:\n",
    "            pass\n",
    "\n",
    "    final_state, steps = netObj.get_final_state(network_state,network_sources)\n",
    "    cancer_state_entropy = netObj.state_entropy(final_state,network_sources,reference_final_state)\n",
    "    \n",
    "    cancer_entropy_samples.append(cancer_state_entropy)"
   ]
  },
  {
   "cell_type": "code",
   "execution_count": 8,
   "metadata": {},
   "outputs": [
    {
     "name": "stdout",
     "output_type": "stream",
     "text": [
      "[257.05762407831037, 267.763304289056, 293.59628245093796, 256.20510567609773, 232.42871791219514, 259.88081165453184, 256.687263616229, 282.879579970111, 303.25343120774835, 275.88668929904026]\n"
     ]
    }
   ],
   "source": [
    "print(cancer_entropy_samples)"
   ]
  },
  {
   "cell_type": "markdown",
   "metadata": {},
   "source": [
    "**Compute stationary state of the network due to SARS-CoV-2 PPIs and drugs**\n",
    "\n",
    "The drugs in the Reactome database were set to the state {1,0} to compute the stationary state, and the subsequent change in the network relative entropy."
   ]
  },
  {
   "cell_type": "code",
   "execution_count": null,
   "metadata": {},
   "outputs": [],
   "source": [
    "df_H_with_drugs = pd.DataFrame()\n",
    "df_H_drop_and_gain = pd.DataFrame()\n",
    "\n",
    "df_H_with_drugs = pd.DataFrame([],columns=['Drug','Relative Entropy','Drug Type'])\n",
    "\n",
    "df_H_drop_and_gain = pd.DataFrame([],columns=['Drug','Drop', 'Gain','Drug Type'])"
   ]
  },
  {
   "cell_type": "code",
   "execution_count": null,
   "metadata": {},
   "outputs": [],
   "source": [
    "for this_drug in tqdm(drugs):\n",
    "    s = this_drug[0]\n",
    "    additional_source_nodes = [s]\n",
    "    \n",
    "    netObj.load_graph('Universal-medium-PPI.gml')\n",
    "    netObj.disconnect_drug_nodes(skip=s)\n",
    "    \n",
    "    netObj.construct_C(rho,h=input_bits)\n",
    "    \n",
    "    network_state = np.zeros(shape=(netObj.C_sparse.shape[0],1))\n",
    "    network_sources = []\n",
    "    \n",
    "    for n in range(0,len(node_list)):\n",
    "        network_state[code_length*n:code_length*(n+1),0] = initial_state\n",
    "\n",
    "    for up_gene in up_genes:\n",
    "        try:\n",
    "            i = node_list.index(up_gene)\n",
    "\n",
    "            network_state[netObj.code_length*i:netObj.code_length*(i+1),0] = high_state\n",
    "\n",
    "            if i not in network_sources:\n",
    "                network_sources.append(i)\n",
    "        except ValueError:\n",
    "            pass\n",
    "\n",
    "    for down_gene in down_genes:\n",
    "        try:\n",
    "            i = node_list.index(down_gene)\n",
    "\n",
    "            network_state[netObj.code_length*i:netObj.code_length*(i+1),0] = low_state\n",
    "\n",
    "            if i not in network_sources:\n",
    "                network_sources.append(i)\n",
    "        except ValueError:\n",
    "            pass\n",
    "        \n",
    "    for n in additional_source_nodes:\n",
    "        try:\n",
    "            i = node_list.index(n)\n",
    "\n",
    "            network_state[netObj.code_length*i:netObj.code_length*(i+1),0] = high_state\n",
    "\n",
    "            network_sources.append(i)\n",
    "        except ValueError:\n",
    "            pass\n",
    "        \n",
    "    this_state, steps = netObj.get_final_state(network_state,network_sources)\n",
    "    H_with_drugs = netObj.state_entropy(this_state,network_sources,reference_final_state)\n",
    "    H_drop, H_gain = netObj.entropy_drop_and_gain(this_state,final_state,reference_final_state,network_sources)\n",
    "    \n",
    "    drug_name = this_drug[2].split(' [')[0]\n",
    "    \n",
    "    df_temp = pd.DataFrame([[drug_name,H_with_drugs,this_drug[1]]],columns=['Drug','Relative Entropy','Drug Type'])\n",
    "    df_H_with_drugs = pd.concat([df_H_with_drugs,df_temp],sort=False,ignore_index=True)\n",
    "\n",
    "    df_temp = pd.DataFrame([[drug_name,H_drop,H_gain,this_drug[1]]],columns=['Drug', 'Drop', 'Gain','Drug Type'])\n",
    "    df_H_drop_and_gain = pd.concat([df_H_drop_and_gain,df_temp],sort=False,ignore_index=True)"
   ]
  },
  {
   "cell_type": "code",
   "execution_count": null,
   "metadata": {},
   "outputs": [],
   "source": [
    "try:\n",
    "    os.chdir('./counter_entropic_shift')\n",
    "except OSError:\n",
    "    os.mkdir('./counter_entropic_shift')\n",
    "    os.chdir('./counter_entropic_shift')"
   ]
  },
  {
   "cell_type": "code",
   "execution_count": null,
   "metadata": {},
   "outputs": [],
   "source": [
    "df_H_with_drugs = df_H_with_drugs.sort_values(by=['Relative Entropy'],ignore_index=True)\n",
    "\n",
    "all_tick_names = df_H_with_drugs['Drug'].to_list()\n",
    "tick_names = [n.split(' [')[0] for n in all_tick_names]\n",
    "data_size = len(tick_names)\n",
    "x = np.linspace(1,data_size,data_size)"
   ]
  },
  {
   "cell_type": "code",
   "execution_count": null,
   "metadata": {},
   "outputs": [],
   "source": [
    "df_temp = pd.DataFrame([['Ref',cancer_state_entropy,'None']],columns=['Protein','Relative Entropy','Drug Type'])\n",
    "df_H_with_drugs = pd.concat([df_temp,df_H_with_drugs],sort=False,ignore_index=True)\n",
    "\n",
    "df_H_with_drugs.to_csv('cancerM-high_all_drug_shifts-'+initial_state_type+'.csv',index=False)\n",
    "\n",
    "df_H_drop_and_gain = df_H_drop_and_gain.sort_values(by=['Drop'],ascending=False,ignore_index=True)\n",
    "df_H_drop_and_gain.to_csv('cancerM-split_all_drug_shifts-'+initial_state_type+'.csv',index=False)"
   ]
  },
  {
   "cell_type": "markdown",
   "metadata": {},
   "source": [
    "**Setup colorbar scale**"
   ]
  },
  {
   "cell_type": "code",
   "execution_count": null,
   "metadata": {},
   "outputs": [],
   "source": [
    "c_high = df_H_with_drugs['Relative Entropy'].to_numpy()[1:] - cancer_state_entropy\n",
    "r_min, r_max = np.min(c_high), np.max(c_high)\n",
    "max_r = max(abs(r_min),abs(r_max))\n",
    "v_min, v_max = -abs(r_min), abs(r_min)"
   ]
  },
  {
   "cell_type": "markdown",
   "metadata": {},
   "source": [
    "**Plot drugs ranked by their $ \\Delta H_{\\mathrm{ref}}(X) $**"
   ]
  },
  {
   "cell_type": "code",
   "execution_count": null,
   "metadata": {},
   "outputs": [],
   "source": [
    "fig, ax = plt.subplots(figsize=(8,7))\n",
    "\n",
    "plt.scatter(df_H_with_drugs['Relative Entropy'].to_numpy()[1:],x,c=c_high,cmap=cm.seismic,vmin=v_min,vmax=v_max,marker='o',alpha=0.8,s=70)\n",
    "plt.plot(cancer_state_entropy*np.ones(shape=x.shape),x,color='black',markersize=0,linewidth=4,alpha=1.0)\n",
    "plt.ylim(0.7,data_size+0.3)\n",
    "\n",
    "ax.set_yticks(np.arange(1,data_size+1))\n",
    "ax.set_yticklabels(tick_names,fontsize=14,rotation=0)\n",
    "\n",
    "plt.xlabel(r'$H_{\\mathrm{ref}}(X)$ (bits)',size=20,labelpad=15)\n",
    "plt.tick_params(axis='both',labelsize=20)\n",
    "\n",
    "ax.xaxis.tick_top()\n",
    "ax.xaxis.set_label_position('top') \n",
    "\n",
    "plt.xlim(0.99*np.min(df_H_with_drugs['Relative Entropy']),1.01*np.max(df_H_with_drugs['Relative Entropy']))\n",
    "\n",
    "plt.plot(-10,cancer_state_entropy,lw=0,ms=6,marker='o',label=r'Drug state: $\\{1,0\\}$',c='black')\n",
    "\n",
    "plt.legend(loc='lower right',frameon=True,fontsize=18,handlelength=1.0,handletextpad=0.25)\n",
    "\n",
    "cbar = plt.colorbar(fraction=0.05,pad=0.01)\n",
    "\n",
    "cbar.set_label(r'$\\Delta H_{\\mathrm{ref}}(X)$',fontsize=20,rotation=-90,labelpad=20)\n",
    "cbar.ax.tick_params(labelsize=18)\n",
    "\n",
    "plt.tight_layout()\n",
    "\n",
    "plt.show()"
   ]
  },
  {
   "cell_type": "markdown",
   "metadata": {},
   "source": [
    "**Plot drugs ranked by their $ \\Delta H_{\\mathrm{ref}}(X) $ drop component**"
   ]
  },
  {
   "cell_type": "code",
   "execution_count": null,
   "metadata": {},
   "outputs": [],
   "source": [
    "fig, ax = plt.subplots(figsize=(7,7))\n",
    "\n",
    "plt.barh(x,df_H_drop_and_gain['Drop'],color='Blue',label='drop')\n",
    "plt.barh(x,df_H_drop_and_gain['Gain'],color='Red',label='gain')\n",
    "\n",
    "plt.xlabel(r'drop/gain in $\\Delta H_{\\mathrm{ref}}(X)$ (bits)',size=20,labelpad=15)\n",
    "\n",
    "plt.tick_params(axis='x',labelsize=20,rotation=0)\n",
    "plt.tick_params(axis='y',labelsize=20)\n",
    "\n",
    "plt.ylim(0.5,len(df_H_drop_and_gain['Drug'])+0.5)\n",
    "plt.tick_params(axis='x',labelsize=18)\n",
    "plt.legend(frameon=False,fontsize=16,handlelength=1.0,handletextpad=0.25)\n",
    "plt.text(-4.5,6,r'$\\Delta H_{\\mathrm{ref}}(X)=$',fontsize=19)\n",
    "plt.text(-4.5,4.75,r'drop + gain',fontsize=19)\n",
    "\n",
    "ax.xaxis.tick_top()\n",
    "ax.xaxis.set_label_position('top') \n",
    "\n",
    "ax.set_yticks(np.arange(1,data_size+1))\n",
    "ax.set_yticklabels(df_H_drop_and_gain['Drug'],fontsize=20,rotation=0)\n",
    "\n",
    "plt.tight_layout()\n",
    "\n",
    "plt.show()"
   ]
  },
  {
   "cell_type": "code",
   "execution_count": null,
   "metadata": {},
   "outputs": [],
   "source": []
  }
 ],
 "metadata": {
  "kernelspec": {
   "display_name": "Python 3 (ipykernel)",
   "language": "python",
   "name": "python3"
  },
  "language_info": {
   "codemirror_mode": {
    "name": "ipython",
    "version": 3
   },
   "file_extension": ".py",
   "mimetype": "text/x-python",
   "name": "python",
   "nbconvert_exporter": "python",
   "pygments_lexer": "ipython3",
   "version": "3.8.9"
  }
 },
 "nbformat": 4,
 "nbformat_minor": 2
}
