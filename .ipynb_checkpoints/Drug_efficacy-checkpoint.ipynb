{
 "cells": [
  {
   "cell_type": "markdown",
   "metadata": {},
   "source": [
    "# Scanning drugs to counter signaling from viral PPIs"
   ]
  },
  {
   "cell_type": "markdown",
   "metadata": {},
   "source": [
    "Computes the change in network relative entropy from viral PPIs after addin"
   ]
  },
  {
   "cell_type": "code",
   "execution_count": 1,
   "metadata": {},
   "outputs": [],
   "source": [
    "import os, sys\n",
    "import numpy as np\n",
    "import scipy as sp\n",
    "import pandas as pd\n",
    "import copy as copy\n",
    "from tqdm.notebook import tqdm\n",
    "import math\n",
    "import scipy.stats as st\n",
    "\n",
    "from CoRe import reader\n",
    "from CoRe.ncip import ncip\n",
    "from CoRe.BA_C import BA\n",
    "\n",
    "import importlib\n",
    "\n",
    "import networkx as nx\n",
    "import matplotlib.pyplot as plt\n",
    "import json"
   ]
  },
  {
   "cell_type": "code",
   "execution_count": 2,
   "metadata": {},
   "outputs": [],
   "source": [
    "data_directory = \"/Users/swarnavo/Research/Reactome-Graph-Database/HumanData/SARS-Cov2\"\n",
    "os.chdir(data_directory)\n",
    "\n",
    "sars_pnames = pd.read_csv('SARS2_proteins_names.csv')['Bait'].to_list()"
   ]
  },
  {
   "cell_type": "code",
   "execution_count": 3,
   "metadata": {},
   "outputs": [],
   "source": [
    "selected_pathway = 'Immune System'\n",
    "pathway_nametag = selected_pathway.replace(' ','_')\n",
    "\n",
    "network_type = 'medium-PPI'\n",
    "\n",
    "data_directory = \"/Users/swarnavo/Research/Reactome-Graph-Database/HumanData/\" + pathway_nametag\n",
    "os.chdir(data_directory)\n",
    "\n",
    "edge_data = pd.read_pickle(pathway_nametag+'_'+network_type+'-edges.pkl')\n",
    "node_data = pd.read_pickle(pathway_nametag+'_'+network_type+'-nodes.pkl')"
   ]
  },
  {
   "cell_type": "code",
   "execution_count": 4,
   "metadata": {},
   "outputs": [
    {
     "name": "stderr",
     "output_type": "stream",
     "text": [
      "100%|██████████████████████████████████| 19217/19217 [00:01<00:00, 14167.72it/s]\n"
     ]
    },
    {
     "name": "stdout",
     "output_type": "stream",
     "text": [
      "Communication network Immune_System-medium-PPI-2.gml created.\n"
     ]
    }
   ],
   "source": [
    "remake_graph = False\n",
    "\n",
    "if remake_graph==False:\n",
    "    netObj = ncip()\n",
    "    netObj.load_graph(pathway_nametag+\"-\"+network_type+\".gml\")\n",
    "else:\n",
    "    netObj = ncip()\n",
    "    netObj.load_data(edge_data,node_data)\n",
    "    netObj.make_graph()\n",
    "    netObj.save_network(pathway_nametag,network_type)"
   ]
  },
  {
   "cell_type": "code",
   "execution_count": 5,
   "metadata": {},
   "outputs": [
    {
     "name": "stdout",
     "output_type": "stream",
     "text": [
      "R-ALL-9679737 natalizumab [extracellular region] ProteinDrug\n",
      "R-ALL-9681784 anakinra [extracellular region] ProteinDrug\n",
      "R-ALL-9681764 isunakinra [extracellular region] ProteinDrug\n",
      "R-ALL-9678829 baricitinib [cytosol] ChemicalDrug\n",
      "R-ALL-9678779 tofacitinib [cytosol] ChemicalDrug\n",
      "R-ALL-9678901 ibrutinib [cytosol] ChemicalDrug\n",
      "R-ALL-9678960 acalabrutinib [cytosol] ChemicalDrug\n",
      "R-ALL-9678786 ruxolitinib [cytosol] ChemicalDrug\n",
      "R-ALL-9715049 sarilumab [extracellular region] ProteinDrug\n",
      "R-ALL-9715070 satralizumab [extracellular region] ProteinDrug\n",
      "R-ALL-9681301 tocilizumab [extracellular region] ProteinDrug\n",
      "R-ALL-9679801 amlexanox [cytosol] ChemicalDrug\n",
      "R-ALL-9724689 omalizumab [extracellular region] ProteinDrug\n",
      "R-ALL-9678991 tacrolimus [cytosol] ChemicalDrug\n",
      "R-ALL-9679471 camrelizumab [extracellular region] ProteinDrug\n",
      "R-ALL-9679434 cemiplimab [extracellular region] ProteinDrug\n",
      "R-ALL-9679411 nivolumab [extracellular region] ProteinDrug\n",
      "R-ALL-9678628 HCQ [cytosol] ChemicalDrug\n",
      "R-ALL-9717004 delgocitinib [cytosol] ChemicalDrug\n",
      "19\n"
     ]
    }
   ],
   "source": [
    "drugs = []\n",
    "drug_names = []\n",
    "\n",
    "all_nodes = netObj.G_d.nodes(data=True)\n",
    "\n",
    "for n in netObj.G_d.nodes(data=True):\n",
    "    if 'Drug' in n[1]['class'] and 'lat' not in n[1]['name'] and n[0] not in drug_names:\n",
    "        print(n[0],n[1]['name'],n[1]['class'])\n",
    "        drugs.append((n[0],n[1]['class'],n[1]['name']))\n",
    "        drug_names.append(n[0])\n",
    "        \n",
    "print(len(drugs))"
   ]
  },
  {
   "cell_type": "code",
   "execution_count": 6,
   "metadata": {},
   "outputs": [
    {
     "name": "stdout",
     "output_type": "stream",
     "text": [
      "['HMOX1', 'RAB10', 'AP2A2', 'GGH', 'IL17RA', 'TOMM70', 'HECTD1', 'ELOC', 'NEU1', 'STOM', 'ELOB', 'EIF4E2', 'RHOA', 'CSNK2B', 'TBK1', 'GLA', 'CYB5R3', 'NLRX1', 'RAB14', 'RIPK1', 'GOLGA7', 'ITGB1', 'RNF41', 'PVR', 'IMPDH2', 'SLC27A2', 'PTGES2', 'ANO6', 'RAB7A', 'RAB18', 'RAB5C', 'SLC44A2', 'ERP44', 'ECSIT', 'RALA', 'NPC2']\n"
     ]
    }
   ],
   "source": [
    "f = open('SARS_CoV2-'+pathway_nametag+'_interactions.json')\n",
    "SARS_nodes = json.load(f)\n",
    "f.close()\n",
    "\n",
    "all_sars_nodes = []\n",
    "\n",
    "for s in SARS_nodes.keys():\n",
    "    all_sars_nodes += SARS_nodes[s]\n",
    "    \n",
    "all_sars_nodes = list(set(all_sars_nodes))\n",
    "\n",
    "print(all_sars_nodes)"
   ]
  },
  {
   "cell_type": "markdown",
   "metadata": {},
   "source": [
    "**Construction of the information channel model for the network.**\n",
    "\n",
    "$\\rho$ is the communication error for each edge. If a node receives input from multiple edges, the receiver state is the mean of the individual output states. The default channel type is a binary symmetric channel as defined in [Elements of information theory](https://books.google.com/books?hl=en&lr=&id=VWq5GG6ycxMC&oi=fnd&pg=PR15&ots=bZ6fK1WaYP&sig=g2JGYtx-EFJKhoFBG-THaWLfKY0#v=onepage&q&f=false)."
   ]
  },
  {
   "cell_type": "code",
   "execution_count": 7,
   "metadata": {},
   "outputs": [
    {
     "name": "stdout",
     "output_type": "stream",
     "text": [
      "[1. 0.] [0. 1.]\n"
     ]
    }
   ],
   "source": [
    "initial_state_type = 'maxEnt'\n",
    "\n",
    "errorname = '0.0'\n",
    "rho = float(errorname)\n",
    "\n",
    "input_bits = 1\n",
    "code_length = int(2**input_bits)\n",
    "\n",
    "#errorname = str(rho)#.replace('.','_')\n",
    "\n",
    "max_entropy_state = (1.0/float(code_length))*np.ones(shape=(code_length,))\n",
    "\n",
    "#if initial_maxEnt==True:\n",
    "#    initial_state = max_entropy_state\n",
    "#else:\n",
    "#    initial_state = np.zeros(shape=(code_length,))\n",
    "#    initial_state[0] = 1.0\n",
    "\n",
    "low_state = np.zeros(shape=(code_length,))\n",
    "low_state[-1] = 1.0\n",
    "\n",
    "high_state = np.zeros(shape=(code_length,))\n",
    "high_state[0] = 1.0\n",
    "\n",
    "if initial_state_type=='high':\n",
    "    initial_state = high_state\n",
    "elif initial_state_type=='low':\n",
    "    initial_state = low_state\n",
    "else:\n",
    "    initial_state = max_entropy_state\n",
    "\n",
    "print(high_state,low_state)\n",
    "\n",
    "netObj.construct_C(rho,h=input_bits,neglect_modules=[])\n",
    "node_list = list(netObj.G_d.nodes)"
   ]
  },
  {
   "cell_type": "markdown",
   "metadata": {},
   "source": [
    "**Initial and boundary conditions for information propagation**\n",
    "\n",
    "The state of each node is define by the binary probability state $\\{P(n=1),P(n=0)\\}$, where the abundance (or copy number) the physical entity (n) is coarse-grained into a binary variable high (1) or low (0). The maximum entropy state for each node is $\\{0.5,0.5\\}$. We set every node in the network initially at the maximum entropy state. \n",
    "\n",
    "We assume that direct interaction with SARS-CoV-2 proteins reduces the effective abundance of the associated network nodes, so we set the state of these nodes at $\\{0,1\\}$. Additionally, we set the state of ATP, ADP, and Pi at the maximum entropy state $\\{0.5,0.5\\}$."
   ]
  },
  {
   "cell_type": "code",
   "execution_count": 8,
   "metadata": {},
   "outputs": [],
   "source": [
    "additional_source_nodes = []#[\"R-ALL-139836\",\"R-ALL-196180\",\"R-ALL-113592\",\"R-ALL-29370\",\"R-ALL-29358\",\"R-ALL-113582\",\"R-ALL-29372\"]"
   ]
  },
  {
   "cell_type": "code",
   "execution_count": 9,
   "metadata": {},
   "outputs": [],
   "source": [
    "netObj.disconnect_drug_nodes()"
   ]
  },
  {
   "cell_type": "code",
   "execution_count": 11,
   "metadata": {},
   "outputs": [
    {
     "name": "stdout",
     "output_type": "stream",
     "text": [
      "Reference state relative entropy:  0.0\n"
     ]
    }
   ],
   "source": [
    "initial_network_state = np.zeros(shape=(netObj.C_sparse.shape[0],1))\n",
    "network_sources = {}\n",
    "\n",
    "for n in range(0,len(node_list)):\n",
    "    initial_network_state[code_length*n:code_length*(n+1),0] = initial_state\n",
    "    \n",
    "network_sources = []\n",
    "\n",
    "reference_final_state, steps = netObj.get_final_state(initial_network_state,[])\n",
    "reference_final_entropy = netObj.state_entropy(reference_final_state,[])\n",
    "print('Reference state relative entropy: ',reference_final_entropy)"
   ]
  },
  {
   "cell_type": "code",
   "execution_count": 12,
   "metadata": {},
   "outputs": [
    {
     "data": {
      "application/vnd.jupyter.widget-view+json": {
       "model_id": "4691c71b697d42bd817f1e516fb3f72c",
       "version_major": 2,
       "version_minor": 0
      },
      "text/plain": [
       "  0%|          | 0/17 [00:00<?, ?it/s]"
      ]
     },
     "metadata": {},
     "output_type": "display_data"
    },
    {
     "name": "stdout",
     "output_type": "stream",
     "text": [
      "[2075, 2672, 1996, 3076, 2031, 1832, 1825, 1646, 1723, 1973, 1843, 2236, 1713, 632, 714, 1978, 1865, 2222, 1810, 3041, 2059, 1680, 1656, 3013, 3214, 1979, 1795, 3151, 1785, 1768, 1269, 1283, 853, 1859, 2792, 2793]\n"
     ]
    }
   ],
   "source": [
    "network_state = np.zeros(shape=(netObj.C_sparse.shape[0],1))\n",
    "network_sources = []\n",
    "\n",
    "for n in range(0,len(node_list)):\n",
    "    network_state[code_length*n:code_length*(n+1),0] = initial_state\n",
    "\n",
    "for k in tqdm(SARS_nodes.keys()):\n",
    "    for n in SARS_nodes[k]:\n",
    "        try:\n",
    "            i = node_list.index(n)\n",
    "\n",
    "            network_state[netObj.code_length*i:netObj.code_length*(i+1),0] = low_state\n",
    "\n",
    "            if i not in network_sources:\n",
    "                network_sources.append(i)\n",
    "        except ValueError:\n",
    "            pass\n",
    "        \n",
    "    for n in additional_source_nodes:\n",
    "        try:\n",
    "            i = node_list.index(n)\n",
    "\n",
    "            network_state[netObj.code_length*i:netObj.code_length*(i+1),0] = initial_state\n",
    "\n",
    "            network_sources.append(i)\n",
    "        except ValueError:\n",
    "            pass\n",
    "        \n",
    "    #print(np.linalg.norm(network_state[k],1),len(network_sources[k]))\n",
    "    \n",
    "print(network_sources)"
   ]
  },
  {
   "cell_type": "markdown",
   "metadata": {},
   "source": [
    "**Relative entropy of the total network and number of steps to stationary state.**"
   ]
  },
  {
   "cell_type": "code",
   "execution_count": 13,
   "metadata": {},
   "outputs": [
    {
     "name": "stdout",
     "output_type": "stream",
     "text": [
      "31.310427528256373\n"
     ]
    }
   ],
   "source": [
    "final_state, steps = netObj.get_final_state(network_state,network_sources)\n",
    "final_entropy = netObj.state_entropy(final_state,network_sources,reference_final_state)\n",
    "print(final_entropy)"
   ]
  },
  {
   "cell_type": "code",
   "execution_count": 14,
   "metadata": {},
   "outputs": [
    {
     "data": {
      "application/vnd.jupyter.widget-view+json": {
       "model_id": "23bd09a5cdc14942a964ca724f48f25a",
       "version_major": 2,
       "version_minor": 0
      },
      "text/plain": [
       "  0%|          | 0/19 [00:00<?, ?it/s]"
      ]
     },
     "metadata": {},
     "output_type": "display_data"
    }
   ],
   "source": [
    "entropy_shifts = {}\n",
    "H_drops = {}\n",
    "H_gains = {}\n",
    "\n",
    "for s_pair in tqdm(drugs):\n",
    "    s = s_pair[0]\n",
    "    additional_source_nodes = [s]\n",
    "    \n",
    "    netObj.load_graph(pathway_nametag+\"-\"+network_type+\"-2.gml\")\n",
    "    netObj.disconnect_drug_nodes(skip=s)\n",
    "    \n",
    "    netObj.construct_C(rho,h=input_bits)\n",
    "    #netObj.disconnect_nodes('ChemicalDrug',additional_source_nodes)\n",
    "    #netObj.disconnect_nodes('ProteinDrug',additional_source_nodes)\n",
    "    \n",
    "    network_state = np.zeros(shape=(netObj.C_sparse.shape[0],1))\n",
    "    network_sources = []\n",
    "    \n",
    "    for n in range(0,len(node_list)):\n",
    "        network_state[code_length*n:code_length*(n+1),0] = initial_state\n",
    "\n",
    "    for k in SARS_nodes.keys():\n",
    "        for n in SARS_nodes[k]:\n",
    "            try:\n",
    "                i = node_list.index(n)\n",
    "\n",
    "                network_state[netObj.code_length*i:netObj.code_length*(i+1),0] = low_state\n",
    "\n",
    "                network_sources.append(i)\n",
    "            except ValueError:\n",
    "                pass\n",
    "\n",
    "        for n in additional_source_nodes:\n",
    "            try:\n",
    "                i = node_list.index(n)\n",
    "\n",
    "                network_state[netObj.code_length*i:netObj.code_length*(i+1),0] = high_state\n",
    "\n",
    "                network_sources.append(i)\n",
    "            except ValueError:\n",
    "                pass\n",
    "\n",
    "        #print(np.linalg.norm(network_state[k],1),len(network_sources[k]))\n",
    "        \n",
    "    entropy_shifts[s] = 0.0\n",
    "\n",
    "    this_state, steps = netObj.get_final_state(network_state,network_sources)\n",
    "    this_entropy = netObj.state_entropy(this_state,network_sources,reference_final_state)\n",
    "    H_drop, H_gain = netObj.entropy_drop_and_rise(this_state,final_state,reference_final_state,network_sources)\n",
    "                \n",
    "    entropy_shifts[s] = this_entropy\n",
    "    \n",
    "    H_drops[s] = H_drop\n",
    "    H_gains[s] = H_gain"
   ]
  },
  {
   "cell_type": "code",
   "execution_count": 15,
   "metadata": {},
   "outputs": [],
   "source": [
    "try:\n",
    "    os.chdir(data_directory+'/counter_entropic_shift')\n",
    "except OSError:\n",
    "    os.mkdir(data_directory+'/counter_entropic_shift')\n",
    "    os.chdir(data_directory+'/counter_entropic_shift')"
   ]
  },
  {
   "cell_type": "code",
   "execution_count": 16,
   "metadata": {},
   "outputs": [],
   "source": [
    "node_data = nx.get_node_attributes(netObj.G_d,\"name\")\n",
    "node_class = nx.get_node_attributes(netObj.G_d,\"class\")\n",
    "\n",
    "of = open('2-high_all_drug_shifts-'+initial_state_type+'.csv','w')\n",
    "\n",
    "print('Drug,Relative Entropy,Drug Type',file=of)\n",
    "\n",
    "print('Ref,'+str(final_entropy)+',0',file=of)\n",
    "\n",
    "for s in drugs:\n",
    "    if node_class[s[0]]==\"Complex\":\n",
    "        this_name = node_data[s[0]]\n",
    "        this_name = this_name.replace(',',';')\n",
    "    else:\n",
    "        this_name = s[2].split(' [')[0]\n",
    "        \n",
    "    print(this_name+','+str(entropy_shifts[s[0]])+','+str(s[1]),file=of)\n",
    "    \n",
    "of.close()\n",
    "\n",
    "of = open('2-split_all_drug_shifts-'+initial_state_type+'.csv','w')\n",
    "\n",
    "print('Drug,Drop,Gain,Drug Type',file=of)\n",
    "\n",
    "for s in drugs:\n",
    "    if node_class[s[0]]==\"Complex\":\n",
    "        this_name = node_data[s[0]]\n",
    "        this_name = this_name.replace(',',';')\n",
    "    else:\n",
    "        this_name = s[2].split(' [')[0]\n",
    "        \n",
    "    print(this_name+','+str(H_drops[s[0]])+','+str(H_gains[s[0]])+','+str(s[1]),file=of)\n",
    "    \n",
    "of.close()"
   ]
  },
  {
   "cell_type": "code",
   "execution_count": null,
   "metadata": {},
   "outputs": [],
   "source": [
    "print(all_sources)"
   ]
  },
  {
   "cell_type": "code",
   "execution_count": null,
   "metadata": {},
   "outputs": [],
   "source": []
  }
 ],
 "metadata": {
  "kernelspec": {
   "display_name": "Python 3 (ipykernel)",
   "language": "python",
   "name": "python3"
  },
  "language_info": {
   "codemirror_mode": {
    "name": "ipython",
    "version": 3
   },
   "file_extension": ".py",
   "mimetype": "text/x-python",
   "name": "python",
   "nbconvert_exporter": "python",
   "pygments_lexer": "ipython3",
   "version": "3.8.9"
  }
 },
 "nbformat": 4,
 "nbformat_minor": 2
}
