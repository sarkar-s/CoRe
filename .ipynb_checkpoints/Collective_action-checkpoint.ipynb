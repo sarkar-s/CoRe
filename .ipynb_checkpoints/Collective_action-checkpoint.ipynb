{
 "cells": [
  {
   "cell_type": "markdown",
   "id": "e605b37a",
   "metadata": {},
   "source": [
    "# Collective action of all SARS-CoV-2 proteins"
   ]
  },
  {
   "cell_type": "code",
   "execution_count": 1,
   "id": "efc18d30",
   "metadata": {},
   "outputs": [],
   "source": [
    "import os, sys\n",
    "import numpy as np\n",
    "import scipy as sp\n",
    "import pandas as pd\n",
    "import copy as copy\n",
    "from tqdm.notebook import tqdm\n",
    "import math\n",
    "import scipy.stats as st\n",
    "\n",
    "from CoRe import reader\n",
    "from CoRe.ncip import ncip\n",
    "from CoRe.BA_C import BA\n",
    "\n",
    "import importlib\n",
    "\n",
    "import networkx as nx\n",
    "import matplotlib.pyplot as plt\n",
    "import json\n",
    "\n",
    "from matplotlib import cm\n",
    "from matplotlib import rcParams\n",
    "import matplotlib.patches as patches"
   ]
  },
  {
   "cell_type": "code",
   "execution_count": 2,
   "id": "7d6f655c",
   "metadata": {},
   "outputs": [],
   "source": [
    "data_directory = \"./Examples/Immune_System\"\n",
    "os.chdir(data_directory)\n",
    "\n",
    "edge_data = pd.read_pickle('Immune_System_medium-PPI-edges.pkl')\n",
    "node_data = pd.read_pickle('Immune_System_medium-PPI-nodes.pkl')"
   ]
  },
  {
   "cell_type": "code",
   "execution_count": 3,
   "id": "5588d097",
   "metadata": {},
   "outputs": [],
   "source": [
    "remake_graph = False\n",
    "\n",
    "if remake_graph==False:\n",
    "    netObj = ncip()\n",
    "    netObj.load_graph('Immune_System-medium-PPI.gml')\n",
    "else:\n",
    "    netObj = ncip()\n",
    "    netObj.load_data(edge_data,node_data)\n",
    "    netObj.make_graph()\n",
    "    netObj.save_network(pathway_nametag,network_type)"
   ]
  },
  {
   "cell_type": "markdown",
   "id": "2ff69741",
   "metadata": {},
   "source": [
    "**All immune system communication network proteins that have PPI with SARS-CoV-2 proteins**"
   ]
  },
  {
   "cell_type": "code",
   "execution_count": 4,
   "id": "df6757eb",
   "metadata": {},
   "outputs": [
    {
     "name": "stdout",
     "output_type": "stream",
     "text": [
      "['HMOX1', 'AP2A2', 'ERP44', 'RIPK1', 'HECTD1', 'IL17RA', 'ELOC', 'IMPDH2', 'RNF41', 'EIF4E2', 'STOM', 'RHOA', 'ECSIT', 'RAB7A', 'TBK1', 'NLRX1', 'NPC2', 'CSNK2B', 'ELOB', 'GOLGA7', 'GGH', 'RAB18', 'RAB10', 'SLC27A2', 'TOMM70', 'CYB5R3', 'NEU1', 'RALA', 'ITGB1', 'RAB14', 'PTGES2', 'PVR', 'SLC44A2', 'RAB5C', 'ANO6', 'GLA']\n"
     ]
    }
   ],
   "source": [
    "f = open('SARS_CoV2-Immune_System_interactions.json')\n",
    "SARS_nodes = json.load(f)\n",
    "f.close()\n",
    "\n",
    "all_sars_nodes = []\n",
    "\n",
    "for s in SARS_nodes.keys():\n",
    "    all_sars_nodes += SARS_nodes[s]\n",
    "    \n",
    "all_sars_nodes = list(set(all_sars_nodes))\n",
    "\n",
    "print(all_sars_nodes)"
   ]
  },
  {
   "cell_type": "markdown",
   "id": "ec0a102a",
   "metadata": {},
   "source": [
    "**Specifying the reference state and construction of the global transition matrix**"
   ]
  },
  {
   "cell_type": "code",
   "execution_count": 5,
   "id": "3394bbce",
   "metadata": {},
   "outputs": [
    {
     "name": "stdout",
     "output_type": "stream",
     "text": [
      "[1. 0.] [0. 1.]\n"
     ]
    }
   ],
   "source": [
    "initial_state_type = 'maxEnt'\n",
    "\n",
    "errorname = '0.0'\n",
    "rho = float(errorname)\n",
    "\n",
    "input_bits = 1\n",
    "code_length = int(2**input_bits)\n",
    "\n",
    "max_entropy_state = (1.0/float(code_length))*np.ones(shape=(code_length,))\n",
    "\n",
    "low_state = np.zeros(shape=(code_length,))\n",
    "low_state[-1] = 1.0\n",
    "\n",
    "high_state = np.zeros(shape=(code_length,))\n",
    "high_state[0] = 1.0\n",
    "\n",
    "if initial_state_type=='high':\n",
    "    initial_state = high_state\n",
    "elif initial_state_type=='low':\n",
    "    initial_state = low_state\n",
    "else:\n",
    "    initial_state = max_entropy_state\n",
    "\n",
    "print(high_state,low_state)\n",
    "\n",
    "netObj.construct_C(rho,h=input_bits,neglect_modules=[])\n",
    "node_list = list(netObj.G_d.nodes)"
   ]
  },
  {
   "cell_type": "markdown",
   "id": "692352ad",
   "metadata": {},
   "source": [
    "**Disconnect drug nodes**"
   ]
  },
  {
   "cell_type": "code",
   "execution_count": 6,
   "id": "e553f5e3",
   "metadata": {},
   "outputs": [],
   "source": [
    "netObj.disconnect_drug_nodes()#skip='R-ALL-9678829')"
   ]
  },
  {
   "cell_type": "markdown",
   "id": "5fe1e25a",
   "metadata": {},
   "source": [
    "**Compute the reference stationary state of the network**"
   ]
  },
  {
   "cell_type": "code",
   "execution_count": 7,
   "id": "34340eda",
   "metadata": {},
   "outputs": [
    {
     "name": "stdout",
     "output_type": "stream",
     "text": [
      "Reference state relative entropy:  0.0\n"
     ]
    }
   ],
   "source": [
    "initial_network_state = np.zeros(shape=(netObj.C_sparse.shape[0],1))\n",
    "network_sources = {}\n",
    "\n",
    "for n in range(0,len(node_list)):\n",
    "    initial_network_state[code_length*n:code_length*(n+1),0] = initial_state\n",
    "    \n",
    "network_sources = []\n",
    "\n",
    "reference_final_state, steps = netObj.get_final_state(initial_network_state,[])\n",
    "reference_final_entropy = netObj.state_entropy(reference_final_state,[])\n",
    "print('Reference state relative entropy: ',reference_final_entropy)"
   ]
  },
  {
   "cell_type": "markdown",
   "id": "0722d1e3",
   "metadata": {},
   "source": [
    "**Set the SARS-CoV-2 nodes in the network to low abundance**"
   ]
  },
  {
   "cell_type": "code",
   "execution_count": 8,
   "id": "2214a990",
   "metadata": {},
   "outputs": [
    {
     "data": {
      "application/vnd.jupyter.widget-view+json": {
       "model_id": "248679ea672a40ddb1e09d6f1858770f",
       "version_major": 2,
       "version_minor": 0
      },
      "text/plain": [
       "  0%|          | 0/17 [00:00<?, ?it/s]"
      ]
     },
     "metadata": {},
     "output_type": "display_data"
    }
   ],
   "source": [
    "network_state = np.zeros(shape=(netObj.C_sparse.shape[0],1))\n",
    "network_sources = []\n",
    "\n",
    "for n in range(0,len(node_list)):\n",
    "    network_state[code_length*n:code_length*(n+1),0] = initial_state\n",
    "\n",
    "for k in tqdm(SARS_nodes.keys()):\n",
    "    for n in SARS_nodes[k]:\n",
    "        try:\n",
    "            i = node_list.index(n)\n",
    "\n",
    "            network_state[netObj.code_length*i:netObj.code_length*(i+1),0] = low_state\n",
    "\n",
    "            if i not in network_sources:\n",
    "                network_sources.append(i)\n",
    "        except ValueError:\n",
    "            pass"
   ]
  },
  {
   "cell_type": "code",
   "execution_count": 9,
   "id": "e78d8a05",
   "metadata": {},
   "outputs": [],
   "source": [
    "additional_source_nodes = ['PSMB8']\n",
    "\n",
    "for n in additional_source_nodes:\n",
    "    try:\n",
    "        i = node_list.index(n)\n",
    "        \n",
    "        network_state[netObj.code_length*i:netObj.code_length*(i+1),0] = high_state\n",
    "\n",
    "        network_sources.append(i)\n",
    "    except ValueError:\n",
    "        pass"
   ]
  },
  {
   "cell_type": "markdown",
   "id": "97e40dd2",
   "metadata": {},
   "source": [
    "**Compute stationary state of the network due to SARS-CoV-2 PPIs**"
   ]
  },
  {
   "cell_type": "code",
   "execution_count": 10,
   "id": "fe2a2d3c",
   "metadata": {},
   "outputs": [],
   "source": [
    "final_state, steps = netObj.get_final_state(network_state,network_sources)\n",
    "SARSCoV2_entropy = netObj.state_entropy(final_state,network_sources,reference_final_state)\n",
    "\n",
    "np.savetxt('collective_action_state-PSMB8.csv',final_state,delimiter=',')"
   ]
  },
  {
   "cell_type": "code",
   "execution_count": 11,
   "id": "5712a2b2",
   "metadata": {},
   "outputs": [],
   "source": [
    "node_list = netObj.G_d.nodes.data()\n",
    "\n",
    "total_genomic_entities = np.sum([x[1]['sequenced'] for x in node_list])\n",
    "\n",
    "genome_indices = [i for x,i in zip(node_list,range(0,len(node_list))) if x[1]['sequenced']!=0]\n",
    "\n",
    "gene_names = [x[0] for x in node_list if x[1]['sequenced']!=0]"
   ]
  },
  {
   "cell_type": "code",
   "execution_count": 12,
   "id": "a32fcf0b",
   "metadata": {},
   "outputs": [
    {
     "name": "stdout",
     "output_type": "stream",
     "text": [
      "(1131,)\n"
     ]
    }
   ],
   "source": [
    "local_entropies = np.zeros(shape=len(genome_indices))\n",
    "\n",
    "print(local_entropies.shape)"
   ]
  },
  {
   "cell_type": "code",
   "execution_count": 13,
   "id": "3a28bbd7",
   "metadata": {},
   "outputs": [],
   "source": [
    "for i in range(0,len(genome_indices)):\n",
    "    gen_i = genome_indices[i]\n",
    "\n",
    "    if len(network_sources)>0 and gen_i not in network_sources:\n",
    "        this_state = final_state[netObj.code_length*gen_i:netObj.code_length*(gen_i+1),0]\n",
    "        ref_state = reference_final_state[netObj.code_length*gen_i:netObj.code_length*(gen_i+1),0]\n",
    "\n",
    "        local_entropies[i] = st.entropy(this_state,ref_state,base=2)"
   ]
  },
  {
   "cell_type": "code",
   "execution_count": 14,
   "id": "568dc04b",
   "metadata": {},
   "outputs": [
    {
     "name": "stdout",
     "output_type": "stream",
     "text": [
      "[3.47730590e-04 6.24635432e-05 5.70794230e-05 ... 6.64877030e-03\n",
      " 2.73422231e-03 1.16588432e-02]\n"
     ]
    }
   ],
   "source": [
    "print(local_entropies)"
   ]
  },
  {
   "cell_type": "code",
   "execution_count": 15,
   "id": "719d1ef1",
   "metadata": {},
   "outputs": [],
   "source": [
    "os.chdir('../collective_action')"
   ]
  },
  {
   "cell_type": "code",
   "execution_count": 16,
   "id": "6e804d73",
   "metadata": {},
   "outputs": [],
   "source": [
    "wf = open('collectively_communicated_proteins-PSMB8.csv','w')\n",
    "\n",
    "print('Gene,Relative entropy (bits)',file=wf)\n",
    "\n",
    "for i in range(0,local_entropies.shape[0]):\n",
    "    if local_entropies[i]>0:\n",
    "        print(gene_names[i]+','+str(local_entropies[i]),file=wf)\n",
    "    \n",
    "wf.close()"
   ]
  },
  {
   "cell_type": "code",
   "execution_count": null,
   "id": "7c0e21fa",
   "metadata": {},
   "outputs": [],
   "source": [
    "C_dense = netObj.C_sparse.todense()\n",
    "C_diff = C_dense - np.eye(C_dense.shape[0])\n",
    "C_diff_sparse = sp.sparse.csr_matrix(C_diff)"
   ]
  },
  {
   "cell_type": "code",
   "execution_count": null,
   "id": "dc1421c7",
   "metadata": {},
   "outputs": [],
   "source": [
    "ns = sp.linalg.null_space(C_diff)"
   ]
  },
  {
   "cell_type": "code",
   "execution_count": null,
   "id": "7e22d561",
   "metadata": {},
   "outputs": [],
   "source": [
    "np.savetxt('nullspace-new.csv',ns,delimiter=',')"
   ]
  },
  {
   "cell_type": "code",
   "execution_count": null,
   "id": "c1bfdd07",
   "metadata": {},
   "outputs": [],
   "source": []
  }
 ],
 "metadata": {
  "kernelspec": {
   "display_name": "Python 3 (ipykernel)",
   "language": "python",
   "name": "python3"
  },
  "language_info": {
   "codemirror_mode": {
    "name": "ipython",
    "version": 3
   },
   "file_extension": ".py",
   "mimetype": "text/x-python",
   "name": "python",
   "nbconvert_exporter": "python",
   "pygments_lexer": "ipython3",
   "version": "3.9.6"
  }
 },
 "nbformat": 4,
 "nbformat_minor": 5
}
