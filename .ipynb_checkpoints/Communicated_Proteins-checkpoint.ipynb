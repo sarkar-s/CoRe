{
 "cells": [
  {
   "cell_type": "markdown",
   "metadata": {},
   "source": [
    "# Communicated proteins"
   ]
  },
  {
   "cell_type": "code",
   "execution_count": 1,
   "metadata": {},
   "outputs": [],
   "source": [
    "import os\n",
    "from json import dumps\n",
    "import logging\n",
    "import pandas as pd\n",
    "import numpy as np\n",
    "import copy\n",
    "\n",
    "import matplotlib.pyplot as plt\n",
    "from matplotlib import cm\n",
    "\n",
    "from CoRe.cypher_commands import command_set\n",
    "\n",
    "import networkx as nx\n",
    "import json"
   ]
  },
  {
   "cell_type": "code",
   "execution_count": 2,
   "metadata": {},
   "outputs": [
    {
     "name": "stdout",
     "output_type": "stream",
     "text": [
      "['node_ids', 'node_index', 'SARS-CoV2 Nsp7', 'SARS-CoV2 Nsp12', 'SARS-CoV2 Nsp13', 'SARS-CoV2 Nsp14', 'SARS-CoV2 ORF3a', 'SARS-CoV2 M', 'SARS-CoV2 ORF8', 'SARS-CoV2 ORF9b', 'SARS-CoV2 ORF9c']\n",
      "55\n"
     ]
    }
   ],
   "source": [
    "current_directory = os.getcwd()\n",
    "\n",
    "selected_TopLevelPathway = 'Immune System'\n",
    "pathway_nametag = selected_TopLevelPathway.replace(' ','_')\n",
    "\n",
    "network_type = 'medium-PPI'\n",
    "\n",
    "state_type = 'low'\n",
    "\n",
    "data_directory = current_directory + \"/Examples/\"+pathway_nametag\n",
    "os.chdir(data_directory)\n",
    "\n",
    "f = open('SARS_CoV2-'+pathway_nametag+'_interactions.json')\n",
    "SARS_nodes = json.load(f)\n",
    "f.close()\n",
    "\n",
    "communicated_proteins = pd.read_csv(state_type+'-SARS_CoV2_'+pathway_nametag+'_'+network_type+'_affected_genes0.0.csv')\n",
    "print(list(communicated_proteins))\n",
    "print(communicated_proteins['node_ids'].count())"
   ]
  },
  {
   "cell_type": "code",
   "execution_count": 3,
   "metadata": {},
   "outputs": [],
   "source": [
    "all_ref_gene_names = {}\n",
    "\n",
    "i = 0\n",
    "for gen_name in communicated_proteins['node_ids']:\n",
    "    try:\n",
    "        all_ref_gene_names[gen_name].append(i)\n",
    "    except KeyError:\n",
    "        all_ref_gene_names[gen_name] = [i]\n",
    "        \n",
    "    i += 1"
   ]
  },
  {
   "cell_type": "code",
   "execution_count": 4,
   "metadata": {},
   "outputs": [],
   "source": [
    "# Condense selected protein list\n",
    "first_indices = []\n",
    "indices_to_drop = []\n",
    "\n",
    "for k in all_ref_gene_names.keys():\n",
    "    first_indices.append(all_ref_gene_names[k][0])\n",
    "    \n",
    "    for d in all_ref_gene_names[k][1:]:\n",
    "        indices_to_drop.append(d)"
   ]
  },
  {
   "cell_type": "code",
   "execution_count": 5,
   "metadata": {},
   "outputs": [],
   "source": [
    "communicated_proteins = communicated_proteins.drop(indices_to_drop)\n",
    "all_ref_gene_names = communicated_proteins['node_ids'].to_list()"
   ]
  },
  {
   "cell_type": "code",
   "execution_count": 6,
   "metadata": {},
   "outputs": [
    {
     "name": "stdout",
     "output_type": "stream",
     "text": [
      "['SARS-CoV2 Nsp7', 'SARS-CoV2 Nsp12', 'SARS-CoV2 Nsp13', 'SARS-CoV2 Nsp14', 'SARS-CoV2 ORF3a', 'SARS-CoV2 M', 'SARS-CoV2 ORF8', 'SARS-CoV2 ORF9b', 'SARS-CoV2 ORF9c']\n"
     ]
    }
   ],
   "source": [
    "sars_proteins = list(communicated_proteins)[2:]\n",
    "print(sars_proteins)"
   ]
  },
  {
   "cell_type": "code",
   "execution_count": 7,
   "metadata": {},
   "outputs": [
    {
     "name": "stdout",
     "output_type": "stream",
     "text": [
      "dict_keys(['SARS-CoV2 Nsp2', 'SARS-CoV2 Nsp7', 'SARS-CoV2 Nsp8', 'SARS-CoV2 Nsp10', 'SARS-CoV2 Nsp12', 'SARS-CoV2 Nsp13', 'SARS-CoV2 Nsp14', 'SARS-CoV2 Nsp15', 'SARS-CoV2 Spike', 'SARS-CoV2 ORF3a', 'SARS-CoV2 E', 'SARS-CoV2 M', 'SARS-CoV2 ORF8', 'SARS-CoV2 ORF9b', 'SARS-CoV2 ORF9c', 'SARS-CoV2 N', 'SARS-CoV2 ORF10'])\n"
     ]
    }
   ],
   "source": [
    "SARS_indirect_nodes = {}\n",
    "SARS_indirect_nodes_wts = {}\n",
    "\n",
    "for k in SARS_nodes.keys():\n",
    "    SARS_indirect_nodes[k] = []\n",
    "    SARS_indirect_nodes_wts[k] = []\n",
    "    \n",
    "print(SARS_nodes.keys())\n",
    "    \n",
    "for s in sars_proteins:\n",
    "    d = communicated_proteins[s].to_numpy()\n",
    "    \n",
    "    for i in range(0,d.shape[0]):\n",
    "        if d[i]>0.0 and all_ref_gene_names[i] not in SARS_indirect_nodes[s]:\n",
    "            SARS_indirect_nodes[s].append(all_ref_gene_names[i])\n",
    "            SARS_indirect_nodes_wts[s].append(d[i])"
   ]
  },
  {
   "cell_type": "code",
   "execution_count": 8,
   "metadata": {},
   "outputs": [
    {
     "name": "stdout",
     "output_type": "stream",
     "text": [
      "SARS-CoV2 Nsp7 \t 11\n",
      "SARS-CoV2 Nsp12 \t 5\n",
      "SARS-CoV2 Nsp13 \t 3\n",
      "SARS-CoV2 Nsp14 \t 7\n",
      "SARS-CoV2 ORF3a \t 2\n",
      "SARS-CoV2 M \t 25\n",
      "SARS-CoV2 ORF8 \t 24\n",
      "SARS-CoV2 ORF9b \t 3\n",
      "SARS-CoV2 ORF9c \t 4\n"
     ]
    }
   ],
   "source": [
    "SARS_affected_refgenes = copy.deepcopy(SARS_nodes)\n",
    "\n",
    "for s in sars_proteins:\n",
    "    d = communicated_proteins[s].to_numpy()\n",
    "    \n",
    "    for i in range(0,d.shape[0]):\n",
    "        if d[i]>0.0 and all_ref_gene_names[i] not in SARS_affected_refgenes[s]:\n",
    "            SARS_affected_refgenes[s].append(all_ref_gene_names[i])\n",
    "            \n",
    "    print(s,'\\t',len(SARS_affected_refgenes[s]))\n",
    "            \n",
    "json_obj = json.dumps(SARS_affected_refgenes)\n",
    "            \n",
    "f = open(state_type+'-SARS_CoV2_total_'+pathway_nametag+'_'+network_type+'_interactions.json','w')\n",
    "f.write(json_obj)\n",
    "f.close()          "
   ]
  },
  {
   "cell_type": "code",
   "execution_count": 9,
   "metadata": {},
   "outputs": [
    {
     "name": "stdout",
     "output_type": "stream",
     "text": [
      "SARS-CoV2 Nsp7 , STOM, HMOX2\n",
      "SARS-CoV2 Nsp12 , RIPK3, FADD, CASP8, CASP10\n",
      "SARS-CoV2 Nsp13 , IKBKE, TOMM70\n",
      "SARS-CoV2 Nsp14 , IL36RN, IL1F10, IL1RL2, IL1RAPL1, IMPDH1\n",
      "SARS-CoV2 ORF3a , STX1A\n",
      "SARS-CoV2 M , C3, C3AR1, CFB, C2, C4B, C4A, C5, C5AR1, MCEMP1, ATP6V0C, CD55, CR1, CYB5R3, HMOX2, CFI, CFH, CFHR3, CD46, CR2, C5AR2, PROS1, EDA, EDA2R\n",
      "SARS-CoV2 ORF8 , IL11, IL11RA, CD47, ITGB2, ITGAM, ITGAX, OLFM4, MUC1, TNFRSF25, TNFSF15, TNFRSF6B, TNFSF14, TNFSF6, NECTIN2, CRTAM, CD226, CD96\n",
      "SARS-CoV2 ORF9b , MAVS, NLRX1\n",
      "SARS-CoV2 ORF9c , MAVS, TOMM70\n",
      "55\n"
     ]
    }
   ],
   "source": [
    "check_list = []\n",
    "\n",
    "for s in SARS_indirect_nodes.keys():\n",
    "    if len(SARS_indirect_nodes[s])>0:\n",
    "        outstring = ''\n",
    "        \n",
    "        for g in SARS_indirect_nodes[s]:\n",
    "            outstring += ', '+g\n",
    "            \n",
    "        print(s,outstring)\n",
    "        \n",
    "        check_list += SARS_indirect_nodes[s]\n",
    "        \n",
    "print(len(list(set(check_list))))"
   ]
  },
  {
   "cell_type": "code",
   "execution_count": null,
   "metadata": {},
   "outputs": [],
   "source": []
  }
 ],
 "metadata": {
  "kernelspec": {
   "display_name": "Python 3 (ipykernel)",
   "language": "python",
   "name": "python3"
  },
  "language_info": {
   "codemirror_mode": {
    "name": "ipython",
    "version": 3
   },
   "file_extension": ".py",
   "mimetype": "text/x-python",
   "name": "python",
   "nbconvert_exporter": "python",
   "pygments_lexer": "ipython3",
   "version": "3.8.9"
  }
 },
 "nbformat": 4,
 "nbformat_minor": 2
}
