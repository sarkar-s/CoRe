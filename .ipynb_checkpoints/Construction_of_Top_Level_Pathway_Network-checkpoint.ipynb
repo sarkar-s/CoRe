{
 "cells": [
  {
   "cell_type": "markdown",
   "metadata": {
    "slideshow": {
     "slide_type": "-"
    }
   },
   "source": [
    "# Network Construction"
   ]
  },
  {
   "cell_type": "markdown",
   "metadata": {},
   "source": [
    "    Copyright (C) 2022\n",
    "\n",
    "    Code by Swarnavo Sarkar\n",
    "    National Institute of Standards and Technology, Gaithersburg, MD\n",
    "\n",
    "    This work is licensed under the Creative Commons Attribution 4.0 International License. \n",
    "    To view a copy of this license, visit http://creativecommons.org/licenses/by/4.0/ \n",
    "    or send a letter to Creative Commons, PO Box 1866, Mountain View, CA 94042, USA.\n",
    "\n",
    "    If you find this code useful in your work, please cite our article\n",
    "    \"Communication network model of the immune system identifies potential dysregulation and therapies\", \n",
    "    Swarnavo Sarkar"
   ]
  },
  {
   "cell_type": "markdown",
   "metadata": {},
   "source": [
    "We use the data in the Reactome database for a Top Level Pathway to construct a network where the nodes represent physical entities connected by events, which include reactions, regulation, (de)polymerisation, synthesis, and degradations."
   ]
  },
  {
   "cell_type": "code",
   "execution_count": 1,
   "metadata": {},
   "outputs": [],
   "source": [
    "import os, sys\n",
    "from json import dumps\n",
    "import logging\n",
    "import pandas as pd\n",
    "import numpy as np\n",
    "import scipy as sp\n",
    "import math\n",
    "from tqdm.notebook import tqdm\n",
    "\n",
    "from CoRe.ncip import ncip\n",
    "from CoRe.cypher_commands import command_set\n",
    "\n",
    "from neo4j import GraphDatabase, basic_auth\n",
    "\n",
    "import networkx as nx\n",
    "import matplotlib.pyplot as plt"
   ]
  },
  {
   "cell_type": "markdown",
   "metadata": {},
   "source": [
    "**Create reactome graph database object using neo4j**"
   ]
  },
  {
   "cell_type": "code",
   "execution_count": 2,
   "metadata": {},
   "outputs": [],
   "source": [
    "reactome = GraphDatabase.driver(\"bolt://127.0.0.1:7687\", auth=(\"neo4j\", \"test\"))\n",
    "\n",
    "session = reactome.session()"
   ]
  },
  {
   "cell_type": "markdown",
   "metadata": {},
   "source": [
    "**All top level pathways in Reactome**"
   ]
  },
  {
   "cell_type": "code",
   "execution_count": 3,
   "metadata": {},
   "outputs": [
    {
     "data": {
      "text/plain": [
       "['Autophagy',\n",
       " 'Cell Cycle',\n",
       " 'Cell-Cell communication',\n",
       " 'Cellular responses to stimuli',\n",
       " 'Chromatin organization',\n",
       " 'Circadian Clock',\n",
       " 'Developmental Biology',\n",
       " 'Digestion and absorption',\n",
       " 'Disease',\n",
       " 'DNA Repair',\n",
       " 'DNA Replication',\n",
       " 'Drug ADME',\n",
       " 'Extracellular matrix organization',\n",
       " 'Gene expression (Transcription)',\n",
       " 'Hemostasis',\n",
       " 'Immune System',\n",
       " 'Metabolism',\n",
       " 'Metabolism of proteins',\n",
       " 'Metabolism of RNA',\n",
       " 'Muscle contraction',\n",
       " 'Neuronal System',\n",
       " 'Organelle biogenesis and maintenance',\n",
       " 'Programmed Cell Death',\n",
       " 'Protein localization',\n",
       " 'Reproduction',\n",
       " 'Sensory Perception',\n",
       " 'Signal Transduction',\n",
       " 'Transport of small molecules',\n",
       " 'Vesicle-mediated transport']"
      ]
     },
     "execution_count": 3,
     "metadata": {},
     "output_type": "execute_result"
    }
   ],
   "source": [
    "result = session.run(\"MATCH(tp:TopLevelPathway {speciesName:'Homo sapiens'}) RETURN DISTINCT tp.displayName\")\n",
    "\n",
    "all_TopLevelPathways = [res[0] for res in result]\n",
    "    \n",
    "all_TopLevelPathways"
   ]
  },
  {
   "cell_type": "markdown",
   "metadata": {},
   "source": [
    "**Select a Top Level Pathway**"
   ]
  },
  {
   "cell_type": "code",
   "execution_count": 4,
   "metadata": {},
   "outputs": [],
   "source": [
    "selected_TopLevelPathway = 'Immune System'\n",
    "pathway_nametag = selected_TopLevelPathway.replace(' ','_')\n",
    "\n",
    "output_directory = '/Users/swarnavo/Research/Reactome-Graph-Database/HumanData/'+ pathway_nametag\n",
    "\n",
    "try:\n",
    "    os.chdir(output_directory)\n",
    "except FileNotFoundError:\n",
    "    os.mkdir(output_directory)\n",
    "    os.chdir(output_directory)"
   ]
  },
  {
   "cell_type": "markdown",
   "metadata": {},
   "source": [
    "**Find the subpathways of the top level pathway**"
   ]
  },
  {
   "cell_type": "code",
   "execution_count": 5,
   "metadata": {},
   "outputs": [
    {
     "data": {
      "text/plain": [
       "['Innate Immune System',\n",
       " 'Cytokine Signaling in Immune system',\n",
       " 'Adaptive Immune System']"
      ]
     },
     "execution_count": 5,
     "metadata": {},
     "output_type": "execute_result"
    }
   ],
   "source": [
    "command = command_set['subpathways'].replace('#',selected_TopLevelPathway)\n",
    "result = session.run(command)\n",
    "\n",
    "subpathways = [res[0] for res in result]\n",
    "    \n",
    "subpathways"
   ]
  },
  {
   "cell_type": "markdown",
   "metadata": {},
   "source": [
    "**Collect all ReactionLikeEvents in the selected TopLevelPathway, these constitute the edges, or information channels, of the network.**"
   ]
  },
  {
   "cell_type": "code",
   "execution_count": 6,
   "metadata": {},
   "outputs": [
    {
     "name": "stdout",
     "output_type": "stream",
     "text": [
      "Total ReactionLikeEvents in Immune System :  1622\n"
     ]
    }
   ],
   "source": [
    "command = command_set['events'].replace('#',selected_TopLevelPathway)\n",
    "\n",
    "result = session.run(command)\n",
    "    \n",
    "all_results = [res[0] for res in result]\n",
    "\n",
    "data = {}\n",
    "data['reaction'] = [res['stId'] for res in all_results if res['isInDisease']==False]\n",
    "#data['category'] = [res['category'] for res in all_results if res['isInDisease']==False]\n",
    "data['name'] = [res['displayName'] for res in all_results if res['isInDisease']==False]\n",
    "data['schemaClass'] = [res['schemaClass'] for res in all_results if res['isInDisease']==False]\n",
    "data['module'] = [selected_TopLevelPathway for res in all_results if res['isInDisease']==False]\n",
    "\n",
    "df = pd.DataFrame(data)\n",
    "df.to_pickle(pathway_nametag+'-ReactionLikeEvents.pkl')\n",
    "df.to_csv(pathway_nametag+'-ReactionLikeEvents.csv',index=None)\n",
    "\n",
    "print('Total ReactionLikeEvents in',selected_TopLevelPathway,': ',len(data['reaction']))"
   ]
  },
  {
   "cell_type": "code",
   "execution_count": 7,
   "metadata": {},
   "outputs": [
    {
     "name": "stdout",
     "output_type": "stream",
     "text": [
      "176\n"
     ]
    }
   ],
   "source": [
    "c = 0\n",
    "\n",
    "for ii in range(0,len(df['reaction'])):\n",
    "    command_reg = command_set['regulation'].replace('#',df['reaction'][ii])\n",
    "    result_reg = session.run(command_reg)\n",
    "\n",
    "    for res in result_reg:\n",
    "        schemaClass = res[0]['schemaClass']\n",
    "        stId = res[0]['stId']\n",
    "        n = res[0]['displayName']\n",
    "\n",
    "        if stId!=None:\n",
    "            c += 1\n",
    "            \n",
    "print(c)"
   ]
  },
  {
   "cell_type": "markdown",
   "metadata": {},
   "source": [
    "**Identify inputs and outputs to each ReactionLikeEvent in the selected TopLevelPathway**\n",
    "\n",
    "The inputs and the outputs are physical entities that form the nodes of the network. There are 3 options for querying the inputs and ouputs (*network_type*):<br>\n",
    "**coarse** - does not break down physical entities complexes, defined set, and candidate set.<br>\n",
    "**medium** - break downs defined and candidate sets into individual compoments.<br>\n",
    "**fine** - break downs complexes, defined and candidate sets into individual compoments.<br>\n",
    "\n",
    "**neglect_class** - list of Reactome schemaClass of physial entities to be neglected from the graph. If network_type=medium, then we DefinedSet and CandidateSet has to be neglected because their components are being included individually. Additionally, we neglect the SimpleEntities, *e.g.* ATP, ADP, H2O, from the network."
   ]
  },
  {
   "cell_type": "code",
   "execution_count": 8,
   "metadata": {},
   "outputs": [
    {
     "data": {
      "application/vnd.jupyter.widget-view+json": {
       "model_id": "28154a24aa224268aeae85a9181f9b3f",
       "version_major": 2,
       "version_minor": 0
      },
      "text/plain": [
       "  0%|          | 0/1622 [00:00<?, ?it/s]"
      ]
     },
     "metadata": {},
     "output_type": "display_data"
    },
    {
     "name": "stdout",
     "output_type": "stream",
     "text": [
      "Total nodes in Immune System :  3367\n",
      "Total edges in Immune System :  16557\n"
     ]
    }
   ],
   "source": [
    "network_type = 'medium'\n",
    "neglect_class = ['DefinedSet','CandidateSet']\n",
    "field_value = 'stId' # Reactome database object attribute to use as a nodename\n",
    "\n",
    "# Create network object\n",
    "netmaker = ncip(field_value)\n",
    "\n",
    "for ii in tqdm(range(0,len(df['reaction']))):\n",
    "    command_in = command_set['input'][network_type].replace('#',df['reaction'][ii])\n",
    "    result_in = session.run(command_in)\n",
    "    input_results = [res[0] for res in result_in]\n",
    "\n",
    "    command_out = command_set['output'][network_type].replace('#',df['reaction'][ii])\n",
    "    result_out = session.run(command_out)\n",
    "    output_results = [res[0] for res in result_out]\n",
    "\n",
    "    command_sp = command_set['superpathways'].replace('#',df['reaction'][ii])\n",
    "    result_sp = session.run(command_sp)\n",
    "    \n",
    "    if 'Exocytosis' in df['name'][ii]:\n",
    "        netmaker.construct_exo_edges(input_results,neglect_class=neglect_class)\n",
    "    else:\n",
    "        netmaker.construct_edges(input_results,output_results,neglect_class=neglect_class)\n",
    "\n",
    "    netmaker.add_edges(session,df.loc[ii])\n",
    "\n",
    "    command_reg = command_set['regulation'].replace('#',df['reaction'][ii])\n",
    "    result_reg = session.run(command_reg)\n",
    "\n",
    "    for res in result_reg:\n",
    "        schemaClass = res[0]['schemaClass']\n",
    "        stId = res[0]['stId']\n",
    "        n = res[0]['displayName']\n",
    "\n",
    "        if stId!=None:\n",
    "            command_1 = command_set['regulator'].replace('#',schemaClass)\n",
    "            command = command_1.replace('%',stId)\n",
    "\n",
    "            result_reg = session.run(command)\n",
    "            reg_results = [result[0] for result in result_reg]\n",
    "\n",
    "            reg_edge_nodes = netmaker.construct_edges(reg_results,output_results,neglect_class=neglect_class)\n",
    "\n",
    "            edge_info = [stId,schemaClass,'Regulation',n]\n",
    "            edge_info = {'reaction':stId, 'schemaClass':schemaClass, 'name':n,'module':df.loc[ii]['module']}\n",
    "\n",
    "            netmaker.add_edges(session,edge_info)\n",
    "\n",
    "print('Total nodes in',selected_TopLevelPathway,': ',len(netmaker.node_data['node']))\n",
    "print('Total edges in',selected_TopLevelPathway,': ',len(netmaker.edge_data['input']))"
   ]
  },
  {
   "cell_type": "markdown",
   "metadata": {},
   "source": [
    "**Create and save networkx graph of the top level pathway**"
   ]
  },
  {
   "cell_type": "code",
   "execution_count": 9,
   "metadata": {},
   "outputs": [],
   "source": [
    "netmaker.save_edges_and_nodes(pathway_nametag,network_type)"
   ]
  },
  {
   "cell_type": "code",
   "execution_count": null,
   "metadata": {},
   "outputs": [],
   "source": []
  }
 ],
 "metadata": {
  "kernelspec": {
   "display_name": "Python 3 (ipykernel)",
   "language": "python",
   "name": "python3"
  },
  "language_info": {
   "codemirror_mode": {
    "name": "ipython",
    "version": 3
   },
   "file_extension": ".py",
   "mimetype": "text/x-python",
   "name": "python",
   "nbconvert_exporter": "python",
   "pygments_lexer": "ipython3",
   "version": "3.8.9"
  }
 },
 "nbformat": 4,
 "nbformat_minor": 2
}
