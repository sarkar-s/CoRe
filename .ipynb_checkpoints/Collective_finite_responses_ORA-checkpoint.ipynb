{
 "cells": [
  {
   "cell_type": "markdown",
   "id": "3c21a51a",
   "metadata": {},
   "source": [
    "# Finite responses ORA"
   ]
  },
  {
   "cell_type": "code",
   "execution_count": 2,
   "id": "ee0eb629",
   "metadata": {},
   "outputs": [],
   "source": [
    "import os\n",
    "from json import dumps\n",
    "import logging\n",
    "import pandas as pd\n",
    "import numpy as np\n",
    "import math\n",
    "import json\n",
    "from tqdm.notebook import tqdm\n",
    "\n",
    "from scipy.stats import hypergeom as hg\n",
    "\n",
    "import matplotlib.pyplot as plt\n",
    "from matplotlib import cm\n",
    "\n",
    "#from scipy.stats import hypergeom as hg\n",
    "import statsmodels.stats as sts\n",
    "\n",
    "from CoRe import reader, fnGO\n",
    "#from multipy.fdr import qvalue\n",
    "\n",
    "import random as rand"
   ]
  },
  {
   "cell_type": "code",
   "execution_count": 3,
   "id": "56b07245",
   "metadata": {},
   "outputs": [],
   "source": [
    "def sample_set(dropout_dict):\n",
    "    selected_set = []\n",
    "    \n",
    "    for gene in dropout_dict.keys():\n",
    "        xi = rand.uniform(1,0)\n",
    "        \n",
    "        if xi>dropout_dict[gene]:\n",
    "            selected_set.append(gene)\n",
    "            \n",
    "    selected_set = pd.DataFrame(selected_set,columns=None)\n",
    "            \n",
    "    return selected_set"
   ]
  },
  {
   "cell_type": "markdown",
   "id": "d5fa640d",
   "metadata": {},
   "source": [
    "**Read the gene sets and determine the list of unique genes**"
   ]
  },
  {
   "cell_type": "code",
   "execution_count": 4,
   "id": "d986fda2",
   "metadata": {},
   "outputs": [
    {
     "name": "stdout",
     "output_type": "stream",
     "text": [
      "Total gene sets:  7481\n",
      "Total unique genes:  17949\n"
     ]
    }
   ],
   "source": [
    "go_directory = \"/Users/swarnavo/Research/Reactome-Graph-Database/HumanData/GO_enrichment/GO_sets\"\n",
    "os.chdir(go_directory)\n",
    "\n",
    "f = open(('GO_BPs.json'))\n",
    "GO_BPs = json.load(f)\n",
    "f.close()\n",
    "\n",
    "for bp in GO_BPs.keys():\n",
    "    GO_BPs[bp] = pd.DataFrame(GO_BPs[bp])\n",
    "\n",
    "total_gene_set = pd.read_csv('all_unique_genes.csv',header=None)[0].to_list()\n",
    "total_genes = len(total_gene_set)\n",
    "\n",
    "print('Total gene sets: ',len(list(GO_BPs.keys())))\n",
    "print('Total unique genes: ',total_genes)"
   ]
  },
  {
   "cell_type": "markdown",
   "id": "52976bb2",
   "metadata": {},
   "source": [
    "**Read the names of minimal genes sets, or gene sets that do no contain other gene sets**"
   ]
  },
  {
   "cell_type": "code",
   "execution_count": 5,
   "id": "5fe5bd14",
   "metadata": {},
   "outputs": [],
   "source": [
    "data_directory = \"/Users/swarnavo/Research/Reactome-Graph-Database/HumanData/GO_enrichment\"\n",
    "os.chdir(data_directory)\n",
    "\n",
    "minimum_GOBP = pd.read_csv('minimum_BP_set.csv',header=None)[0].to_list()"
   ]
  },
  {
   "cell_type": "markdown",
   "id": "33b7a16f",
   "metadata": {},
   "source": [
    "Read the set of genes that have direct protein-protein interactions with SARS-CoV-2 proteins, and read the set of gene that are both directly interacting or indirectly receiving information about the SARS-CoV-2 proteins."
   ]
  },
  {
   "cell_type": "code",
   "execution_count": 6,
   "id": "7c04c0c7",
   "metadata": {},
   "outputs": [],
   "source": [
    "selected_pathway = 'Immune System'\n",
    "pathway_nametag = selected_pathway.replace(' ','_')\n",
    "\n",
    "network_type = 'medium-PPI'\n",
    "network_label = 'medium'\n",
    "state_type = 'maxEnt'\n",
    "\n",
    "data_directory = \"/Users/swarnavo/Research/Reactome-Graph-Database/HumanData/\"+pathway_nametag\n",
    "os.chdir(data_directory)\n",
    "\n",
    "direct_interaction_set = reader.read_interactions_for_GO('SARS_CoV2-'+pathway_nametag+'_interactions.json')"
   ]
  },
  {
   "cell_type": "code",
   "execution_count": null,
   "id": "910c4ebc",
   "metadata": {},
   "outputs": [],
   "source": []
  }
 ],
 "metadata": {
  "kernelspec": {
   "display_name": "Python 3 (ipykernel)",
   "language": "python",
   "name": "python3"
  },
  "language_info": {
   "codemirror_mode": {
    "name": "ipython",
    "version": 3
   },
   "file_extension": ".py",
   "mimetype": "text/x-python",
   "name": "python",
   "nbconvert_exporter": "python",
   "pygments_lexer": "ipython3",
   "version": "3.9.6"
  }
 },
 "nbformat": 4,
 "nbformat_minor": 5
}
