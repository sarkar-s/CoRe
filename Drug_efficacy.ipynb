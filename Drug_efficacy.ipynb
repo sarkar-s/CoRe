{
 "cells": [
  {
   "cell_type": "markdown",
   "metadata": {},
   "source": [
    "# Scanning drugs to counter signaling from viral PPIs"
   ]
  },
  {
   "cell_type": "markdown",
   "metadata": {},
   "source": [
    "**Computes the change in network relative entropy from viral PPIs after setting drug state to high abundance**"
   ]
  },
  {
   "cell_type": "code",
   "execution_count": 1,
   "metadata": {},
   "outputs": [],
   "source": [
    "import os, sys\n",
    "import numpy as np\n",
    "import scipy as sp\n",
    "import pandas as pd\n",
    "import copy as copy\n",
    "from tqdm.notebook import tqdm\n",
    "import math\n",
    "import scipy.stats as st\n",
    "\n",
    "from CoRe import reader\n",
    "from CoRe.ncip import ncip\n",
    "from CoRe.BA_C import BA\n",
    "\n",
    "import importlib\n",
    "\n",
    "import networkx as nx\n",
    "import matplotlib.pyplot as plt\n",
    "import json"
   ]
  },
  {
   "cell_type": "code",
   "execution_count": 2,
   "metadata": {},
   "outputs": [],
   "source": [
    "data_directory = \"./Examples/Immune_System\"\n",
    "os.chdir(data_directory)\n",
    "\n",
    "edge_data = pd.read_pickle('Immune_System_medium-PPI-edges.pkl')\n",
    "node_data = pd.read_pickle('Immune_System_medium-PPI-nodes.pkl')"
   ]
  },
  {
   "cell_type": "code",
   "execution_count": 3,
   "metadata": {},
   "outputs": [],
   "source": [
    "remake_graph = False\n",
    "\n",
    "if remake_graph==False:\n",
    "    netObj = ncip()\n",
    "    netObj.load_graph('Immune_System-medium-PPI.gml')\n",
    "else:\n",
    "    netObj = ncip()\n",
    "    netObj.load_data(edge_data,node_data)\n",
    "    netObj.make_graph()\n",
    "    netObj.save_network(pathway_nametag,network_type)"
   ]
  },
  {
   "cell_type": "markdown",
   "metadata": {},
   "source": [
    "**Drugs that are part of the immune system in the Reactome database**"
   ]
  },
  {
   "cell_type": "code",
   "execution_count": 4,
   "metadata": {},
   "outputs": [
    {
     "name": "stdout",
     "output_type": "stream",
     "text": [
      "R-ALL-9679737 natalizumab [extracellular region] ProteinDrug\n",
      "R-ALL-9681784 anakinra [extracellular region] ProteinDrug\n",
      "R-ALL-9681764 isunakinra [extracellular region] ProteinDrug\n",
      "R-ALL-9678829 baricitinib [cytosol] ChemicalDrug\n",
      "R-ALL-9678779 tofacitinib [cytosol] ChemicalDrug\n",
      "R-ALL-9678901 ibrutinib [cytosol] ChemicalDrug\n",
      "R-ALL-9678960 acalabrutinib [cytosol] ChemicalDrug\n",
      "R-ALL-9678786 ruxolitinib [cytosol] ChemicalDrug\n",
      "R-ALL-9715049 sarilumab [extracellular region] ProteinDrug\n",
      "R-ALL-9715070 satralizumab [extracellular region] ProteinDrug\n",
      "R-ALL-9681301 tocilizumab [extracellular region] ProteinDrug\n",
      "R-ALL-9679801 amlexanox [cytosol] ChemicalDrug\n",
      "R-ALL-9724689 omalizumab [extracellular region] ProteinDrug\n",
      "R-ALL-9678991 tacrolimus [cytosol] ChemicalDrug\n",
      "R-ALL-9679471 camrelizumab [extracellular region] ProteinDrug\n",
      "R-ALL-9679434 cemiplimab [extracellular region] ProteinDrug\n",
      "R-ALL-9679411 nivolumab [extracellular region] ProteinDrug\n",
      "R-ALL-9678628 HCQ [cytosol] ChemicalDrug\n",
      "R-ALL-9717004 delgocitinib [cytosol] ChemicalDrug\n"
     ]
    }
   ],
   "source": [
    "drugs = []\n",
    "drug_names = []\n",
    "\n",
    "all_nodes = netObj.G_d.nodes(data=True)\n",
    "\n",
    "for n in netObj.G_d.nodes(data=True):\n",
    "    if 'Drug' in n[1]['class'] and 'lat' not in n[1]['name'] and n[0] not in drug_names:\n",
    "        print(n[0],n[1]['name'],n[1]['class'])\n",
    "        drugs.append((n[0],n[1]['class'],n[1]['name']))\n",
    "        drug_names.append(n[0])"
   ]
  },
  {
   "cell_type": "markdown",
   "metadata": {},
   "source": [
    "**All immune system communication network proteins that have PPI with SARS-CoV-2 proteins**"
   ]
  },
  {
   "cell_type": "code",
   "execution_count": 7,
   "metadata": {},
   "outputs": [
    {
     "name": "stdout",
     "output_type": "stream",
     "text": [
      "['PTGES2', 'NLRX1', 'PVR', 'RAB18', 'RAB14', 'RAB7A', 'HECTD1', 'CSNK2B', 'RHOA', 'RNF41', 'GLA', 'NEU1', 'ELOB', 'GOLGA7', 'RAB5C', 'ELOC', 'IL17RA', 'TBK1', 'TOMM70', 'NPC2', 'ERP44', 'SLC44A2', 'GGH', 'HMOX1', 'RAB10', 'AP2A2', 'STOM', 'EIF4E2', 'SLC27A2', 'ANO6', 'ITGB1', 'RIPK1', 'CYB5R3', 'RALA', 'IMPDH2', 'ECSIT']\n"
     ]
    }
   ],
   "source": [
    "f = open('SARS_CoV2-Immune_System_interactions.json')\n",
    "SARS_nodes = json.load(f)\n",
    "f.close()\n",
    "\n",
    "all_sars_nodes = []\n",
    "\n",
    "for s in SARS_nodes.keys():\n",
    "    all_sars_nodes += SARS_nodes[s]\n",
    "    \n",
    "all_sars_nodes = list(set(all_sars_nodes))\n",
    "\n",
    "print(all_sars_nodes)"
   ]
  },
  {
   "cell_type": "markdown",
   "metadata": {},
   "source": [
    "**Specifying the reference state and construction of the global transition matrix**"
   ]
  },
  {
   "cell_type": "code",
   "execution_count": 8,
   "metadata": {},
   "outputs": [
    {
     "name": "stdout",
     "output_type": "stream",
     "text": [
      "[1. 0.] [0. 1.]\n"
     ]
    }
   ],
   "source": [
    "initial_state_type = 'maxEnt'\n",
    "\n",
    "errorname = '0.0'\n",
    "rho = float(errorname)\n",
    "\n",
    "input_bits = 1\n",
    "code_length = int(2**input_bits)\n",
    "\n",
    "max_entropy_state = (1.0/float(code_length))*np.ones(shape=(code_length,))\n",
    "\n",
    "low_state = np.zeros(shape=(code_length,))\n",
    "low_state[-1] = 1.0\n",
    "\n",
    "high_state = np.zeros(shape=(code_length,))\n",
    "high_state[0] = 1.0\n",
    "\n",
    "if initial_state_type=='high':\n",
    "    initial_state = high_state\n",
    "elif initial_state_type=='low':\n",
    "    initial_state = low_state\n",
    "else:\n",
    "    initial_state = max_entropy_state\n",
    "\n",
    "print(high_state,low_state)\n",
    "\n",
    "netObj.construct_C(rho,h=input_bits,neglect_modules=[])\n",
    "node_list = list(netObj.G_d.nodes)"
   ]
  },
  {
   "cell_type": "markdown",
   "metadata": {},
   "source": [
    "**Disconnect all drugs from the network initially**"
   ]
  },
  {
   "cell_type": "code",
   "execution_count": 9,
   "metadata": {},
   "outputs": [],
   "source": [
    "netObj.disconnect_drug_nodes()"
   ]
  },
  {
   "cell_type": "markdown",
   "metadata": {},
   "source": [
    "**Compute the reference stationary state of the network**"
   ]
  },
  {
   "cell_type": "code",
   "execution_count": 10,
   "metadata": {},
   "outputs": [
    {
     "name": "stdout",
     "output_type": "stream",
     "text": [
      "Reference state relative entropy:  0.0\n"
     ]
    }
   ],
   "source": [
    "initial_network_state = np.zeros(shape=(netObj.C_sparse.shape[0],1))\n",
    "network_sources = {}\n",
    "\n",
    "for n in range(0,len(node_list)):\n",
    "    initial_network_state[code_length*n:code_length*(n+1),0] = initial_state\n",
    "    \n",
    "network_sources = []\n",
    "\n",
    "reference_final_state, steps = netObj.get_final_state(initial_network_state,[])\n",
    "reference_final_entropy = netObj.state_entropy(reference_final_state,[])\n",
    "print('Reference state relative entropy: ',reference_final_entropy)"
   ]
  },
  {
   "cell_type": "markdown",
   "metadata": {},
   "source": [
    "**Set the SARS-CoV-2 nodes in the network to low abundance**"
   ]
  },
  {
   "cell_type": "code",
   "execution_count": 13,
   "metadata": {},
   "outputs": [
    {
     "data": {
      "application/vnd.jupyter.widget-view+json": {
       "model_id": "ec7c7fae9c244a39b4007b437574320e",
       "version_major": 2,
       "version_minor": 0
      },
      "text/plain": [
       "  0%|          | 0/17 [00:00<?, ?it/s]"
      ]
     },
     "metadata": {},
     "output_type": "display_data"
    }
   ],
   "source": [
    "network_state = np.zeros(shape=(netObj.C_sparse.shape[0],1))\n",
    "network_sources = []\n",
    "\n",
    "for n in range(0,len(node_list)):\n",
    "    network_state[code_length*n:code_length*(n+1),0] = initial_state\n",
    "\n",
    "for k in tqdm(SARS_nodes.keys()):\n",
    "    for n in SARS_nodes[k]:\n",
    "        try:\n",
    "            i = node_list.index(n)\n",
    "\n",
    "            network_state[netObj.code_length*i:netObj.code_length*(i+1),0] = low_state\n",
    "\n",
    "            if i not in network_sources:\n",
    "                network_sources.append(i)\n",
    "        except ValueError:\n",
    "            pass"
   ]
  },
  {
   "cell_type": "markdown",
   "metadata": {},
   "source": [
    "**Compute stationary state of the network due to SARS-CoV-2 PPIs**"
   ]
  },
  {
   "cell_type": "code",
   "execution_count": 14,
   "metadata": {},
   "outputs": [
    {
     "name": "stdout",
     "output_type": "stream",
     "text": [
      "65.4157289254401\n"
     ]
    }
   ],
   "source": [
    "final_state, steps = netObj.get_final_state(network_state,network_sources)\n",
    "final_entropy = netObj.state_entropy(final_state,network_sources,reference_final_state)\n",
    "print(final_entropy)"
   ]
  },
  {
   "cell_type": "markdown",
   "metadata": {},
   "source": [
    "**Compute stationary state of the network due to SARS-CoV-2 PPIs and drugs**\n",
    "\n",
    "The drugs in the Reactome database were set to the state {1,0} to compute the stationary state, and the subsequent change in the network relative entropy."
   ]
  },
  {
   "cell_type": "code",
   "execution_count": 16,
   "metadata": {},
   "outputs": [
    {
     "data": {
      "application/vnd.jupyter.widget-view+json": {
       "model_id": "0103e82052384b9bba570fd481accdf5",
       "version_major": 2,
       "version_minor": 0
      },
      "text/plain": [
       "  0%|          | 0/19 [00:00<?, ?it/s]"
      ]
     },
     "metadata": {},
     "output_type": "display_data"
    }
   ],
   "source": [
    "entropy_shifts = {}\n",
    "H_drops = {}\n",
    "H_gains = {}\n",
    "\n",
    "for s_pair in tqdm(drugs):\n",
    "    s = s_pair[0]\n",
    "    additional_source_nodes = [s]\n",
    "    \n",
    "    netObj.load_graph('Immune_System-medium-PPI.gml')\n",
    "    netObj.disconnect_drug_nodes(skip=s)\n",
    "    \n",
    "    netObj.construct_C(rho,h=input_bits)\n",
    "    \n",
    "    network_state = np.zeros(shape=(netObj.C_sparse.shape[0],1))\n",
    "    network_sources = []\n",
    "    \n",
    "    for n in range(0,len(node_list)):\n",
    "        network_state[code_length*n:code_length*(n+1),0] = initial_state\n",
    "\n",
    "    for k in SARS_nodes.keys():\n",
    "        for n in SARS_nodes[k]:\n",
    "            try:\n",
    "                i = node_list.index(n)\n",
    "\n",
    "                network_state[netObj.code_length*i:netObj.code_length*(i+1),0] = low_state\n",
    "\n",
    "                network_sources.append(i)\n",
    "            except ValueError:\n",
    "                pass\n",
    "\n",
    "        for n in additional_source_nodes:\n",
    "            try:\n",
    "                i = node_list.index(n)\n",
    "\n",
    "                network_state[netObj.code_length*i:netObj.code_length*(i+1),0] = high_state\n",
    "\n",
    "                network_sources.append(i)\n",
    "            except ValueError:\n",
    "                pass\n",
    "        \n",
    "    entropy_shifts[s] = 0.0\n",
    "\n",
    "    this_state, steps = netObj.get_final_state(network_state,network_sources)\n",
    "    this_entropy = netObj.state_entropy(this_state,network_sources,reference_final_state)\n",
    "    H_drop, H_gain = netObj.entropy_drop_and_rise(this_state,final_state,reference_final_state,network_sources)\n",
    "                \n",
    "    entropy_shifts[s] = this_entropy\n",
    "    \n",
    "    H_drops[s] = H_drop\n",
    "    H_gains[s] = H_gain"
   ]
  },
  {
   "cell_type": "code",
   "execution_count": 17,
   "metadata": {},
   "outputs": [
    {
     "ename": "FileNotFoundError",
     "evalue": "[Errno 2] No such file or directory: './Examples/Immune_System/counter_entropic_shift'",
     "output_type": "error",
     "traceback": [
      "\u001b[0;31m---------------------------------------------------------------------------\u001b[0m",
      "\u001b[0;31mFileNotFoundError\u001b[0m                         Traceback (most recent call last)",
      "Input \u001b[0;32mIn [17]\u001b[0m, in \u001b[0;36m<module>\u001b[0;34m\u001b[0m\n\u001b[1;32m      1\u001b[0m \u001b[38;5;28;01mtry\u001b[39;00m:\n\u001b[0;32m----> 2\u001b[0m     \u001b[43mos\u001b[49m\u001b[38;5;241;43m.\u001b[39;49m\u001b[43mchdir\u001b[49m\u001b[43m(\u001b[49m\u001b[43mdata_directory\u001b[49m\u001b[38;5;241;43m+\u001b[39;49m\u001b[38;5;124;43m'\u001b[39;49m\u001b[38;5;124;43m/counter_entropic_shift\u001b[39;49m\u001b[38;5;124;43m'\u001b[39;49m\u001b[43m)\u001b[49m\n\u001b[1;32m      3\u001b[0m \u001b[38;5;28;01mexcept\u001b[39;00m \u001b[38;5;167;01mOSError\u001b[39;00m:\n",
      "\u001b[0;31mFileNotFoundError\u001b[0m: [Errno 2] No such file or directory: './Examples/Immune_System/counter_entropic_shift'",
      "\nDuring handling of the above exception, another exception occurred:\n",
      "\u001b[0;31mFileNotFoundError\u001b[0m                         Traceback (most recent call last)",
      "Input \u001b[0;32mIn [17]\u001b[0m, in \u001b[0;36m<module>\u001b[0;34m\u001b[0m\n\u001b[1;32m      2\u001b[0m     os\u001b[38;5;241m.\u001b[39mchdir(data_directory\u001b[38;5;241m+\u001b[39m\u001b[38;5;124m'\u001b[39m\u001b[38;5;124m/counter_entropic_shift\u001b[39m\u001b[38;5;124m'\u001b[39m)\n\u001b[1;32m      3\u001b[0m \u001b[38;5;28;01mexcept\u001b[39;00m \u001b[38;5;167;01mOSError\u001b[39;00m:\n\u001b[0;32m----> 4\u001b[0m     \u001b[43mos\u001b[49m\u001b[38;5;241;43m.\u001b[39;49m\u001b[43mmkdir\u001b[49m\u001b[43m(\u001b[49m\u001b[43mdata_directory\u001b[49m\u001b[38;5;241;43m+\u001b[39;49m\u001b[38;5;124;43m'\u001b[39;49m\u001b[38;5;124;43m/counter_entropic_shift\u001b[39;49m\u001b[38;5;124;43m'\u001b[39;49m\u001b[43m)\u001b[49m\n\u001b[1;32m      5\u001b[0m     os\u001b[38;5;241m.\u001b[39mchdir(data_directory\u001b[38;5;241m+\u001b[39m\u001b[38;5;124m'\u001b[39m\u001b[38;5;124m/counter_entropic_shift\u001b[39m\u001b[38;5;124m'\u001b[39m)\n",
      "\u001b[0;31mFileNotFoundError\u001b[0m: [Errno 2] No such file or directory: './Examples/Immune_System/counter_entropic_shift'"
     ]
    }
   ],
   "source": [
    "try:\n",
    "    os.chdir(data_directory+'/counter_entropic_shift')\n",
    "except OSError:\n",
    "    os.mkdir(data_directory+'/counter_entropic_shift')\n",
    "    os.chdir(data_directory+'/counter_entropic_shift')"
   ]
  },
  {
   "cell_type": "code",
   "execution_count": null,
   "metadata": {},
   "outputs": [],
   "source": [
    "node_data = nx.get_node_attributes(netObj.G_d,\"name\")\n",
    "node_class = nx.get_node_attributes(netObj.G_d,\"class\")\n",
    "\n",
    "of = open('high_all_drug_shifts-'+initial_state_type+'.csv','w')\n",
    "\n",
    "print('Drug,Relative Entropy,Drug Type',file=of)\n",
    "\n",
    "print('Ref,'+str(final_entropy)+',0',file=of)\n",
    "\n",
    "for s in drugs:\n",
    "    if node_class[s[0]]==\"Complex\":\n",
    "        this_name = node_data[s[0]]\n",
    "        this_name = this_name.replace(',',';')\n",
    "    else:\n",
    "        this_name = s[2].split(' [')[0]\n",
    "        \n",
    "    print(this_name+','+str(entropy_shifts[s[0]])+','+str(s[1]),file=of)\n",
    "    \n",
    "of.close()\n",
    "\n",
    "of = open('split_all_drug_shifts-'+initial_state_type+'.csv','w')\n",
    "\n",
    "print('Drug,Drop,Gain,Drug Type',file=of)\n",
    "\n",
    "for s in drugs:\n",
    "    if node_class[s[0]]==\"Complex\":\n",
    "        this_name = node_data[s[0]]\n",
    "        this_name = this_name.replace(',',';')\n",
    "    else:\n",
    "        this_name = s[2].split(' [')[0]\n",
    "        \n",
    "    print(this_name+','+str(H_drops[s[0]])+','+str(H_gains[s[0]])+','+str(s[1]),file=of)\n",
    "    \n",
    "of.close()"
   ]
  },
  {
   "cell_type": "code",
   "execution_count": null,
   "metadata": {},
   "outputs": [],
   "source": []
  }
 ],
 "metadata": {
  "kernelspec": {
   "display_name": "Python 3 (ipykernel)",
   "language": "python",
   "name": "python3"
  },
  "language_info": {
   "codemirror_mode": {
    "name": "ipython",
    "version": 3
   },
   "file_extension": ".py",
   "mimetype": "text/x-python",
   "name": "python",
   "nbconvert_exporter": "python",
   "pygments_lexer": "ipython3",
   "version": "3.8.9"
  }
 },
 "nbformat": 4,
 "nbformat_minor": 2
}
