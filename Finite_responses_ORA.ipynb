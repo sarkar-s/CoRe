{
 "cells": [
  {
   "cell_type": "markdown",
   "metadata": {},
   "source": [
    "# Finite responses ORA"
   ]
  },
  {
   "cell_type": "markdown",
   "metadata": {},
   "source": [
    "**Computes the adjusted p-value (or Q-value) for GOBP terms as a function of the number of responses.**"
   ]
  },
  {
   "cell_type": "code",
   "execution_count": 1,
   "metadata": {},
   "outputs": [],
   "source": [
    "import os\n",
    "from json import dumps\n",
    "import logging\n",
    "import pandas as pd\n",
    "import numpy as np\n",
    "import math\n",
    "import json\n",
    "from tqdm.notebook import tqdm\n",
    "\n",
    "from scipy.stats import hypergeom as hg\n",
    "\n",
    "import matplotlib.pyplot as plt\n",
    "from matplotlib import cm\n",
    "\n",
    "#from scipy.stats import hypergeom as hg\n",
    "import statsmodels.stats as sts\n",
    "\n",
    "from CoRe import reader, fnGO\n",
    "from multipy.fdr import qvalue\n",
    "\n",
    "import random as rand"
   ]
  },
  {
   "cell_type": "code",
   "execution_count": 2,
   "metadata": {},
   "outputs": [],
   "source": [
    "def sample_set(dropout_dict):\n",
    "    selected_set = []\n",
    "    \n",
    "    for gene in dropout_dict.keys():\n",
    "        xi = rand.uniform(1,0)\n",
    "        \n",
    "        if xi>dropout_dict[gene]:\n",
    "            selected_set.append(gene)\n",
    "            \n",
    "    selected_set = pd.DataFrame(selected_set,columns=None)\n",
    "            \n",
    "    return selected_set"
   ]
  },
  {
   "cell_type": "markdown",
   "metadata": {},
   "source": [
    "**Read the gene sets and determine the list of unique genes.**"
   ]
  },
  {
   "cell_type": "code",
   "execution_count": 3,
   "metadata": {},
   "outputs": [
    {
     "name": "stdout",
     "output_type": "stream",
     "text": [
      "Total gene sets:  7481\n",
      "Total unique genes:  17949\n"
     ]
    }
   ],
   "source": [
    "go_directory = \"/Users/swarnavo/Research/Reactome-Graph-Database/HumanData/GO_enrichment/GO_sets\"\n",
    "os.chdir(go_directory)\n",
    "\n",
    "f = open(('GO_BPs.json'))\n",
    "GO_BPs = json.load(f)\n",
    "f.close()\n",
    "\n",
    "for bp in GO_BPs.keys():\n",
    "    GO_BPs[bp] = pd.DataFrame(GO_BPs[bp])\n",
    "\n",
    "total_gene_set = pd.read_csv('all_unique_genes.csv',header=None)[0].to_list()\n",
    "total_genes = len(total_gene_set)\n",
    "\n",
    "print('Total gene sets: ',len(list(GO_BPs.keys())))\n",
    "print('Total unique genes: ',total_genes)"
   ]
  },
  {
   "cell_type": "markdown",
   "metadata": {},
   "source": [
    "**Read the names of minimal genes sets, or gene sets that do no contain other gene sets.**"
   ]
  },
  {
   "cell_type": "code",
   "execution_count": 4,
   "metadata": {},
   "outputs": [],
   "source": [
    "data_directory = \"/Users/swarnavo/Research/Reactome-Graph-Database/HumanData/GO_enrichment\"\n",
    "os.chdir(data_directory)\n",
    "\n",
    "minimum_GOBP = pd.read_csv('minimum_BP_set.csv',header=None)[0].to_list()"
   ]
  },
  {
   "cell_type": "markdown",
   "metadata": {},
   "source": [
    "Read the set of genes that have direct protein-protein interactions with SARS-CoV-2 proteins, and read the set of gene that are both directly interacting or indirectly receiving information about the SARS-CoV-2 proteins."
   ]
  },
  {
   "cell_type": "code",
   "execution_count": 5,
   "metadata": {},
   "outputs": [],
   "source": [
    "selected_pathway = 'Immune System'\n",
    "pathway_nametag = selected_pathway.replace(' ','_')\n",
    "\n",
    "network_type = 'medium-PPI'\n",
    "network_label = 'medium'\n",
    "state_type = 'maxEnt'\n",
    "\n",
    "data_directory = \"/Users/swarnavo/Research/Reactome-Graph-Database/HumanData/\"+pathway_nametag\n",
    "os.chdir(data_directory)\n",
    "\n",
    "direct_interaction_set = reader.read_interactions_for_GO('SARS_CoV2-'+pathway_nametag+'_interactions.json')"
   ]
  },
  {
   "cell_type": "code",
   "execution_count": 6,
   "metadata": {},
   "outputs": [],
   "source": [
    "f = open('maxEnt-all_nontrivial_gos-H.json')\n",
    "all_nontrivial_gos = json.load(f)\n",
    "f.close()\n",
    "\n",
    "all_nontrivial_go_tags = {}\n",
    "\n",
    "for sp in all_nontrivial_gos.keys():\n",
    "    all_nontrivial_go_tags[sp] = []\n",
    "    \n",
    "    for go in all_nontrivial_gos[sp]:\n",
    "        all_nontrivial_go_tags[sp].append('GOBP_'+go.replace(' ','_'))"
   ]
  },
  {
   "cell_type": "code",
   "execution_count": 7,
   "metadata": {},
   "outputs": [],
   "source": [
    "f = open('maxEnt-all_p_gos-H.json')\n",
    "all_p_gos = json.load(f)\n",
    "f.close()\n",
    "\n",
    "all_p_go_names = {}\n",
    "\n",
    "for sp in all_p_gos.keys():\n",
    "    all_p_go_names[sp] = []\n",
    "    \n",
    "    for go in all_p_gos[sp]:\n",
    "        all_p_go_names[sp].append(go.replace('_',' ').replace('GOBP ',''))"
   ]
  },
  {
   "cell_type": "code",
   "execution_count": 8,
   "metadata": {},
   "outputs": [],
   "source": [
    "all_unique_gos = pd.read_csv(state_type+'-all_unique_go_names-H.csv',header=None)[0].to_list()\n",
    "go_tag = ['GOBP_'+s.replace(' ','_') for s in all_unique_gos]"
   ]
  },
  {
   "cell_type": "code",
   "execution_count": 9,
   "metadata": {
    "scrolled": true
   },
   "outputs": [],
   "source": [
    "communicated_set = pd.read_csv(state_type+'-SARS_CoV2_'+pathway_nametag+'_'+network_type+'_affected_genes0.0.csv')"
   ]
  },
  {
   "cell_type": "code",
   "execution_count": 10,
   "metadata": {},
   "outputs": [],
   "source": [
    "N = 100\n",
    "\n",
    "dropout_prob = {}\n",
    "\n",
    "for sp in list(communicated_set)[2:]:\n",
    "    dropout_prob[sp] = {}\n",
    "    \n",
    "    for i in range(0,communicated_set.shape[0]):\n",
    "        if communicated_set[sp][i]>0.0:\n",
    "            prob = 2**(-N*communicated_set[sp][i])\n",
    "            \n",
    "            if prob>=1e-5:\n",
    "                dropout_prob[sp][communicated_set['node_ids'][i]] = prob\n",
    "            else:\n",
    "                dropout_prob[sp][communicated_set['node_ids'][i]] = 0.0"
   ]
  },
  {
   "cell_type": "code",
   "execution_count": 11,
   "metadata": {},
   "outputs": [],
   "source": [
    "for sp in dropout_prob.keys():\n",
    "    for g in direct_interaction_set[sp][0].to_list():\n",
    "        dropout_prob[sp][g] = 0.0"
   ]
  },
  {
   "cell_type": "code",
   "execution_count": 12,
   "metadata": {},
   "outputs": [
    {
     "name": "stdout",
     "output_type": "stream",
     "text": [
      "Factor \t Direct interaction \t Direct + communicated interactions\n",
      "SARS-CoV2 Nsp2 \t 2 3\n",
      "SARS-CoV2 Nsp7 \t 9 28\n",
      "SARS-CoV2 Nsp12 \t 1 7\n",
      "SARS-CoV2 Nsp13 \t 1 3\n",
      "SARS-CoV2 Nsp14 \t 2 7\n",
      "SARS-CoV2 ORF3a \t 1 2\n",
      "SARS-CoV2 M \t 2 33\n",
      "SARS-CoV2 ORF8 \t 7 46\n",
      "SARS-CoV2 ORF9b \t 1 3\n",
      "SARS-CoV2 ORF9c \t 2 5\n",
      "SARS-CoV2 ORF10 \t 2 4\n"
     ]
    }
   ],
   "source": [
    "print('Factor \\t Direct interaction \\t Direct + communicated interactions')\n",
    "\n",
    "sources = []\n",
    "\n",
    "for sp in dropout_prob.keys():\n",
    "    if len(communicated_set[sp])>len(direct_interaction_set[sp]):# or 'Nsp2' in sp) and 'ORF10' not in sp:\n",
    "        sources.append(sp)\n",
    "        \n",
    "        print(sp,'\\t',len(direct_interaction_set[sp][0].to_list()),len(dropout_prob[sp].keys()))"
   ]
  },
  {
   "cell_type": "markdown",
   "metadata": {},
   "source": [
    "Identify the sources, or SARS-CoV-2 proteins, that are causing communication. We determine this if for a SARS-CoV-2 protein the number of affected genes is greater than the number of genes that have PPI."
   ]
  },
  {
   "cell_type": "code",
   "execution_count": 13,
   "metadata": {},
   "outputs": [],
   "source": [
    "go_names, p_values = {}, {}"
   ]
  },
  {
   "cell_type": "code",
   "execution_count": null,
   "metadata": {},
   "outputs": [
    {
     "data": {
      "application/vnd.jupyter.widget-view+json": {
       "model_id": "97d6dacc186d4683bf4430d989558e52",
       "version_major": 2,
       "version_minor": 0
      },
      "text/plain": [
       "  0%|          | 0/11 [00:00<?, ?it/s]"
      ]
     },
     "metadata": {},
     "output_type": "display_data"
    }
   ],
   "source": [
    "n_samples = 40000\n",
    "\n",
    "for sp in tqdm(dropout_prob.keys()):\n",
    "    go_names[sp] = all_nontrivial_gos[sp]\n",
    "    #go_names[sp] = all_p_gos[sp]\n",
    "    p_values[sp] = np.zeros(shape=(len(go_names[sp]),))\n",
    "    \n",
    "    actual_samples = 0\n",
    "    \n",
    "    for n in range(0,n_samples):\n",
    "        sp_set = sample_set(dropout_prob[sp])\n",
    "        \n",
    "        #sp_set = pd.DataFrame(list(dropout_prob[sp].keys()),columns=None)\n",
    "        len_interaction = int(sp_set[0].count())\n",
    "        \n",
    "        for go_idx in range(0,len(go_names[sp])):\n",
    "            go = all_nontrivial_go_tags[sp][go_idx]\n",
    "            #go = all_p_gos[sp][go_idx]\n",
    "            \n",
    "            intersection = pd.merge(GO_BPs[go], sp_set, how='inner').drop_duplicates([0])\n",
    "            len_intersection = int(intersection[0].count())\n",
    "            len_gene_BP = int(GO_BPs[go].count())\n",
    "            \n",
    "            if len_intersection>0:\n",
    "                pvalue = hg.sf(len_intersection-1, total_genes, len_gene_BP, len_interaction)\n",
    "                p_values[sp][go_idx] += pvalue \n",
    "                actual_samples += 1\n",
    "            else:\n",
    "                p_values[sp][go_idx] += 1\n",
    "    \n",
    "    for go_idx in range(0,len(go_names[sp])):\n",
    "        #p_values[sp][go_idx] *= 1.0/float(actual_samples)\n",
    "        p_values[sp][go_idx] *= 1.0/float(n_samples)\n",
    "        "
   ]
  },
  {
   "cell_type": "markdown",
   "metadata": {},
   "source": [
    "**Correct for multiple hypothesis testing.**"
   ]
  },
  {
   "cell_type": "code",
   "execution_count": null,
   "metadata": {},
   "outputs": [],
   "source": [
    "sources = []\n",
    "\n",
    "for sn in list(dropout_prob.keys()):\n",
    "    if np.sum(p_values[sn])>0:\n",
    "        sources.append(sn)"
   ]
  },
  {
   "cell_type": "code",
   "execution_count": null,
   "metadata": {},
   "outputs": [],
   "source": [
    "q_values = {}\n",
    "go_tags = {}\n",
    "\n",
    "for s_g in sources:\n",
    "    go_tags[s_g], go_names[s_g], q_values[s_g] = fnGO.compute_q_values(p_values[s_g],go_names[s_g],all_nontrivial_go_tags[s_g],0.01,return_all=True)"
   ]
  },
  {
   "cell_type": "markdown",
   "metadata": {},
   "source": [
    "**Specify a cutoff Q-value to determine the over-represented biological processes, and the list of GOBP terms to plot.**"
   ]
  },
  {
   "cell_type": "code",
   "execution_count": null,
   "metadata": {},
   "outputs": [],
   "source": [
    "cutoff = 0.01\n",
    "\n",
    "selected_gos = pd.read_csv('high-selected_gos-hierarchical.csv',header=None)[0].to_list()"
   ]
  },
  {
   "cell_type": "code",
   "execution_count": null,
   "metadata": {},
   "outputs": [],
   "source": [
    "total_q = (-math.log10(1))*np.ones(shape=(len(selected_gos),len(sources)))\n",
    "q_matrix = np.zeros(shape=(len(selected_gos),len(sources)))\n",
    "\n",
    "for i in range(0,len(selected_gos)):\n",
    "    for j in range(0,len(sources)):\n",
    "        s_g = sources[j]\n",
    "        \n",
    "        try:\n",
    "            k = go_names[s_g].index(selected_gos[i])\n",
    "            \n",
    "            if q_values[s_g][k]<cutoff:         \n",
    "                total_q[i,j] = -math.log10(max(q_values[s_g][k],1e-10))\n",
    "            #else:\n",
    "            #    total_q[i,j] = 1.0\n",
    "            \n",
    "            q_matrix[i,j] = q_values[s_g][k]\n",
    "                \n",
    "        except ValueError:\n",
    "            pass\n",
    "\n",
    "short_sars = []\n",
    "\n",
    "for s in sources:\n",
    "    short_sars.append(s.split(' ')[1])"
   ]
  },
  {
   "cell_type": "markdown",
   "metadata": {},
   "source": [
    "**Setup color scale for the plot.**"
   ]
  },
  {
   "cell_type": "code",
   "execution_count": null,
   "metadata": {},
   "outputs": [],
   "source": [
    "c_max = min(np.max(total_q),10.0)\n",
    "\n",
    "r = c_max + math.log10(cutoff)\n",
    "c_min = -math.log10(cutoff) - r\n",
    "\n",
    "pixel_width = 0.5\n",
    "\n",
    "l = pixel_width*len(selected_gos)\n",
    "w = 0.9*pixel_width*len(short_sars)"
   ]
  },
  {
   "cell_type": "code",
   "execution_count": null,
   "metadata": {},
   "outputs": [],
   "source": [
    "fig, ax = plt.subplots(figsize=(4,11))\n",
    "\n",
    "plt.imshow(total_q,cmap=cm.Reds,aspect='auto',vmin=0,vmax=10)\n",
    "cbar = plt.colorbar(fraction=0.05,pad=0.05)\n",
    "\n",
    "ax.set_xticks(np.arange(0,len(short_sars)))\n",
    "ax.set_xticklabels(short_sars,fontsize=20,rotation=90)\n",
    "\n",
    "ax.set_yticks(np.arange(0,len(selected_gos)))\n",
    "ax.set_yticklabels(selected_gos,fontsize=16)\n",
    "\n",
    "cbar.set_label(r'$-\\log_{10}$($Q$)',fontsize=18,rotation=-90,labelpad=20)\n",
    "cbar.ax.tick_params(labelsize=18)\n",
    "\n",
    "ax.set_xticks(np.arange(-.5, len(short_sars), 1), minor=True)\n",
    "ax.set_yticks(np.arange(-.5, len(selected_gos), 1), minor=True)\n",
    "\n",
    "ax.grid(which='minor', color='black', linestyle='-', linewidth=1.5, alpha=0.5)"
   ]
  },
  {
   "cell_type": "markdown",
   "metadata": {},
   "source": [
    "**Save the Q-value for N**"
   ]
  },
  {
   "cell_type": "code",
   "execution_count": null,
   "metadata": {},
   "outputs": [],
   "source": [
    "q_data = pd.DataFrame(q_matrix,columns=sources,index=None)\n",
    "\n",
    "q_data.insert(0,\"GOBP\",selected_gos)\n",
    "\n",
    "q_data.to_csv(state_type+'-q_data'+str(N)+'.csv',index=None)"
   ]
  },
  {
   "cell_type": "code",
   "execution_count": null,
   "metadata": {},
   "outputs": [],
   "source": []
  }
 ],
 "metadata": {
  "kernelspec": {
   "display_name": "Python 3 (ipykernel)",
   "language": "python",
   "name": "python3"
  },
  "language_info": {
   "codemirror_mode": {
    "name": "ipython",
    "version": 3
   },
   "file_extension": ".py",
   "mimetype": "text/x-python",
   "name": "python",
   "nbconvert_exporter": "python",
   "pygments_lexer": "ipython3",
   "version": "3.8.9"
  }
 },
 "nbformat": 4,
 "nbformat_minor": 2
}
