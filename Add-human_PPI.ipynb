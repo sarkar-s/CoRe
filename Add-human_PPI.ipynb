{
 "cells": [
  {
   "cell_type": "markdown",
   "id": "a665ed2e",
   "metadata": {},
   "source": [
    "# Add interactions to the network"
   ]
  },
  {
   "cell_type": "markdown",
   "id": "cb11398d",
   "metadata": {},
   "source": [
    "This notebook identfies the proteins in the communication network built from Reactome and adds edges due protein-protein interactions (PPI). The human PPI data is taken from [The Human Reference Protein Interactome Mapping Project](http://www.interactome-atlas.org/download)."
   ]
  },
  {
   "cell_type": "code",
   "execution_count": 1,
   "id": "5a6501fc",
   "metadata": {},
   "outputs": [],
   "source": [
    "import os, sys\n",
    "import numpy as np\n",
    "import scipy as sp\n",
    "import pandas as pd\n",
    "import copy as copy\n",
    "from tqdm.notebook import tqdm\n",
    "import math\n",
    "import scipy.stats as st\n",
    "\n",
    "from CoRe.ncip import ncip\n",
    "from CoRe import reader\n",
    "\n",
    "import matplotlib.pyplot as plt\n",
    "\n",
    "import networkx as nx"
   ]
  },
  {
   "cell_type": "markdown",
   "id": "f54c3dc5",
   "metadata": {},
   "source": [
    "**Read protein-protein interaction data.**"
   ]
  },
  {
   "cell_type": "code",
   "execution_count": 2,
   "id": "52f3f1af",
   "metadata": {},
   "outputs": [],
   "source": [
    "data_directory = \"./Examples\"\n",
    "os.chdir(data_directory)\n",
    "\n",
    "huPPI = pd.read_csv('ppi-genes.csv',header=None)"
   ]
  },
  {
   "cell_type": "markdown",
   "id": "21103a0b",
   "metadata": {},
   "source": [
    "**Read the nodes and the edges of the reactome information network.**"
   ]
  },
  {
   "cell_type": "code",
   "execution_count": 3,
   "id": "8036ed03",
   "metadata": {},
   "outputs": [],
   "source": [
    "selected_pathway = 'Immune System'\n",
    "pathway_nametag = selected_pathway.replace(' ','_')\n",
    "\n",
    "network_type = 'medium'\n",
    "\n",
    "data_directory = \"./\" + pathway_nametag\n",
    "os.chdir(data_directory)\n",
    "\n",
    "edge_data = pd.read_pickle(pathway_nametag+'_'+network_type+'-edges.pkl')\n",
    "node_data = pd.read_pickle(pathway_nametag+'_'+network_type+'-nodes.pkl')\n",
    "all_nodes = node_data['node']"
   ]
  },
  {
   "cell_type": "markdown",
   "id": "64ba672a",
   "metadata": {},
   "source": [
    "**Identify the nodes in the network that have PPI, and add them as additional edges to the network.**"
   ]
  },
  {
   "cell_type": "code",
   "execution_count": 4,
   "id": "e4e79d01",
   "metadata": {},
   "outputs": [
    {
     "data": {
      "application/vnd.jupyter.widget-view+json": {
       "model_id": "3918094444804bc1b042a665e25fb99b",
       "version_major": 2,
       "version_minor": 0
      },
      "text/plain": [
       "0it [00:00, ?it/s]"
      ]
     },
     "metadata": {},
     "output_type": "display_data"
    },
    {
     "name": "stdout",
     "output_type": "stream",
     "text": [
      "Total protein-protein interactions to add: 532\n"
     ]
    }
   ],
   "source": [
    "c = 0 \n",
    "\n",
    "for i,row in tqdm(huPPI.iterrows()):\n",
    "    hu1, hu2 = row[0], row[1]\n",
    "    \n",
    "    x = all_nodes[all_nodes == hu1]\n",
    "    y = all_nodes[all_nodes == hu2]\n",
    "    \n",
    "    if len(x)>0 and len(y)>0:\n",
    "        df_temp = pd.DataFrame([[hu1,hu2,'PPI','PPI','PPI','PPI']],columns=['input','output','reaction','name','schemaClass','module'])\n",
    "        edge_data = pd.concat([edge_data,df_temp],sort=False,ignore_index=True)\n",
    "        \n",
    "        c += 1\n",
    "    \n",
    "print('Total protein-protein interactions to add:',c)"
   ]
  },
  {
   "cell_type": "markdown",
   "id": "86da20b3",
   "metadata": {},
   "source": [
    "**Create the communication network with the combined reactome and interactome edges.**"
   ]
  },
  {
   "cell_type": "code",
   "execution_count": 5,
   "id": "0dd44708",
   "metadata": {},
   "outputs": [
    {
     "name": "stderr",
     "output_type": "stream",
     "text": [
      "100%|██████████████████████████████████| 17621/17621 [00:01<00:00, 12510.21it/s]\n"
     ]
    },
    {
     "name": "stdout",
     "output_type": "stream",
     "text": [
      "Communication network Immune_System-medium.gml created.\n"
     ]
    }
   ],
   "source": [
    "netmaker = ncip()\n",
    "netmaker.load_data(edge_data,node_data)\n",
    "\n",
    "netmaker.save_edges_and_nodes(pathway_nametag,network_type)\n",
    "\n",
    "netmaker.make_graph()\n",
    "netmaker.save_network(pathway_nametag,network_type)"
   ]
  },
  {
   "cell_type": "markdown",
   "id": "eb69dd45",
   "metadata": {},
   "source": [
    "**Remove self-loops that are not regulatory reactions.**"
   ]
  },
  {
   "cell_type": "code",
   "execution_count": 6,
   "id": "79262b90",
   "metadata": {},
   "outputs": [],
   "source": [
    "sl = list(nx.selfloop_edges(netmaker.G_d))\n",
    "\n",
    "for e in sl:\n",
    "    if 'regulation' not in netmaker.G_d[e[0]][e[1]]['category']:\n",
    "        netmaker.G_d.remove_edge(e[0],e[1])"
   ]
  },
  {
   "cell_type": "markdown",
   "id": "40fe3e0b",
   "metadata": {},
   "source": [
    "**Remove isolates, or nodes that are note connected to any other node in the network.**"
   ]
  },
  {
   "cell_type": "code",
   "execution_count": 7,
   "id": "70c06c33",
   "metadata": {},
   "outputs": [],
   "source": [
    "ni = list(nx.isolates(netmaker.G_d))\n",
    "\n",
    "for n in ni:\n",
    "    netmaker.G_d.remove_node(n)"
   ]
  },
  {
   "cell_type": "markdown",
   "id": "21391980",
   "metadata": {},
   "source": [
    "**Save the network with the PPI edges.**"
   ]
  },
  {
   "cell_type": "code",
   "execution_count": 8,
   "id": "86c380d2",
   "metadata": {},
   "outputs": [
    {
     "name": "stdout",
     "output_type": "stream",
     "text": [
      "Communication network Immune_System-medium-PPI.gml created.\n"
     ]
    }
   ],
   "source": [
    "netmaker.save_network(pathway_nametag,network_type+'-PPI')\n",
    "netmaker.save_edges_and_nodes(pathway_nametag,network_type+'-PPI')"
   ]
  },
  {
   "cell_type": "code",
   "execution_count": null,
   "id": "6d986227",
   "metadata": {},
   "outputs": [],
   "source": []
  }
 ],
 "metadata": {
  "kernelspec": {
   "display_name": "Python 3 (ipykernel)",
   "language": "python",
   "name": "python3"
  },
  "language_info": {
   "codemirror_mode": {
    "name": "ipython",
    "version": 3
   },
   "file_extension": ".py",
   "mimetype": "text/x-python",
   "name": "python",
   "nbconvert_exporter": "python",
   "pygments_lexer": "ipython3",
   "version": "3.9.6"
  }
 },
 "nbformat": 4,
 "nbformat_minor": 5
}
