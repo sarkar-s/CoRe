{
 "cells": [
  {
   "cell_type": "markdown",
   "id": "df734822",
   "metadata": {},
   "source": [
    "# Test of the network transition matrix"
   ]
  },
  {
   "cell_type": "code",
   "execution_count": 1,
   "id": "3dd0f0de",
   "metadata": {},
   "outputs": [],
   "source": [
    "import os, sys\n",
    "import numpy as np\n",
    "import scipy as sp\n",
    "import pandas as pd\n",
    "import copy as copy\n",
    "from tqdm.notebook import tqdm\n",
    "import math\n",
    "import scipy.stats as st\n",
    "\n",
    "from CoRe import reader\n",
    "from CoRe.ncip import ncip\n",
    "from CoRe.BA_C import BA\n",
    "\n",
    "import importlib\n",
    "\n",
    "import networkx as nx\n",
    "import matplotlib.pyplot as plt\n",
    "import json\n",
    "import copy\n",
    "import glob"
   ]
  },
  {
   "cell_type": "code",
   "execution_count": 2,
   "id": "3667861d",
   "metadata": {},
   "outputs": [],
   "source": [
    "def compute_residual(nullspace,steady_state):\n",
    "    w = []\n",
    "\n",
    "    for i in range(0,nullspace.shape[1]):\n",
    "        w.append(np.dot(nullspace[:,i],steady_state)[0])\n",
    "        \n",
    "    solution = np.zeros(shape=(steady_state.shape[0],))\n",
    "\n",
    "    for i in range(0,nullspace.shape[1]):\n",
    "        solution += w[i]*nullspace[:,i]\n",
    "        \n",
    "    return (np.linalg.norm(solution-steady_state[:,0],np.inf))"
   ]
  },
  {
   "cell_type": "code",
   "execution_count": null,
   "id": "7934a45c",
   "metadata": {},
   "outputs": [],
   "source": [
    "current_directory = os.getcwd()\n",
    "\n",
    "selected_pathway = 'Immune_System'\n",
    "pathway_nametag = selected_pathway.replace(' ','_')\n",
    "\n",
    "network_type = 'medium-PPI'\n",
    "\n",
    "data_directory = current_directory + \"/Examples/\" + pathway_nametag\n",
    "os.chdir(data_directory)\n",
    "\n",
    "edge_data = pd.read_pickle(pathway_nametag+'_'+network_type+'-edges.pkl')\n",
    "node_data = pd.read_pickle(pathway_nametag+'_'+network_type+'-nodes.pkl')"
   ]
  },
  {
   "cell_type": "code",
   "execution_count": null,
   "id": "729e428a",
   "metadata": {},
   "outputs": [],
   "source": [
    "remake_graph = False\n",
    "\n",
    "if remake_graph==False:\n",
    "    netObj = ncip()\n",
    "    netObj.load_graph(pathway_nametag+\"-\"+network_type+\".gml\")\n",
    "else:\n",
    "    netObj = ncip()\n",
    "    netObj.load_data(edge_data,node_data)\n",
    "    netObj.make_graph()\n",
    "    netObj.save_network(pathway_nametag,network_type)"
   ]
  },
  {
   "cell_type": "code",
   "execution_count": null,
   "id": "6bb860ed",
   "metadata": {},
   "outputs": [],
   "source": [
    "errorname = '0.0'\n",
    "rho = float(errorname)\n",
    "\n",
    "input_bits = 1\n",
    "code_length = int(2**input_bits)\n",
    "\n",
    "netObj.construct_C(rho,h=input_bits,neglect_modules=[])"
   ]
  },
  {
   "cell_type": "code",
   "execution_count": null,
   "id": "3a398ae2",
   "metadata": {},
   "outputs": [],
   "source": [
    "C_dense = netObj.C_sparse.todense()"
   ]
  },
  {
   "cell_type": "code",
   "execution_count": null,
   "id": "3da4f517",
   "metadata": {},
   "outputs": [],
   "source": [
    "C_diff = C_dense - np.eye(C_dense.shape[0])\n",
    "C_diff_sparse = sp.sparse.csr_matrix(C_diff)"
   ]
  },
  {
   "cell_type": "code",
   "execution_count": null,
   "id": "a33d8b17",
   "metadata": {},
   "outputs": [],
   "source": [
    "print(C_diff.shape)"
   ]
  },
  {
   "cell_type": "code",
   "execution_count": null,
   "id": "bcb12ef7",
   "metadata": {},
   "outputs": [],
   "source": [
    "u, s, vh = sp.sparse.linalg.svds(netObj.C_sparse,k=1000)#netObj.C_sparse.shape[0]-1)"
   ]
  },
  {
   "cell_type": "code",
   "execution_count": null,
   "id": "8106cf94",
   "metadata": {},
   "outputs": [],
   "source": [
    "u, s, vh = sp.sparse.linalg.svds(C_diff_sparse,k=C_diff.shape[0]-1)#netObj.C_sparse.shape[0]-1)"
   ]
  },
  {
   "cell_type": "code",
   "execution_count": null,
   "id": "0d9aa47e",
   "metadata": {},
   "outputs": [],
   "source": [
    "plt.hist(s)\n",
    "plt.xscale('log')"
   ]
  },
  {
   "cell_type": "code",
   "execution_count": null,
   "id": "84b71644",
   "metadata": {},
   "outputs": [],
   "source": [
    "print(np.linalg.matrix_rank(C_diff))"
   ]
  },
  {
   "cell_type": "code",
   "execution_count": null,
   "id": "52b8519a",
   "metadata": {},
   "outputs": [],
   "source": [
    "ns = sp.linalg.null_space(C_diff)"
   ]
  },
  {
   "cell_type": "code",
   "execution_count": null,
   "id": "8acb3663",
   "metadata": {},
   "outputs": [],
   "source": [
    "print(ns)"
   ]
  },
  {
   "cell_type": "code",
   "execution_count": null,
   "id": "edd71054",
   "metadata": {},
   "outputs": [],
   "source": [
    "np.savetxt('nullspace.csv',ns,delimiter=',')"
   ]
  },
  {
   "cell_type": "code",
   "execution_count": null,
   "id": "11f51709",
   "metadata": {},
   "outputs": [],
   "source": [
    "print(ns.shape)"
   ]
  },
  {
   "cell_type": "code",
   "execution_count": null,
   "id": "0ce18501",
   "metadata": {},
   "outputs": [],
   "source": [
    "# Check null space\n",
    "\n",
    "for i in range(0,ns.shape[1]):\n",
    "    errornorm = np.linalg.norm(np.matmul(C_dense,ns[:,i]) - ns[:,i],2)"
   ]
  },
  {
   "cell_type": "code",
   "execution_count": null,
   "id": "14f92b34",
   "metadata": {},
   "outputs": [],
   "source": [
    "X_SS = np.ones(shape=(C_diff.shape[0],))"
   ]
  },
  {
   "cell_type": "markdown",
   "id": "9838f088",
   "metadata": {},
   "source": [
    "# Check null space and solution"
   ]
  },
  {
   "cell_type": "code",
   "execution_count": null,
   "id": "25d65fdf",
   "metadata": {},
   "outputs": [],
   "source": [
    "current_directory = os.getcwd()\n",
    "\n",
    "os.chdir(current_directory + '/Examples/collective_action')\n",
    "\n",
    "nullspace = pd.read_csv('nullspace-new.csv',header=None).to_numpy()\n",
    "steady_state = pd.read_csv('collective_action_state.csv',header=None).to_numpy()\n",
    "\n",
    "print(nullspace.shape,steady_state.shape)"
   ]
  },
  {
   "cell_type": "code",
   "execution_count": null,
   "id": "356bb852",
   "metadata": {},
   "outputs": [],
   "source": [
    "residual = copy.deepcopy(steady_state)\n",
    "\n",
    "w = []\n",
    "\n",
    "for i in range(0,nullspace.shape[1]):\n",
    "    w.append(np.dot(nullspace[:,i],steady_state)[0])"
   ]
  },
  {
   "cell_type": "code",
   "execution_count": null,
   "id": "39ad35ae",
   "metadata": {},
   "outputs": [],
   "source": [
    "solution = np.zeros(shape=(steady_state.shape[0],))\n",
    "\n",
    "print(solution.shape)\n",
    "\n",
    "for i in range(0,nullspace.shape[1]):\n",
    "    solution += w[i]*nullspace[:,i]"
   ]
  },
  {
   "cell_type": "code",
   "execution_count": null,
   "id": "af50d573",
   "metadata": {},
   "outputs": [],
   "source": [
    "print(np.linalg.norm(solution-steady_state[:,0],1))"
   ]
  },
  {
   "cell_type": "code",
   "execution_count": 3,
   "id": "f4d1175a",
   "metadata": {},
   "outputs": [],
   "source": [
    "current_directory = os.getcwd()\n",
    "\n",
    "os.chdir(current_directory + '/Examples/collective_action')"
   ]
  },
  {
   "cell_type": "code",
   "execution_count": 4,
   "id": "5b4c84b4",
   "metadata": {},
   "outputs": [],
   "source": [
    "all_files = glob.glob('SARS-CoV2*.csv')\n",
    "\n",
    "null_spaces = {}\n",
    "steady_states = {}\n",
    "\n",
    "for f in all_files:\n",
    "    fs = f.split('-')\n",
    "    \n",
    "    if 'nullspace' in f:\n",
    "        null_spaces[fs[1]] = pd.read_csv(f,header=None).to_numpy()\n",
    "    elif 'maxEnt' in f:\n",
    "        steady_states[fs[1]] = pd.read_csv(f,header=None).to_numpy()"
   ]
  },
  {
   "cell_type": "code",
   "execution_count": 5,
   "id": "c32dd8a0",
   "metadata": {},
   "outputs": [
    {
     "name": "stdout",
     "output_type": "stream",
     "text": [
      "CoV2 Nsp10 5.732081476139683e-13\n",
      "CoV2 Nsp14 3.9122605155483825e-10\n",
      "CoV2 Nsp13 0.0014869057395885399\n",
      "CoV2 Nsp2 3.9081560210263433e-10\n",
      "CoV2 N 5.732081476139683e-13\n",
      "CoV2 Nsp8 3.923202873679088e-10\n",
      "CoV2 ORF9c 3.906074352855171e-10\n",
      "CoV2 M 3.94179688889551e-10\n",
      "CoV2 Spike 5.732081476139683e-13\n",
      "CoV2 ORF9b 3.8989089734542404e-10\n",
      "CoV2 ORF10 3.8993375195417457e-10\n",
      "CoV2 Nsp7 3.9078507096945714e-10\n",
      "CoV2 E 5.732081476139683e-13\n",
      "CoV2 Nsp12 3.9178649213766903e-10\n",
      "CoV2 ORF8 3.970468398506455e-10\n",
      "CoV2 Nsp15 3.924313096703713e-10\n",
      "CoV2 ORF3a 3.925579306063298e-10\n"
     ]
    }
   ],
   "source": [
    "for k in null_spaces.keys():\n",
    "    print(k,compute_residual(null_spaces[k],steady_states[k]))"
   ]
  },
  {
   "cell_type": "code",
   "execution_count": null,
   "id": "3502c352",
   "metadata": {},
   "outputs": [],
   "source": []
  }
 ],
 "metadata": {
  "kernelspec": {
   "display_name": "Python 3 (ipykernel)",
   "language": "python",
   "name": "python3"
  },
  "language_info": {
   "codemirror_mode": {
    "name": "ipython",
    "version": 3
   },
   "file_extension": ".py",
   "mimetype": "text/x-python",
   "name": "python",
   "nbconvert_exporter": "python",
   "pygments_lexer": "ipython3",
   "version": "3.9.6"
  }
 },
 "nbformat": 4,
 "nbformat_minor": 5
}
