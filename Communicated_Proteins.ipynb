{
 "cells": [
  {
   "cell_type": "markdown",
   "metadata": {},
   "source": [
    "# Communicated proteins"
   ]
  },
  {
   "cell_type": "code",
   "execution_count": 1,
   "metadata": {},
   "outputs": [],
   "source": [
    "import os\n",
    "from json import dumps\n",
    "import logging\n",
    "import pandas as pd\n",
    "import numpy as np\n",
    "import copy\n",
    "\n",
    "import matplotlib.pyplot as plt\n",
    "from matplotlib import cm\n",
    "\n",
    "from CoRe.cypher_commands import command_set\n",
    "\n",
    "import networkx as nx\n",
    "import json"
   ]
  },
  {
   "cell_type": "code",
   "execution_count": 2,
   "metadata": {},
   "outputs": [
    {
     "name": "stdout",
     "output_type": "stream",
     "text": [
      "dict_keys(['SARS-CoV2 Nsp2', 'SARS-CoV2 Nsp5', 'SARS-CoV2 Nsp7', 'SARS-CoV2 Nsp8', 'SARS-CoV2 Nsp9', 'SARS-CoV2 Nsp10', 'SARS-CoV2 Nsp11', 'SARS-CoV2 Nsp12', 'SARS-CoV2 Nsp13', 'SARS-CoV2 Nsp14', 'SARS-CoV2 Nsp15', 'SARS-CoV2 Spike', 'SARS-CoV2 ORF3a', 'SARS-CoV2 E', 'SARS-CoV2 M', 'SARS-CoV2 ORF8', 'SARS-CoV2 ORF9b', 'SARS-CoV2 ORF9c', 'SARS-CoV2 N', 'SARS-CoV2 ORF10'])\n"
     ]
    }
   ],
   "source": [
    "selected_TopLevelPathway = 'ImmunoMetabolism'\n",
    "pathway_nametag = selected_TopLevelPathway.replace(' ','_')\n",
    "\n",
    "network_type = 'medium-PPI'\n",
    "\n",
    "state_type = 'maxEnt'\n",
    "\n",
    "data_directory = \"/Users/swarnavo/Research/Reactome-Graph-Database/HumanData/\"+pathway_nametag\n",
    "os.chdir(data_directory)\n",
    "\n",
    "\"\"\"Read SARS source nodes\n",
    "\"\"\"\n",
    "\n",
    "f = open('SARS_CoV2-'+pathway_nametag+'_interactions.json')\n",
    "SARS_nodes = json.load(f)\n",
    "f.close()\n",
    "\n",
    "print(SARS_nodes.keys())\n",
    "\n"
   ]
  },
  {
   "cell_type": "markdown",
   "metadata": {},
   "source": [
    "SARS_nodes = {}\n",
    "\n",
    "rf = open('SARS_CoV2-'+pathway_nametag+'_'+network_type+'_interactions.csv','r')\n",
    "all_lines = rf.readlines()\n",
    "rf.close()\n",
    "\n",
    "for l in all_lines:\n",
    "    ns = l.rstrip('\\r\\n').split(',')\n",
    "    \n",
    "    if len(ns)>1:  \n",
    "        SARS_nodes[ns[0]] = []\n",
    "\n",
    "        for nn in ns[1:]:\n",
    "            SARS_nodes[ns[0]].append(nn)\n",
    "            \n",
    "print(SARS_nodes.keys())"
   ]
  },
  {
   "cell_type": "code",
   "execution_count": 3,
   "metadata": {},
   "outputs": [
    {
     "name": "stdout",
     "output_type": "stream",
     "text": [
      "['node_ids', 'node_index', 'SARS-CoV2 Nsp2', 'SARS-CoV2 Nsp7', 'SARS-CoV2 Nsp8', 'SARS-CoV2 Nsp9', 'SARS-CoV2 Nsp11', 'SARS-CoV2 Nsp12', 'SARS-CoV2 Nsp13', 'SARS-CoV2 Nsp14', 'SARS-CoV2 ORF3a', 'SARS-CoV2 E', 'SARS-CoV2 M', 'SARS-CoV2 ORF8', 'SARS-CoV2 ORF9b', 'SARS-CoV2 ORF9c', 'SARS-CoV2 N', 'SARS-CoV2 ORF10']\n",
      "382\n"
     ]
    }
   ],
   "source": [
    "communicated_proteins = pd.read_csv(state_type+'-SARS_CoV2_'+pathway_nametag+'_'+network_type+'_affected_genes0.0.csv')\n",
    "print(list(communicated_proteins))\n",
    "print(communicated_proteins['node_ids'].count())"
   ]
  },
  {
   "cell_type": "code",
   "execution_count": 4,
   "metadata": {},
   "outputs": [],
   "source": [
    "all_ref_gene_names = {}\n",
    "\n",
    "i = 0\n",
    "for gen_name in communicated_proteins['node_ids']:\n",
    "    try:\n",
    "        all_ref_gene_names[gen_name].append(i)\n",
    "    except KeyError:\n",
    "        all_ref_gene_names[gen_name] = [i]\n",
    "        \n",
    "    i += 1"
   ]
  },
  {
   "cell_type": "code",
   "execution_count": 5,
   "metadata": {},
   "outputs": [],
   "source": [
    "# Condense selected protein list\n",
    "first_indices = []\n",
    "indices_to_drop = []\n",
    "\n",
    "for k in all_ref_gene_names.keys():\n",
    "    first_indices.append(all_ref_gene_names[k][0])\n",
    "    \n",
    "    for d in all_ref_gene_names[k][1:]:\n",
    "        indices_to_drop.append(d)"
   ]
  },
  {
   "cell_type": "code",
   "execution_count": 6,
   "metadata": {},
   "outputs": [],
   "source": [
    "communicated_proteins = communicated_proteins.drop(indices_to_drop)\n",
    "all_ref_gene_names = communicated_proteins['node_ids'].to_list()"
   ]
  },
  {
   "cell_type": "code",
   "execution_count": 7,
   "metadata": {},
   "outputs": [
    {
     "name": "stdout",
     "output_type": "stream",
     "text": [
      "['SARS-CoV2 Nsp2', 'SARS-CoV2 Nsp7', 'SARS-CoV2 Nsp8', 'SARS-CoV2 Nsp9', 'SARS-CoV2 Nsp11', 'SARS-CoV2 Nsp12', 'SARS-CoV2 Nsp13', 'SARS-CoV2 Nsp14', 'SARS-CoV2 ORF3a', 'SARS-CoV2 E', 'SARS-CoV2 M', 'SARS-CoV2 ORF8', 'SARS-CoV2 ORF9b', 'SARS-CoV2 ORF9c', 'SARS-CoV2 N', 'SARS-CoV2 ORF10']\n"
     ]
    }
   ],
   "source": [
    "sars_proteins = list(communicated_proteins)[2:]\n",
    "print(sars_proteins)"
   ]
  },
  {
   "cell_type": "code",
   "execution_count": 8,
   "metadata": {},
   "outputs": [
    {
     "name": "stdout",
     "output_type": "stream",
     "text": [
      "dict_keys(['SARS-CoV2 Nsp2', 'SARS-CoV2 Nsp5', 'SARS-CoV2 Nsp7', 'SARS-CoV2 Nsp8', 'SARS-CoV2 Nsp9', 'SARS-CoV2 Nsp10', 'SARS-CoV2 Nsp11', 'SARS-CoV2 Nsp12', 'SARS-CoV2 Nsp13', 'SARS-CoV2 Nsp14', 'SARS-CoV2 Nsp15', 'SARS-CoV2 Spike', 'SARS-CoV2 ORF3a', 'SARS-CoV2 E', 'SARS-CoV2 M', 'SARS-CoV2 ORF8', 'SARS-CoV2 ORF9b', 'SARS-CoV2 ORF9c', 'SARS-CoV2 N', 'SARS-CoV2 ORF10'])\n"
     ]
    }
   ],
   "source": [
    "SARS_indirect_nodes = {}\n",
    "SARS_indirect_nodes_wts = {}\n",
    "\n",
    "for k in SARS_nodes.keys():\n",
    "    SARS_indirect_nodes[k] = []\n",
    "    SARS_indirect_nodes_wts[k] = []\n",
    "    \n",
    "print(SARS_nodes.keys())\n",
    "    \n",
    "for s in sars_proteins:\n",
    "    d = communicated_proteins[s].to_numpy()\n",
    "    \n",
    "    for i in range(0,d.shape[0]):\n",
    "        if d[i]>0.0 and all_ref_gene_names[i] not in SARS_indirect_nodes[s]:\n",
    "            SARS_indirect_nodes[s].append(all_ref_gene_names[i])\n",
    "            SARS_indirect_nodes_wts[s].append(d[i])"
   ]
  },
  {
   "cell_type": "code",
   "execution_count": 9,
   "metadata": {},
   "outputs": [
    {
     "name": "stdout",
     "output_type": "stream",
     "text": [
      "SARS-CoV2 Nsp2 3\n",
      "SARS-CoV2 Nsp7 79\n",
      "SARS-CoV2 Nsp8 7\n",
      "SARS-CoV2 Nsp9 32\n",
      "SARS-CoV2 Nsp11 5\n",
      "SARS-CoV2 Nsp12 118\n",
      "SARS-CoV2 Nsp13 10\n",
      "SARS-CoV2 Nsp14 7\n",
      "SARS-CoV2 ORF3a 2\n",
      "SARS-CoV2 E 49\n",
      "SARS-CoV2 M 32\n",
      "SARS-CoV2 ORF8 144\n",
      "SARS-CoV2 ORF9b 3\n",
      "SARS-CoV2 ORF9c 5\n",
      "SARS-CoV2 N 16\n",
      "SARS-CoV2 ORF10 4\n"
     ]
    }
   ],
   "source": [
    "SARS_affected_refgenes = copy.deepcopy(SARS_nodes)\n",
    "\n",
    "for s in sars_proteins:\n",
    "    d = communicated_proteins[s].to_numpy()\n",
    "    \n",
    "    for i in range(0,d.shape[0]):\n",
    "        if d[i]>0.0 and all_ref_gene_names[i] not in SARS_affected_refgenes[s]:\n",
    "            SARS_affected_refgenes[s].append(all_ref_gene_names[i])\n",
    "            \n",
    "    print(s,len(SARS_affected_refgenes[s]))\n",
    "            \n",
    "json_obj = json.dumps(SARS_affected_refgenes)\n",
    "            \n",
    "# open file for writing, \"w\" \n",
    "f = open(state_type+'-SARS_CoV2_total_'+pathway_nametag+'_'+network_type+'_interactions.json','w')\n",
    "\n",
    "# write json object to file\n",
    "f.write(json_obj)\n",
    "\n",
    "# close file\n",
    "f.close()          "
   ]
  },
  {
   "cell_type": "markdown",
   "metadata": {},
   "source": [
    "wf = open('SARS_CoV2_total_'+pathway_nametag+'_'+network_type+'_interactions.csv','w')\n",
    "\n",
    "for s in SARS_affected_refgenes.keys():\n",
    "    outline = s\n",
    "    \n",
    "    for g in SARS_affected_refgenes[s]:\n",
    "        outline += ',' + g\n",
    "        \n",
    "    print(outline,file=wf)\n",
    "    \n",
    "wf.close()"
   ]
  },
  {
   "cell_type": "code",
   "execution_count": 10,
   "metadata": {},
   "outputs": [
    {
     "name": "stdout",
     "output_type": "stream",
     "text": [
      "SARS-CoV2 Nsp2 , EIF4EBP1\n",
      "SARS-CoV2 Nsp7 , LAT, FGA, STOM, MCEMP1, CD55, CTSZ, SLPI, RAB4B, SERPINA1, CTSC, VAPA, HMOX2, CEACAM3, SEC22B, NDUFS4, NDUFA12, NDUFV3, NDUFS6, NDUFB6, NDUFAF6, NDUFAF5, NDUFAF4, NDUFAF3, NDUFS5, NDUFAF7, HILPDA, HSD17B13, LMAN1L, LMAN2L, CNIH1, AREG, TGFA, CNIH3, GRIA1, ANK3, ANK1, ANK2, ARFGAP2, ARFGAP3, KDELR1, KDELR2, KDELR3, TMEM115, GNG2, GNG12, GNG4, GNG11, GNG10, GNG3, GNG13, GNG7, GNGT1, GNGT2, GNG8, PDCL, GNB4, GNB2, GNB3, GNB5, RNF128, GNA14, GNAQ, GNA15, GNA11, EXOC6, EXOC5\n",
      "SARS-CoV2 Nsp8 , CASP9, MYLIP, TRIB3, BIRC2, SNW1\n",
      "SARS-CoV2 Nsp9 , FBXO17, CCNE1, CCNE2, WRAP53, FBXW9, LONP2, FBXL3, SKIV2L, FBXL5, GBA, KIF13A, NOP56, FKBP9, FBXW10, FBXW7, FBXW4, GAPDHS, FBXO4, FBXO6, USP11, FBXW2, ARFGEF2, EIF1AX, EIF5, EIF4B, TNFSF13, XPO1, SET, ANP32A\n",
      "SARS-CoV2 Nsp11 , TBCB, TBCE, TBCC, TBCD\n",
      "SARS-CoV2 Nsp12 , TICAM1, IKBKG, RIPK3, FADD, CASP8, TRAF3, SARM1, ECSIT, DHX9, PCBP2, CASP10, DOCK2, PPIE, KRT1, CMTM6, CASP4, CASP2, LONRF1, HNRNPF, NPDC1, PLEKHA4, PLEKHA6, HNRNPK, HNRNPC, HNRNPD, HNRNPA3, HNRNPA1, HNRNPA0, PTBP1, HNRNPU, PCBP1, HNRNPR, HNRNPM, HNRNPL, HNRNPH2, HNRNPH1, RBMX, CD2BP2, PRPF40A, U2AF2, CCAR1, RBM5, SRRT, ALYREF, HNRNPUL1, SUGP1, FUS, RNPS1, YBX1, SRSF9, SRSF3, SRSF2, SRSF1, SRSF5, SRSF7, SRSF6, U2AF1L4, U2AF1, SF1, SRSF10, CDC40, DHX38, SRSF11, SRSF4, ELAVL2, DNAJC8, CWC22, WBP4, PRCC, PRPF38A, CRNKL1, BUD31, XAB2, AQR, ISY1, SNW1, RBM22, PPIL1, PPIL4, PPIL6, PAPOLA, PABPN1, CWC25, USP39, SNRNP27, SART1, CWC27, EIF4A3, DHX16, GPKOW, TRA2B, SYF2, UPF3B, PPWD1, CASC3, SARNP, CHTOP, ZC3H11A, LUZP4, FYTTD1, POLDIP3, DDX39A, DDX39B, APOBEC1, APOBEC3C, NCBP1, NCBP2, SLBP, NXF1, IGF2BP3, ZRSR2, SNUPN, PHAX, SNRPB\n",
      "SARS-CoV2 Nsp13 , IKBKE, TOMM70, SIAH2, RAPGEF4, RAPGEF3, PRKACG, PRKACB\n",
      "SARS-CoV2 Nsp14 , IL36RN, IL1F10, IL1RL2, IL1RAPL1, IMPDH1\n",
      "SARS-CoV2 ORF3a , ELOVL6\n",
      "SARS-CoV2 E , PCBP2, PPIE, HNRNPD, HNRNPA3, HNRNPA1, HNRNPA0, PTBP1, HNRNPU, PCBP1, HNRNPR, HNRNPM, HNRNPL, HNRNPH2, RBMX, PRPF40A, SRSF7, ELAVL2, DNAJC8, CWC22, WBP4, PRCC, PRPF38A, CRNKL1, BUD31, XAB2, AQR, ISY1, SNW1, RBM22, PPIL1, PPIL4, PPIL6, PPIL3, PAPOLA, PABPN1, CWC25, USP39, SNRNP27, SART1, EIF4A3, DHX16, GPKOW, TRA2B, SYF2, UPF3B, PPWD1, CASC3\n",
      "SARS-CoV2 M , C3, C3AR1, CFB, C2, C4B, C4A, C5, C5AR1, PDCD1LG2, MCEMP1, ATP6V0C, CD55, CR1, CYB5R3, HMOX2, CEACAM3, CFI, CFH, CFHR3, CD46, CR2, C5AR2, EDA2R, SCD, APOA2, CNIH3, CNIH2, GRIA1, TMEM115\n",
      "SARS-CoV2 ORF8 , CALM1, CLEC7A, PRLR, IL11, IL11RA, CD47, ITGB2, TSPAN14, STOM, ITGAM, ITGAX, CD33, OLFM4, CFP, ORMDL3, SIGLEC9, HSPA6, GSTP1, CPNE3, CPNE1, VAPA, HMOX2, CEACAM3, TMBIM1, LONRF1, MYLIP, RCHY1, FBXO17, CD207, MUC1, PROS1, EIF4E2, FLNA, TNFRSF25, TNFSF15, TNFRSF6B, TNFSF14, TNFSF6, FCER2, BOLA2, NECTIN2, CRTAM, KIR3DL1, CD226, CD96, KIR2DL2, KIR2DL3, CD200, CD200R1, SIGLEC7, SIGLEC11, SIGLEC8, SIGLEC10, SIGLEC1, RHD, LYVE1, STAB2, HMMR, STARD4, PKLR, INSIG2, SCD, HILPDA, HSD17B13, APOA2, CPNE7, CPNE6, POLD1, CNIH3, F2, F9, F7, PROZ, BGLAP, GAS6, F10, PROC, DAG1, ADAMTS7, ADAMTS5, SPON1, ADAMTSL1, THBS1, ADAMTS13, ADAMTSL4, ADAMTS3, THSD7A, THSD4, THSD1, ADAMTS4, ADAMTS12, SPON2, ADAMTS6, ADAMTSL2, THSD7B, ADAMTS15, ADAMTS16, ADAMTS17, ADAMTS2, ADAMTS9, ADAMTS14, ADAMTS19, ADAMTS18, SSPOP, ADAMTS8, ADAMTS20, ADAMTS10, ADAMTSL5, ADAMTSL3, SEMA5A, SEMA5B, SBSPON, THBS2, GNG2, GNG5, GNG10, GNG3, GNG13, GNG7, GNGT1, GNGT2, GNG8, SFTPC, TTF1, CCDC59, SFTPB, RNF152, FBXW5, TSPAN33, TSPAN15, TSPAN5, CLTRN, EIF4EBP1, MTIF3, EXOSC5\n",
      "SARS-CoV2 ORF9b , MAVS, NLRX1\n",
      "SARS-CoV2 ORF9c , MAP3K1, MAVS, TOMM70\n",
      "SARS-CoV2 N , HSPA1A, HSPA8, ALOX15, EIF1AX, EIF5, EIF4G1, A1CF, SMG6, SMG5, SMG7, HSPB1, PHAX\n",
      "SARS-CoV2 ORF10 , RNF7, CUL5\n"
     ]
    }
   ],
   "source": [
    "for s in SARS_indirect_nodes.keys():\n",
    "    if len(SARS_indirect_nodes[s])>0:\n",
    "        outstring = ''\n",
    "        \n",
    "        for g in SARS_indirect_nodes[s]:\n",
    "            outstring += ', '+g\n",
    "            \n",
    "        print(s,outstring)"
   ]
  },
  {
   "cell_type": "code",
   "execution_count": null,
   "metadata": {},
   "outputs": [],
   "source": []
  }
 ],
 "metadata": {
  "kernelspec": {
   "display_name": "Python 3 (ipykernel)",
   "language": "python",
   "name": "python3"
  },
  "language_info": {
   "codemirror_mode": {
    "name": "ipython",
    "version": 3
   },
   "file_extension": ".py",
   "mimetype": "text/x-python",
   "name": "python",
   "nbconvert_exporter": "python",
   "pygments_lexer": "ipython3",
   "version": "3.8.9"
  }
 },
 "nbformat": 4,
 "nbformat_minor": 2
}
