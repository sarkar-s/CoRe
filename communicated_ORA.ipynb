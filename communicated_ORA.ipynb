{
 "cells": [
  {
   "cell_type": "markdown",
   "metadata": {},
   "source": [
    "# Communicated genes overrepresentation analysis"
   ]
  },
  {
   "cell_type": "markdown",
   "metadata": {},
   "source": [
    "Performs the over-representation analysis of the direct and communicated gene sets using the Gene Ontology Biological Processes from the c5 collection in the [Molecular Signatures Database](https://www.gsea-msigdb.org/gsea/msigdb/)."
   ]
  },
  {
   "cell_type": "code",
   "execution_count": 1,
   "metadata": {},
   "outputs": [],
   "source": [
    "import os\n",
    "from json import dumps\n",
    "import logging\n",
    "import pandas as pd\n",
    "import numpy as np\n",
    "import math\n",
    "import json\n",
    "import copy\n",
    "\n",
    "import matplotlib.pyplot as plt\n",
    "from matplotlib import cm\n",
    "\n",
    "import statsmodels.stats as sts\n",
    "\n",
    "from CoRe import reader, fnGO\n",
    "from multipy.fdr import qvalue"
   ]
  },
  {
   "cell_type": "markdown",
   "metadata": {},
   "source": [
    "Read the gene sets and determine the list of unique genes."
   ]
  },
  {
   "cell_type": "code",
   "execution_count": 2,
   "metadata": {},
   "outputs": [],
   "source": [
    "total_genes = 17949\n",
    "gene_set_cutoff = 373"
   ]
  },
  {
   "cell_type": "markdown",
   "metadata": {},
   "source": [
    "Specify positive false discovery rate "
   ]
  },
  {
   "cell_type": "code",
   "execution_count": 3,
   "metadata": {},
   "outputs": [],
   "source": [
    "fdr = 0.01"
   ]
  },
  {
   "cell_type": "markdown",
   "metadata": {},
   "source": [
    "The GOBP gene sets are stored as a dict in json format."
   ]
  },
  {
   "cell_type": "code",
   "execution_count": 4,
   "metadata": {},
   "outputs": [
    {
     "name": "stdout",
     "output_type": "stream",
     "text": [
      "Total gene sets:  7481\n"
     ]
    }
   ],
   "source": [
    "current_directory = os.getcwd()\n",
    "\n",
    "go_directory = current_directory + \"/Examples/GO_sets\"\n",
    "os.chdir(go_directory)\n",
    "\n",
    "f = open(('GO_BPs.json'))\n",
    "GO_BPs = json.load(f)\n",
    "f.close()\n",
    "\n",
    "bp_names = list(GO_BPs.keys())\n",
    "\n",
    "for bp in GO_BPs.keys():\n",
    "    GO_BPs[bp] = pd.DataFrame(GO_BPs[bp])\n",
    "\n",
    "print('Total gene sets: ',len(list(GO_BPs.keys())))\n",
    "\n",
    "wf = open('BP_embedding.csv')\n",
    "all_lines = wf.readlines()\n",
    "wf.close()\n",
    "\n",
    "embed_idx = {}\n",
    "\n",
    "for l in all_lines:\n",
    "    all_values = l.rstrip('\\r\\n').split(',')\n",
    "\n",
    "    embed_idx[int(all_values[0])] = []\n",
    "\n",
    "    for k in all_values[1:]:\n",
    "        embed_idx[int(all_values[0])].append(int(k))\n",
    "        \n",
    "        \n",
    "bp_names = pd.read_csv('GOBP_list.csv',header=None)[0].to_list()"
   ]
  },
  {
   "cell_type": "code",
   "execution_count": 5,
   "metadata": {},
   "outputs": [],
   "source": [
    "go_directory = current_directory + \"/Examples/GO_sets\"\n",
    "os.chdir(go_directory)\n",
    "\n",
    "wf = open('BP_embedding.csv')\n",
    "all_lines = wf.readlines()\n",
    "wf.close()\n",
    "\n",
    "embed_idx = {}\n",
    "\n",
    "for l in all_lines:\n",
    "    all_values = l.rstrip('\\r\\n').split(',')\n",
    "\n",
    "    embed_idx[int(all_values[0])] = []\n",
    "\n",
    "    for k in all_values[1:]:\n",
    "        embed_idx[int(all_values[0])].append(int(k))\n",
    "        \n",
    "        \n",
    "bp_names = pd.read_csv('GOBP_list.csv',header=None)[0].to_list()"
   ]
  },
  {
   "cell_type": "markdown",
   "metadata": {},
   "source": [
    "Read the two sets of genes.\n",
    "\n",
    "**PPI set:** Genes that have direct protein-protein interactions with SARS-CoV-2 proteins. <br>\n",
    "**Total interaction set:** Genes that have either direct interaction or receive communication from SARS-CoV-2 proteins."
   ]
  },
  {
   "cell_type": "code",
   "execution_count": 6,
   "metadata": {},
   "outputs": [],
   "source": [
    "selected_pathway = 'Immune System'\n",
    "pathway_nametag = selected_pathway.replace(' ','_')\n",
    "\n",
    "network_type = 'medium-PPI'\n",
    "state_type = 'high'\n",
    "\n",
    "data_directory = current_directory + \"/Examples/\"+pathway_nametag\n",
    "os.chdir(data_directory)\n",
    "\n",
    "\n",
    "direct_interaction_set = reader.read_interactions_for_GO('SARS_CoV2-'+pathway_nametag+'_interactions.json')\n",
    "total_interaction_set = reader.read_interactions_for_GO(state_type+'-SARS_CoV2_total_'+pathway_nametag+'_'+network_type+'_interactions.json')"
   ]
  },
  {
   "cell_type": "markdown",
   "metadata": {},
   "source": [
    "Identify the sources, or SARS-CoV-2 proteins, that are causing communication. We determine this if for a SARS-CoV-2 protein the number of affected genes is greater than the number of genes that have PPI."
   ]
  },
  {
   "cell_type": "code",
   "execution_count": 7,
   "metadata": {},
   "outputs": [
    {
     "name": "stdout",
     "output_type": "stream",
     "text": [
      "SARS-CoV-2 protein   Directly interacting proteins  Direct and communicated proteins\n",
      "SARS-CoV2 Nsp2       2                              3                        \n",
      "SARS-CoV2 Nsp7       9                              28                       \n",
      "SARS-CoV2 Nsp12      1                              11                       \n",
      "SARS-CoV2 Nsp13      1                              4                        \n",
      "SARS-CoV2 Nsp14      2                              7                        \n",
      "SARS-CoV2 ORF3a      1                              4                        \n",
      "SARS-CoV2 M          2                              33                       \n",
      "SARS-CoV2 ORF8       7                              63                       \n",
      "SARS-CoV2 ORF9b      1                              3                        \n",
      "SARS-CoV2 ORF9c      2                              5                        \n",
      "SARS-CoV2 ORF10      2                              5                        \n"
     ]
    }
   ],
   "source": [
    "sources = []\n",
    "\n",
    "print(f\"{'SARS-CoV-2 protein'+'':<20} {'Directly interacting proteins'+'':<30} {'Direct and communicated proteins'+'':<25}\")\n",
    "\n",
    "for k in total_interaction_set.keys():\n",
    "    if len(total_interaction_set[k])>len(direct_interaction_set[k]):\n",
    "        sources.append(k)\n",
    "        print(f\"{k:<20} {len(direct_interaction_set[k]):<30} {len(total_interaction_set[k]):<25}\")"
   ]
  },
  {
   "cell_type": "code",
   "execution_count": 8,
   "metadata": {},
   "outputs": [],
   "source": [
    "go_tags, go_names, p_values = fnGO.compute_p_values(sources,GO_BPs,total_interaction_set,total_genes)#,size_threshold=gene_set_cutoff)"
   ]
  },
  {
   "cell_type": "code",
   "execution_count": 9,
   "metadata": {},
   "outputs": [
    {
     "name": "stdout",
     "output_type": "stream",
     "text": [
      "POSITIVE REGULATION OF POSTTRANSCRIPTIONAL GENE SILENCING \t 0.005006109283145211\n",
      "BILE ACID BIOSYNTHETIC PROCESS \t 0.0063382441851851335\n",
      "RESPONSE TO DSRNA \t 0.008998945904068412\n",
      "VERY LONG CHAIN FATTY ACID METABOLIC PROCESS \t 0.0056723254597296794\n",
      "RESPONSE TO FUNGUS \t 0.00883279136529415\n",
      "VERY LONG CHAIN FATTY ACID CATABOLIC PROCESS \t 0.0010025620305446883\n",
      "RESPONSE TO PEPTIDOGLYCAN \t 0.0020044537499722234\n",
      "BILE ACID METABOLIC PROCESS \t 0.008334216318953216\n",
      "LIPID IMPORT INTO CELL \t 0.0056723254597296794\n",
      "RESPONSE TO MURAMYL DIPEPTIDE \t 0.003339267057129244\n",
      "POSITIVE REGULATION OF MIRNA MEDIATED INHIBITION OF TRANSLATION \t 0.0011695905271120611\n",
      "LONG CHAIN FATTY ACID IMPORT INTO CELL \t 0.002838851634667231\n",
      "FATTY ACID ALPHA OXIDATION \t 0.0015035916651381421\n"
     ]
    }
   ],
   "source": [
    "sel = []\n",
    "\n",
    "for a,b in zip(go_names['SARS-CoV2 Nsp2'],p_values['SARS-CoV2 Nsp2']):\n",
    "    if b<=fdr:\n",
    "        print(a,'\\t',b)\n",
    "        sel.append(a)"
   ]
  },
  {
   "cell_type": "markdown",
   "metadata": {},
   "source": [
    "Save the GOBP gene sets that have a nontrivial raw $p$-value."
   ]
  },
  {
   "cell_type": "code",
   "execution_count": 10,
   "metadata": {},
   "outputs": [],
   "source": [
    "json_obj = json.dumps(go_tags)\n",
    "\n",
    "f = open(state_type+'-all_nontrivial_GOs.json','w')\n",
    "f.write(json_obj)\n",
    "f.close()"
   ]
  },
  {
   "cell_type": "markdown",
   "metadata": {},
   "source": [
    "Multiple hypothesis testing using Benjamini-Hochberg (BH) correction"
   ]
  },
  {
   "cell_type": "code",
   "execution_count": 11,
   "metadata": {},
   "outputs": [],
   "source": [
    "q_values = {}\n",
    "\n",
    "for s_g in sources:\n",
    "    go_tags[s_g], go_names[s_g], q_values[s_g] = fnGO.compute_q_values(p_values[s_g],go_names[s_g],go_tags[s_g],0.5)"
   ]
  },
  {
   "cell_type": "code",
   "execution_count": 12,
   "metadata": {},
   "outputs": [
    {
     "name": "stdout",
     "output_type": "stream",
     "text": [
      "VERY LONG CHAIN FATTY ACID CATABOLIC PROCESS \t 0.07216033499900004\n",
      "POSITIVE REGULATION OF MIRNA MEDIATED INHIBITION OF TRANSLATION \t 0.07216033499900004\n",
      "FATTY ACID ALPHA OXIDATION \t 0.07216033499900004\n",
      "RESPONSE TO PEPTIDOGLYCAN \t 0.07216033499900004\n",
      "LONG CHAIN FATTY ACID IMPORT INTO CELL \t 0.08014240937110186\n",
      "RESPONSE TO MURAMYL DIPEPTIDE \t 0.08014240937110186\n",
      "POSITIVE REGULATION OF POSTTRANSCRIPTIONAL GENE SILENCING \t 0.09075720735567487\n",
      "VERY LONG CHAIN FATTY ACID METABOLIC PROCESS \t 0.09075720735567487\n",
      "LIPID IMPORT INTO CELL \t 0.09075720735567487\n",
      "BILE ACID BIOSYNTHETIC PROCESS \t 0.09127071626666591\n",
      "BILE ACID METABOLIC PROCESS \t 0.09371363342628188\n",
      "RESPONSE TO FUNGUS \t 0.09371363342628188\n",
      "RESPONSE TO DSRNA \t 0.09371363342628188\n"
     ]
    }
   ],
   "source": [
    "for a,b in zip(go_names['SARS-CoV2 Nsp2'],q_values['SARS-CoV2 Nsp2']):\n",
    "    if a in sel:\n",
    "        print(a,'\\t',b)"
   ]
  },
  {
   "cell_type": "code",
   "execution_count": null,
   "metadata": {},
   "outputs": [],
   "source": [
    "go_idx = {}\n",
    "\n",
    "for s in sources:\n",
    "    go_idx[s] = []\n",
    "    for go in go_tags[s]:\n",
    "        go_idx[s].append(bp_names.index(go))"
   ]
  },
  {
   "cell_type": "code",
   "execution_count": null,
   "metadata": {},
   "outputs": [],
   "source": [
    "idx_to_remove = {}\n",
    "\n",
    "for s in sources:\n",
    "    idx_to_remove[s] = []\n",
    "    \n",
    "    k = 0\n",
    "    \n",
    "    for ii in go_idx[s]:\n",
    "        idx_copy = copy.deepcopy(go_idx[s])\n",
    "        idx_copy.remove(ii)\n",
    "        \n",
    "        d1 = pd.DataFrame(embed_idx[ii])\n",
    "        d2 = pd.DataFrame(idx_copy)\n",
    "        \n",
    "        if len(d1)>0 and len(d2)>0:\n",
    "            intersection = pd.merge(d1, d2, how='inner').drop_duplicates([0])\n",
    "            len_intersection = int(intersection[0].count())\n",
    "\n",
    "            if len_intersection>0:\n",
    "                idx_to_remove[s].append(k)\n",
    "                \n",
    "        k += 1"
   ]
  },
  {
   "cell_type": "code",
   "execution_count": null,
   "metadata": {},
   "outputs": [],
   "source": [
    "for s_g in sources:\n",
    "    if len(go_names[s_g])>0:\n",
    "        idx_to_remove[s_g].reverse()\n",
    "        \n",
    "        q_list = q_values[s_g].tolist()\n",
    "\n",
    "        for k in idx_to_remove[s_g]:\n",
    "            go_names[s_g].pop(k)\n",
    "            go_tags[s_g].pop(k)\n",
    "            q_list.pop(k)\n",
    "\n",
    "        q_values[s_g] = np.array(q_list)"
   ]
  },
  {
   "cell_type": "markdown",
   "metadata": {},
   "source": [
    "Save all GOBP gene sets that are significant after the BH correction."
   ]
  },
  {
   "cell_type": "code",
   "execution_count": null,
   "metadata": {},
   "outputs": [],
   "source": [
    "json_obj = json.dumps(go_names)\n",
    "\n",
    "f = open(state_type+'-all_gos-afterBH.json','w')\n",
    "f.write(json_obj)\n",
    "f.close()"
   ]
  },
  {
   "cell_type": "code",
   "execution_count": null,
   "metadata": {},
   "outputs": [],
   "source": [
    "all_unique_go_names = []\n",
    "\n",
    "for s in go_names.keys():\n",
    "    all_unique_go_names += go_names[s]\n",
    "    \n",
    "all_unique_go_names = list(set(all_unique_go_names))\n",
    "\n",
    "wf = open(state_type+'-all_unique_go_names.csv','w')\n",
    "\n",
    "for g_n in all_unique_go_names:\n",
    "    print(g_n,file=wf)\n",
    "\n",
    "wf.close()"
   ]
  },
  {
   "cell_type": "code",
   "execution_count": null,
   "metadata": {},
   "outputs": [],
   "source": [
    "all_unique_go_tags = []\n",
    "\n",
    "for s in go_tags.keys():\n",
    "    all_unique_go_tags += go_tags[s]\n",
    "    \n",
    "all_unique_go_tags = list(set(all_unique_go_tags))"
   ]
  },
  {
   "cell_type": "markdown",
   "metadata": {},
   "source": [
    "Options for selecting the number of GOBP gene sets for plotting. <br>\n",
    "\n",
    "**Option 1:** Plot all significant BPs.<br>\n",
    "**Option 2:** Specify the top $n$ significant BPs to select for each SARS-CoV-2 protein. <br>\n",
    "**Option 3:** Specify a file containing a list of Gene Ontology Biological Processes to select. <br>"
   ]
  },
  {
   "cell_type": "code",
   "execution_count": null,
   "metadata": {},
   "outputs": [],
   "source": [
    "plot_option = 3#'high-selected_gos-top3.csv'\n",
    "\n",
    "if plot_option==np.inf:\n",
    "    selected_gos = []\n",
    "\n",
    "    for s in sources:\n",
    "        for go,q in zip(go_names[s],q_values[s]):\n",
    "            if go not in selected_gos:\n",
    "                selected_gos.append(go)\n",
    "elif type(plot_option)==int:\n",
    "    selected_gos = []\n",
    "    for s in sources:\n",
    "        n_c = min(plot_option,len(go_names[s]))\n",
    "\n",
    "        for go,q in zip(go_names[s][:n_c],q_values[s][:n_c]):\n",
    "            if go not in selected_gos and q<=fdr:\n",
    "                selected_gos.append(go)\n",
    "                \n",
    "    wf = open(state_type+'-selected_gos-top'+str(plot_option)+'.csv','w')\n",
    "\n",
    "    for s in selected_gos:\n",
    "        print(s,file=wf)\n",
    "\n",
    "    wf.close()\n",
    "else:\n",
    "    selected_gos = pd.read_csv(plot_option,header=None)[0].to_list()\n",
    "\n",
    "print(len(selected_gos))"
   ]
  },
  {
   "cell_type": "code",
   "execution_count": null,
   "metadata": {},
   "outputs": [],
   "source": [
    "total_q = (math.log10(1))*np.ones(shape=(len(selected_gos),len(sources)))\n",
    "q_matrix = np.zeros(shape=(len(selected_gos),len(sources)))\n",
    "\n",
    "for i in range(0,len(selected_gos)):\n",
    "    for j in range(0,len(sources)):\n",
    "        s_g = sources[j]\n",
    "        \n",
    "        try:\n",
    "            k = go_names[s_g].index(selected_gos[i])\n",
    "            \n",
    "            if q_values[s_g][k]<fdr:         \n",
    "                total_q[i,j] = -math.log10(q_values[s_g][k])\n",
    "            #else:\n",
    "            #    total_q[i,j] = 1.0\n",
    "            \n",
    "            q_matrix[i,j] = q_values[s_g][k]\n",
    "                \n",
    "        except ValueError:\n",
    "            pass\n",
    "\n",
    "short_sars = []\n",
    "\n",
    "for s in sources:\n",
    "    short_sars.append(s.split(' ')[1])\n",
    "    \n",
    "np.savetxt(state_type+'-q_mat-H.csv',q_matrix,delimiter=',')"
   ]
  },
  {
   "cell_type": "code",
   "execution_count": null,
   "metadata": {},
   "outputs": [],
   "source": [
    "c_max = 10#min(np.max(total_q),10.0)\n",
    "r = c_max + math.log10(fdr)\n",
    "c_min = -math.log10(fdr) - r\n",
    "\n",
    "print(np.min(total_q))\n",
    "\n",
    "print(c_max,c_min,r)"
   ]
  },
  {
   "cell_type": "code",
   "execution_count": null,
   "metadata": {},
   "outputs": [],
   "source": [
    "pixel_width = 0.5\n",
    "\n",
    "l = pixel_width*len(selected_gos)\n",
    "#w = 0.55*pixel_width*len(list(total_interaction_set))\n",
    "#print(l,w)\n",
    "#print(np.min(total_q))\n",
    "\n",
    "non_zero_short_sars = []\n",
    "\n",
    "non_zero_q = np.zeros(shape=total_q.shape)\n",
    "\n",
    "for i in range(total_q.shape[1]):\n",
    "    #print(np.sum(total_q[:,i]))\n",
    "    \n",
    "    if np.sum(total_q[:,i])>0.0:\n",
    "        non_zero_short_sars.append(short_sars[i])\n",
    "        \n",
    "        if np.sum(non_zero_q)==0.0:\n",
    "            non_zero_q = total_q[:,i]\n",
    "        else:\n",
    "            non_zero_q = np.vstack((non_zero_q,total_q[:,i]))\n",
    "    \n",
    "print(non_zero_short_sars)\n",
    "\n",
    "non_zero_q = np.transpose(non_zero_q)\n",
    "\n",
    "print(non_zero_q.shape,total_q.shape)\n",
    "\n",
    "w = 0.9*pixel_width*len(non_zero_short_sars)\n",
    "\n",
    "print(w,l)"
   ]
  },
  {
   "cell_type": "code",
   "execution_count": null,
   "metadata": {},
   "outputs": [],
   "source": [
    "fig, ax = plt.subplots(figsize=(w,l))\n",
    "\n",
    "plt.imshow(non_zero_q,cmap=cm.Greens,aspect='auto',vmin=0,vmax=c_max)\n",
    "\n",
    "cbar = plt.colorbar(fraction=0.05,pad=0.05)\n",
    "\n",
    "ax.set_xticks(np.arange(0,len(non_zero_short_sars)))\n",
    "ax.set_xticklabels(non_zero_short_sars,fontsize=20,rotation=90)\n",
    "\n",
    "ax.set_yticks(np.arange(0,len(selected_gos)))\n",
    "ax.set_yticklabels(selected_gos,fontsize=18)\n",
    "\n",
    "cbar.set_label(r'$-\\log_{10}$($Q$)',fontsize=18,rotation=-90,labelpad=20)\n",
    "cbar.ax.tick_params(labelsize=18)\n",
    "\n",
    "ax.set_xticks(np.arange(-.5, len(non_zero_short_sars), 1), minor=True)\n",
    "ax.set_yticks(np.arange(-.5, len(selected_gos), 1), minor=True)\n",
    "\n",
    "ax.grid(which='minor', color='black', linestyle='-', linewidth=1.5, alpha=0.5)"
   ]
  },
  {
   "cell_type": "code",
   "execution_count": null,
   "metadata": {},
   "outputs": [],
   "source": [
    "go_tags, go_names, p_values = fnGO.compute_p_values(sources,GO_BPs,direct_interaction_set,total_genes)#,size_threshold=gene_set_cutoff)"
   ]
  },
  {
   "cell_type": "code",
   "execution_count": null,
   "metadata": {},
   "outputs": [],
   "source": [
    "q_values = {}\n",
    "\n",
    "for s_g in sources:\n",
    "    go_tags[s_g], go_names[s_g], q_values[s_g] = fnGO.compute_q_values(p_values[s_g],go_names[s_g],go_tags[s_g],0.01)"
   ]
  },
  {
   "cell_type": "code",
   "execution_count": null,
   "metadata": {},
   "outputs": [],
   "source": [
    "total_q = (-math.log10(1))*np.ones(shape=(len(selected_gos),len(sources)))\n",
    "\n",
    "for i in range(0,len(selected_gos)):\n",
    "    for j in range(0,len(sources)):\n",
    "        s_g = sources[j]\n",
    "        \n",
    "        try:\n",
    "            k = go_names[s_g].index(selected_gos[i])\n",
    "            \n",
    "            if q_values[s_g][k]<=fdr:         \n",
    "                total_q[i,j] = -math.log10(q_values[s_g][k])\n",
    "            else:\n",
    "                total_q[i,j] = 0.0\n",
    "                \n",
    "        except ValueError:\n",
    "            pass\n",
    "\n",
    "short_sars = []\n",
    "\n",
    "for s in sources:\n",
    "    short_sars.append(s.split(' ')[1])"
   ]
  },
  {
   "cell_type": "code",
   "execution_count": null,
   "metadata": {},
   "outputs": [],
   "source": [
    "c_max = 10\n",
    "r = c_max + math.log10(fdr)\n",
    "c_min = -math.log10(fdr) - r\n",
    "\n",
    "print(np.min(total_q))\n",
    "\n",
    "print(c_max,c_min,r)"
   ]
  },
  {
   "cell_type": "code",
   "execution_count": null,
   "metadata": {},
   "outputs": [],
   "source": [
    "pixel_width = 0.5\n",
    "\n",
    "l = pixel_width*len(selected_gos)\n",
    "\n",
    "non_zero_short_sars = []\n",
    "\n",
    "non_zero_q = np.zeros(shape=total_q.shape)\n",
    "\n",
    "for i in range(total_q.shape[1]):\n",
    "    \n",
    "    if np.sum(total_q[:,i])>0.0:\n",
    "        non_zero_short_sars.append(short_sars[i])\n",
    "\n",
    "        if np.sum(non_zero_q)==0.0:\n",
    "            non_zero_q = total_q[:,i]\n",
    "        else:\n",
    "            non_zero_q = np.vstack((non_zero_q,total_q[:,i]))\n",
    "    \n",
    "print(non_zero_short_sars)\n",
    "\n",
    "non_zero_q = np.transpose(non_zero_q)\n",
    "\n",
    "print(non_zero_q.shape,total_q.shape)\n",
    "w = 0.9*pixel_width*len(non_zero_short_sars)"
   ]
  },
  {
   "cell_type": "code",
   "execution_count": null,
   "metadata": {},
   "outputs": [],
   "source": [
    "fig, ax = plt.subplots(figsize=(w,l))\n",
    "\n",
    "plt.imshow(non_zero_q,cmap=cm.binary,aspect='auto',vmin=0,vmax=c_max)\n",
    "\n",
    "cbar = plt.colorbar(fraction=0.05,pad=0.05)\n",
    "\n",
    "ax.set_xticks(np.arange(0,len(non_zero_short_sars)))\n",
    "ax.set_xticklabels(non_zero_short_sars,fontsize=20,rotation=90)\n",
    "\n",
    "ax.set_yticks(np.arange(0,len(selected_gos)))\n",
    "ax.set_yticklabels(selected_gos,fontsize=18)\n",
    "\n",
    "cbar.set_label(r'$-\\log_{10}$($Q$)',fontsize=18,rotation=-90,labelpad=40)\n",
    "cbar.ax.tick_params(labelsize=18)\n",
    "\n",
    "ax.set_xticks(np.arange(-.5, len(non_zero_short_sars), 1), minor=True)\n",
    "ax.set_yticks(np.arange(-.5, len(selected_gos), 1), minor=True)\n",
    "\n",
    "ax.grid(which='minor', color='black', linestyle='-', linewidth=1.5, alpha=0.5)"
   ]
  },
  {
   "cell_type": "code",
   "execution_count": null,
   "metadata": {},
   "outputs": [],
   "source": []
  }
 ],
 "metadata": {
  "kernelspec": {
   "display_name": "Python 3 (ipykernel)",
   "language": "python",
   "name": "python3"
  },
  "language_info": {
   "codemirror_mode": {
    "name": "ipython",
    "version": 3
   },
   "file_extension": ".py",
   "mimetype": "text/x-python",
   "name": "python",
   "nbconvert_exporter": "python",
   "pygments_lexer": "ipython3",
   "version": "3.8.9"
  }
 },
 "nbformat": 4,
 "nbformat_minor": 2
}
