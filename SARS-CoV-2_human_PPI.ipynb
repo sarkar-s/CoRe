{
 "cells": [
  {
   "cell_type": "markdown",
   "metadata": {},
   "source": [
    "# SARS-CoV2 interactions"
   ]
  },
  {
   "cell_type": "code",
   "execution_count": 1,
   "metadata": {},
   "outputs": [],
   "source": [
    "import os, sys\n",
    "import numpy as np\n",
    "import scipy as sp\n",
    "import pandas as pd\n",
    "\n",
    "import math\n",
    "\n",
    "import networkx as nx\n",
    "import matplotlib.pyplot as plt\n",
    "\n",
    "from neo4j import GraphDatabase, basic_auth\n",
    "from CoRe.cypher_commands import command_set\n",
    "from CoRe.ncip import ncip\n",
    "\n",
    "import json"
   ]
  },
  {
   "cell_type": "markdown",
   "metadata": {},
   "source": [
    "**Read SARS-CoV2 proteins and human proteins that have protein-protein interaction**"
   ]
  },
  {
   "cell_type": "code",
   "execution_count": 2,
   "metadata": {},
   "outputs": [
    {
     "name": "stdout",
     "output_type": "stream",
     "text": [
      "['SARS-CoV2 Nsp1', 'SARS-CoV2 Nsp2', 'SARS-CoV2 Nsp3', 'SARS-CoV2 Nsp4', 'SARS-CoV2 Nsp5', 'SARS-CoV2 Nsp5_C145A', 'SARS-CoV2 Nsp6', 'SARS-CoV2 Nsp7', 'SARS-CoV2 Nsp8', 'SARS-CoV2 Nsp9', 'SARS-CoV2 Nsp10', 'SARS-CoV2 Nsp11', 'SARS-CoV2 Nsp12', 'SARS-CoV2 Nsp13', 'SARS-CoV2 Nsp14', 'SARS-CoV2 Nsp15', 'SARS-CoV2 Spike', 'SARS-CoV2 ORF3a', 'SARS-CoV2 ORF3b', 'SARS-CoV2 E', 'SARS-CoV2 M', 'SARS-CoV2 ORF6', 'SARS-CoV2 ORF7a', 'SARS-CoV2 ORF8', 'SARS-CoV2 ORF9b', 'SARS-CoV2 ORF9c', 'SARS-CoV2 N', 'SARS-CoV2 ORF10']\n"
     ]
    }
   ],
   "source": [
    "data_directory = \"./Examples\"\n",
    "os.chdir(data_directory)\n",
    "\n",
    "data = pd.read_csv('SARS-Cov2_proteins.csv')\n",
    "\n",
    "Cov2_proteins = data['Bait'].to_list()\n",
    "\n",
    "interaction_proteins = data['PreyGene'].to_list()\n",
    "\n",
    "SARS_CoV2_pnames = pd.read_csv('ordered_SARS-CoV-2_proteins.csv')['Bait'].to_list()\n",
    "print(SARS_CoV2_pnames)\n",
    "\n",
    "CoV2_interactions = {}\n",
    "\n",
    "for CoV2_protein in SARS_CoV2_pnames:\n",
    "    CoV2_interactions[CoV2_protein] = []\n",
    "\n",
    "for a,b in zip(Cov2_proteins,interaction_proteins):\n",
    "    CoV2_interactions[a].append(b)\n",
    "    \n",
    "# create json object from dictionary\n",
    "json_obj = json.dumps(CoV2_interactions)\n",
    "\n",
    "# open file for writing, \"w\" \n",
    "f = open('SARS_CoV2-interactions.json','w')\n",
    "\n",
    "# write json object to file\n",
    "f.write(json_obj)\n",
    "\n",
    "# close file\n",
    "f.close()"
   ]
  },
  {
   "cell_type": "markdown",
   "metadata": {},
   "source": [
    "Read the NetworkX graph of the chosen top level pathway."
   ]
  },
  {
   "cell_type": "code",
   "execution_count": 3,
   "metadata": {},
   "outputs": [],
   "source": [
    "selected_pathway = 'Immune System'\n",
    "pathway_nametag = selected_pathway.replace(' ','_')\n",
    "\n",
    "network_type = 'medium'\n",
    "\n",
    "os.chdir(pathway_nametag)\n",
    "\n",
    "netObj = ncip()\n",
    "netObj.load_graph(pathway_nametag+\"-\"+network_type+\".gml\")"
   ]
  },
  {
   "cell_type": "code",
   "execution_count": 4,
   "metadata": {},
   "outputs": [
    {
     "name": "stdout",
     "output_type": "stream",
     "text": [
      "1468\n"
     ]
    }
   ],
   "source": [
    "node_list = netObj.G_d.nodes.data()\n",
    "\n",
    "ref_genes = [x[0] for x in node_list if x[1]['sequenced']!=0]\n",
    "\n",
    "print(len(ref_genes))"
   ]
  },
  {
   "cell_type": "markdown",
   "metadata": {},
   "source": [
    "**Identify graph nodes that match with the protein-protein interaction data.**"
   ]
  },
  {
   "cell_type": "code",
   "execution_count": 5,
   "metadata": {},
   "outputs": [
    {
     "name": "stdout",
     "output_type": "stream",
     "text": [
      "Directly interacting reference gene products:\n",
      "\n",
      "SARS-CoV2 Nsp2 ['SLC27A2', 'EIF4E2']\n",
      "SARS-CoV2 Nsp7 ['CYB5R3', 'RALA', 'RAB5C', 'RAB7A', 'RAB10', 'RAB14', 'RHOA', 'PTGES2', 'RAB18']\n",
      "SARS-CoV2 Nsp8 ['HECTD1']\n",
      "SARS-CoV2 Nsp10 ['AP2A2']\n",
      "SARS-CoV2 Nsp12 ['RIPK1']\n",
      "SARS-CoV2 Nsp13 ['TBK1']\n",
      "SARS-CoV2 Nsp14 ['GLA', 'IMPDH2']\n",
      "SARS-CoV2 Nsp15 ['RNF41']\n",
      "SARS-CoV2 Spike ['GOLGA7']\n",
      "SARS-CoV2 ORF3a ['HMOX1']\n",
      "SARS-CoV2 E ['SLC44A2']\n",
      "SARS-CoV2 M ['STOM', 'ANO6']\n",
      "SARS-CoV2 ORF8 ['ITGB1', 'PVR', 'NPC2', 'GGH', 'IL17RA', 'NEU1', 'ERP44']\n",
      "SARS-CoV2 ORF9b ['TOMM70']\n",
      "SARS-CoV2 ORF9c ['NLRX1', 'ECSIT']\n",
      "SARS-CoV2 N ['CSNK2B']\n",
      "SARS-CoV2 ORF10 ['ELOC', 'ELOB']\n"
     ]
    }
   ],
   "source": [
    "CoV2_immune_interactions_node_id = {}\n",
    "\n",
    "print('Directly interacting reference gene products:\\n')\n",
    "    \n",
    "for CoV2_protein in SARS_CoV2_pnames:\n",
    "    CoV2_immune_interactions_node_id[CoV2_protein] = []\n",
    "    \n",
    "    #for hp in CoV2_interactions[CoV2_protein]:\n",
    "    #    if hp in ref_genes and hp not in CoV2_immune_interactions_node_id[CoV2_protein]:\n",
    "    #        CoV2_immune_interactions_node_id[CoV2_protein].append(hp)\n",
    "            \n",
    "    CoV2_immune_interactions_node_id[CoV2_protein] = [hp for hp in CoV2_interactions[CoV2_protein] if hp in ref_genes and hp not in CoV2_immune_interactions_node_id[CoV2_protein]]\n",
    "                        \n",
    "    if len(CoV2_immune_interactions_node_id[CoV2_protein])==0:\n",
    "        del CoV2_immune_interactions_node_id[CoV2_protein]\n",
    "    else:\n",
    "        print(CoV2_protein,CoV2_immune_interactions_node_id[CoV2_protein])\n",
    "        \n",
    "all_interacting_nodes = []\n",
    "for v in CoV2_immune_interactions_node_id.values():\n",
    "    all_interacting_nodes += v"
   ]
  },
  {
   "cell_type": "code",
   "execution_count": 6,
   "metadata": {},
   "outputs": [],
   "source": [
    "# create json object from dictionary\n",
    "json = json.dumps(CoV2_immune_interactions_node_id)\n",
    "\n",
    "f = open('SARS_CoV2-'+pathway_nametag+'_interactions.json','w')\n",
    "\n",
    "f.write(json)\n",
    "\n",
    "f.close()"
   ]
  },
  {
   "cell_type": "markdown",
   "metadata": {},
   "source": [
    "**Set direct interaction with SARS-CoV-2 as a 'True' or 'False' attribute of the network node and save it to the NetworkX graph**"
   ]
  },
  {
   "cell_type": "code",
   "execution_count": null,
   "metadata": {},
   "outputs": [],
   "source": [
    "SARS_nodes = {}\n",
    "\n",
    "for n in netObj.G_d.nodes:\n",
    "    check = False\n",
    "    for CoV2_protein in CoV2_immune_interactions_node_id.keys():\n",
    "        if n in CoV2_immune_interactions_node_id[CoV2_protein]:\n",
    "            check = True\n",
    "    \n",
    "    SARS_nodes[n] = check"
   ]
  },
  {
   "cell_type": "code",
   "execution_count": null,
   "metadata": {},
   "outputs": [],
   "source": [
    "G_d = nx.read_gml(pathway_nametag+\"-\"+network_type+\".gml\")\n",
    "\n",
    "nx.set_node_attributes(G_d, SARS_nodes, \"covid\")\n",
    "\n",
    "nx.write_gml(G_d,pathway_nametag+\"-\"+network_type+\".gml\")"
   ]
  },
  {
   "cell_type": "code",
   "execution_count": null,
   "metadata": {},
   "outputs": [],
   "source": [
    "node_class = nx.get_node_attributes(G_d,\"class\")\n",
    "node_covid = nx.get_node_attributes(G_d,\"covid\")\n",
    "\n",
    "node_schemaClass = {}\n",
    "\n",
    "for n in G_d.nodes:\n",
    "    if node_covid[n]==True:\n",
    "        node_schemaClass[n] = \"SARSCoV2\"\n",
    "    else:\n",
    "        node_schemaClass[n] = node_class[n]\n",
    "        \n",
    "nx.set_node_attributes(G_d, node_schemaClass, \"class\")\n",
    "\n",
    "nx.write_gml(G_d,pathway_nametag+\"-\"+network_type+\"-plot.gml\")"
   ]
  },
  {
   "cell_type": "code",
   "execution_count": null,
   "metadata": {},
   "outputs": [],
   "source": []
  }
 ],
 "metadata": {
  "kernelspec": {
   "display_name": "Python 3 (ipykernel)",
   "language": "python",
   "name": "python3"
  },
  "language_info": {
   "codemirror_mode": {
    "name": "ipython",
    "version": 3
   },
   "file_extension": ".py",
   "mimetype": "text/x-python",
   "name": "python",
   "nbconvert_exporter": "python",
   "pygments_lexer": "ipython3",
   "version": "3.8.9"
  }
 },
 "nbformat": 4,
 "nbformat_minor": 2
}
